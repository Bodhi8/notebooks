{
 "cells": [
  {
   "cell_type": "code",
   "execution_count": 1,
   "metadata": {
    "collapsed": true
   },
   "outputs": [],
   "source": [
    "import matplotlib.pyplot as plt\n",
    "%matplotlib inline\n",
    "\n",
    "MARKERS = ['+', 'x', '.']\n",
    "COLORS = ['red', 'green', 'blue']\n",
    "\n",
    "def plot_points(xy, labels):\n",
    "    \n",
    "    for i, label in enumerate(set(labels)):\n",
    "        points = np.array([xy[j,:] for j in range(len(xy)) if labels[j] == label])\n",
    "        marker = MARKERS[i % len(MARKERS)]\n",
    "        color = COLORS[i % len(COLORS)]\n",
    "        plt.scatter(points[:,0], points[:,1], marker=marker, color=color)\n",
    "        \n",
    "def plot_boundary(X, pred):\n",
    "    \n",
    "    x_min, x_max = X[:,0].min() - .1, X[:,0].max() + .1\n",
    "    y_min, y_max = X[:,1].min() - .1, X[:,1].max() + .1\n",
    "    \n",
    "    xs, ys = np.meshgrid(\n",
    "        np.linspace(x_min, x_max, 200),\n",
    "        np.linspace(y_min, y_max, 200)\n",
    "    )\n",
    "\n",
    "    xys = np.column_stack([xs.ravel(), ys.ravel()])\n",
    "    zs = pred(xys).reshape(xs.shape)\n",
    "\n",
    "    plt.contour(xs, ys, zs, colors='black')"
   ]
  },
  {
   "cell_type": "code",
   "execution_count": 6,
   "metadata": {
    "collapsed": false
   },
   "outputs": [
    {
     "name": "stdout",
     "output_type": "stream",
     "text": [
      "Iteration 0: 1.419864\n",
      "Iteration 1000: 0.123540\n",
      "Iteration 2000: 0.094847\n",
      "Iteration 3000: 0.086482\n",
      "Iteration 4000: 0.082270\n",
      "Iteration 5000: 0.079756\n",
      "Iteration 6000: 0.078093\n",
      "Iteration 7000: 0.076915\n",
      "Iteration 8000: 0.076044\n",
      "Iteration 9000: 0.075381\n",
      "Iteration 10000: 0.074867\n",
      "Iteration 11000: 0.074463\n",
      "Iteration 12000: 0.074144\n",
      "Iteration 13000: 0.073890\n",
      "Iteration 14000: 0.073686\n",
      "Iteration 15000: 0.073520\n",
      "Iteration 16000: 0.073385\n",
      "Iteration 17000: 0.073274\n",
      "Iteration 18000: 0.073180\n",
      "Iteration 19000: 0.073099\n",
      "0.995\n"
     ]
    }
   ],
   "source": [
    "import numpy as np\n",
    "import sklearn\n",
    "import sklearn.datasets\n",
    "from sklearn.preprocessing import label_binarize\n",
    "from sklearn.metrics import accuracy_score\n",
    "\n",
    "X, y = sklearn.datasets.make_moons(200, noise=0.20)\n",
    "\n",
    "n_examples = len(X)\n",
    "n_features = 2\n",
    "n_hidden = 6\n",
    "n_labels = 2\n",
    "alpha = 0.01\n",
    "lambda_ = 0.01\n",
    "\n",
    "def sigmoid(z):\n",
    "    return 1.0/(1.0+np.exp(-z))\n",
    "\n",
    "def sigmoid_prime(z):\n",
    "    return sigmoid(z)*(1-sigmoid(z))\n",
    "\n",
    "\n",
    "\n",
    "class Network(object):\n",
    "    \n",
    "    def __init__(self, n_features, n_hidden, n_labels):\n",
    "        self.weights = [\n",
    "            np.random.randn(n_features, n_hidden),\n",
    "            np.random.randn(n_hidden, n_labels)\n",
    "        ]\n",
    "        self.biases = [\n",
    "            np.random.randn(1, n_hidden),\n",
    "            np.random.randn(1, n_labels)\n",
    "        ]\n",
    "\n",
    "    def predict(self, X):\n",
    "        a, _ = self._feed_forward(X)\n",
    "        return np.argmax(a[-1], axis=1)\n",
    "\n",
    "    def cost(self, X):\n",
    "        yy = label_binarize([i + 1 for i in y], [1, 2, 3])[:,0:2]\n",
    "\n",
    "        a, _ = self._feed_forward(X)\n",
    "        an = a[-1]\n",
    "\n",
    "        err = (-yy) * np.log(an) - (1 - yy) * np.log(1 - an)\n",
    "        cost = np.sum(err) / n_examples\n",
    "\n",
    "        return cost\n",
    "\n",
    "    def _feed_forward(self, X):\n",
    "        a = [X]\n",
    "        z = [X]\n",
    "\n",
    "        for w, b in zip(self.weights, self.biases):\n",
    "            z.append(np.dot(a[-1], w) + b)\n",
    "            a.append(sigmoid(z[-1]))\n",
    "\n",
    "        return a, z\n",
    "\n",
    "    def fit(self, X, num_passes=20000):\n",
    "\n",
    "        W1 = self.weights[0]\n",
    "        W2 = self.weights[1]\n",
    "        b1 = self.biases[0]\n",
    "        b2 = self.biases[1]\n",
    "        yy = label_binarize([i + 1 for i in y], [1, 2, 3])[:,0:2]\n",
    "\n",
    "        for i in range(0, num_passes):\n",
    "\n",
    "            a, z = self._feed_forward(X)\n",
    "            _, a1, a2 = a\n",
    "            _, z1, z2 = z\n",
    "\n",
    "            delta3 = a2 - yy\n",
    "            dW2 = (a1.T).dot(delta3)\n",
    "            db2 = np.sum(delta3, axis=0, keepdims=True)\n",
    "            delta2 = delta3.dot(W2.T) * sigmoid_prime(z1)#(1 - np.power(a1, 2))\n",
    "            dW1 = np.dot(X.T, delta2)\n",
    "            db1 = np.sum(delta2, axis=0)\n",
    "\n",
    "            dW2 += lambda_ * W2\n",
    "            dW1 += lambda_ * W1\n",
    "\n",
    "            W1 += -alpha * dW1\n",
    "            b1 += -alpha * db1\n",
    "            W2 += -alpha * dW2\n",
    "            b2 += -alpha * db2\n",
    "\n",
    "            self.weights = [W1, W2]\n",
    "            self.biases = [b1, b2]\n",
    "\n",
    "            if i % 1000 == 0:\n",
    "                print(\"Iteration %i: %f\" %(i, self.cost(X)))\n",
    "\n",
    "network = Network(n_features, n_hidden, n_labels)\n",
    "network.fit(X)\n",
    "\n",
    "print(accuracy_score(y, network.predict(X)))"
   ]
  },
  {
   "cell_type": "code",
   "execution_count": 7,
   "metadata": {
    "collapsed": false
   },
   "outputs": [
    {
     "data": {
      "image/png": "[encoded data removed]",
      "text/plain": [
       "<matplotlib.figure.Figure at 0x11861fe80>"
      ]
     },
     "metadata": {},
     "output_type": "display_data"
    }
   ],
   "source": [
    "plot_points(X, y)\n",
    "plot_boundary(X, lambda x: predict(model, x))"
   ]
  },
  {
   "cell_type": "code",
   "execution_count": null,
   "metadata": {
    "collapsed": true
   },
   "outputs": [],
   "source": []
  }
 ],
 "metadata": {
  "anaconda-cloud": {},
  "kernelspec": {
   "display_name": "Python 3",
   "language": "python",
   "name": "python3"
  },
  "language_info": {
   "codemirror_mode": {
    "name": "ipython",
    "version": 3
   },
   "file_extension": ".py",
   "mimetype": "text/x-python",
   "name": "python",
   "nbconvert_exporter": "python",
   "pygments_lexer": "ipython3",
   "version": "3.6.0"
  }
 },
 "nbformat": 4,
 "nbformat_minor": 2
}
