{
 "cells": [
  {
   "cell_type": "code",
   "execution_count": 1,
   "metadata": {
    "collapsed": true
   },
   "outputs": [],
   "source": [
    "import matplotlib.pyplot as plt\n",
    "%matplotlib inline\n",
    "\n",
    "MARKERS = ['+', 'x', '.']\n",
    "COLORS = ['red', 'green', 'blue']\n",
    "\n",
    "def plot_points(xy, labels):\n",
    "    \n",
    "    for i, label in enumerate(set(labels)):\n",
    "        points = np.array([xy[j,:] for j in range(len(xy)) if labels[j] == label])\n",
    "        marker = MARKERS[i % len(MARKERS)]\n",
    "        color = COLORS[i % len(COLORS)]\n",
    "        plt.scatter(points[:,0], points[:,1], marker=marker, color=color)\n",
    "        \n",
    "def plot_boundary(X, pred):\n",
    "    \n",
    "    x_min, x_max = X[:,0].min() - .1, X[:,0].max() + .1\n",
    "    y_min, y_max = X[:,1].min() - .1, X[:,1].max() + .1\n",
    "    \n",
    "    xs, ys = np.meshgrid(\n",
    "        np.linspace(x_min, x_max, 200),\n",
    "        np.linspace(y_min, y_max, 200)\n",
    "    )\n",
    "\n",
    "    xys = np.column_stack([xs.ravel(), ys.ravel()])\n",
    "    zs = pred(xys).reshape(xs.shape)\n",
    "\n",
    "    plt.contour(xs, ys, zs, colors='black')"
   ]
  },
  {
   "cell_type": "code",
   "execution_count": 39,
   "metadata": {
    "collapsed": false
   },
   "outputs": [
    {
     "name": "stdout",
     "output_type": "stream",
     "text": [
      "Iteration 0: 1.840812\n",
      "Iteration 1000: 0.364501\n",
      "Iteration 2000: 0.340125\n",
      "Iteration 3000: 0.317442\n",
      "Iteration 4000: 0.281522\n",
      "Iteration 5000: 0.256003\n",
      "Iteration 6000: 0.237460\n",
      "Iteration 7000: 0.219906\n",
      "Iteration 8000: 0.195373\n",
      "Iteration 9000: 0.168037\n",
      "Iteration 10000: 0.149928\n",
      "Iteration 11000: 0.135289\n",
      "Iteration 12000: 0.126326\n",
      "Iteration 13000: 0.121771\n",
      "Iteration 14000: 0.118938\n",
      "Iteration 15000: 0.116852\n",
      "Iteration 16000: 0.115161\n",
      "Iteration 17000: 0.113708\n",
      "Iteration 18000: 0.112415\n",
      "Iteration 19000: 0.135646\n",
      "0.955\n"
     ]
    }
   ],
   "source": [
    "import numpy as np\n",
    "import sklearn\n",
    "import sklearn.datasets\n",
    "from sklearn.preprocessing import label_binarize\n",
    "from sklearn.metrics import accuracy_score\n",
    "\n",
    "def sigmoid(z):\n",
    "    return 1.0/(1.0+np.exp(-z))\n",
    "\n",
    "def sigmoid_prime(z):\n",
    "    return sigmoid(z)*(1-sigmoid(z))\n",
    "\n",
    "class Network(object):\n",
    "    \n",
    "    def __init__(self, sizes):\n",
    "        sizes_offset = zip(sizes[:-1], sizes[1:])\n",
    "\n",
    "        self.weights = [np.random.randn(s1, s2) for s1, s2 in sizes_offset]\n",
    "        self.biases = [np.random.randn(1, s) for s in sizes[1:]]\n",
    "\n",
    "    def predict(self, X):\n",
    "        activations, _ = self._feed_forward(X)\n",
    "        return np.argmax(activations[-1], axis=1)\n",
    "\n",
    "    def cost(self, X, y):\n",
    "\n",
    "        activations, _ = self._feed_forward(X)\n",
    "        pred = activations[-1]\n",
    "        err = (-y) * np.log(pred) - (1 - y) * np.log(1 - pred)\n",
    "        cost = np.sum(err) / len(X)\n",
    "\n",
    "        return cost\n",
    "\n",
    "    def _feed_forward(self, X):\n",
    "\n",
    "        activations = [X]\n",
    "        combinations = [X]\n",
    "\n",
    "        for weights, bias in zip(self.weights, self.biases):\n",
    "            combinations.append(np.dot(activations[-1], weights) + bias)\n",
    "            activations.append(sigmoid(combinations[-1]))\n",
    "\n",
    "        return activations, combinations\n",
    "\n",
    "    def _backpropagate(self, X, y, reg):\n",
    "\n",
    "        activations, combinations = self._feed_forward(X)\n",
    "        delta_w = []\n",
    "        delta_b = []\n",
    "        delta = activations[-1] - y\n",
    "\n",
    "        for j in reversed(range(len(self.weights))):\n",
    "            a = activations[j]\n",
    "            z = combinations[j]\n",
    "            w = self.weights[j]\n",
    "\n",
    "            dw = np.dot(a.T, delta) + reg * w\n",
    "            db = np.sum(delta, axis=0)\n",
    "            delta = delta.dot(w.T) * sigmoid_prime(z)\n",
    "\n",
    "            delta_b.insert(0, db)\n",
    "            delta_w.insert(0, dw)\n",
    "\n",
    "        return delta_w, delta_b\n",
    "\n",
    "\n",
    "    def fit(self, X, y, iterations=20000, alpha=0.01, reg=0):#0.03):\n",
    "\n",
    "        for i in range(iterations):\n",
    "\n",
    "            delta_w, delta_b = self._backpropagate(X, y, reg)\n",
    "\n",
    "            self.weights = [w - alpha * d for w, d in zip(self.weights, delta_w)]\n",
    "            self.biases = [b - alpha * d for b, d in zip(self.biases, delta_b)]\n",
    "\n",
    "            if i % 1000 == 0:\n",
    "                print(\"Iteration %i: %f\" %(i, self.cost(X, y)))\n",
    "\n",
    "X, y = sklearn.datasets.make_moons(200, noise=0.30)\n",
    "yy = label_binarize([i + 1 for i in y], [1, 2, 3])[:,0:2]\n",
    "\n",
    "network = Network([X.shape[1], 10, 10, 10, yy.shape[1]])\n",
    "network.fit(X, yy)\n",
    "\n",
    "print(accuracy_score(y, network.predict(X)))"
   ]
  },
  {
   "cell_type": "code",
   "execution_count": 40,
   "metadata": {
    "collapsed": false
   },
   "outputs": [
    {
     "data": {
      "image/png": "[encoded data removed]",
      "text/plain": [
       "<matplotlib.figure.Figure at 0x120f50e10>"
      ]
     },
     "metadata": {},
     "output_type": "display_data"
    }
   ],
   "source": [
    "plot_points(X, y)\n",
    "plot_boundary(X, lambda x: network.predict(x))"
   ]
  },
  {
   "cell_type": "code",
   "execution_count": null,
   "metadata": {
    "collapsed": true
   },
   "outputs": [],
   "source": []
  },
  {
   "cell_type": "code",
   "execution_count": null,
   "metadata": {
    "collapsed": true
   },
   "outputs": [],
   "source": []
  }
 ],
 "metadata": {
  "anaconda-cloud": {},
  "kernelspec": {
   "display_name": "Python 3",
   "language": "python",
   "name": "python3"
  },
  "language_info": {
   "codemirror_mode": {
    "name": "ipython",
    "version": 3
   },
   "file_extension": ".py",
   "mimetype": "text/x-python",
   "name": "python",
   "nbconvert_exporter": "python",
   "pygments_lexer": "ipython3",
   "version": "3.6.0"
  }
 },
 "nbformat": 4,
 "nbformat_minor": 2
}
