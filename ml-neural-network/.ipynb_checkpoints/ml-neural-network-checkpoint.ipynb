{
 "cells": [
  {
   "cell_type": "code",
   "execution_count": 5,
   "metadata": {
    "collapsed": true
   },
   "outputs": [],
   "source": [
    "import matplotlib.pyplot as plt\n",
    "%matplotlib inline\n",
    "\n",
    "MARKERS = ['+', 'x', '.']\n",
    "COLORS = ['red', 'green', 'blue']\n",
    "\n",
    "def plot_points(xy, labels):\n",
    "    \n",
    "    for i, label in enumerate(set(labels)):\n",
    "        points = np.array([xy[j,:] for j in range(len(xy)) if labels[j] == label])\n",
    "        marker = MARKERS[i % len(MARKERS)]\n",
    "        color = COLORS[i % len(COLORS)]\n",
    "        plt.scatter(points[:,0], points[:,1], marker=marker, color=color)\n",
    "        \n",
    "def plot_boundary(X, pred):\n",
    "    \n",
    "    x_min, x_max = X[:,0].min() - .1, X[:,0].max() + .1\n",
    "    y_min, y_max = X[:,1].min() - .1, X[:,1].max() + .1\n",
    "    \n",
    "    xs, ys = np.meshgrid(\n",
    "        np.linspace(x_min, x_max, 200),\n",
    "        np.linspace(y_min, y_max, 200)\n",
    "    )\n",
    "\n",
    "    xys = np.column_stack([xs.ravel(), ys.ravel()])\n",
    "    zs = pred(xys).reshape(xs.shape)\n",
    "\n",
    "    plt.contour(xs, ys, zs, colors='black')"
   ]
  },
  {
   "cell_type": "code",
   "execution_count": 9,
   "metadata": {
    "collapsed": false
   },
   "outputs": [
    {
     "name": "stdout",
     "output_type": "stream",
     "text": [
      "Iteration 0: 2.199030\n",
      "Iteration 1000: 0.162634\n",
      "Iteration 2000: 0.130294\n",
      "Iteration 3000: 0.120330\n",
      "Iteration 4000: 0.114737\n",
      "Iteration 5000: 0.111051\n",
      "Iteration 6000: 0.108502\n",
      "Iteration 7000: 0.106673\n",
      "Iteration 8000: 0.105331\n",
      "Iteration 9000: 0.104316\n",
      "Iteration 10000: 0.103512\n",
      "Iteration 11000: 0.102834\n",
      "Iteration 12000: 0.102217\n",
      "Iteration 13000: 0.101604\n",
      "Iteration 14000: 0.100931\n",
      "Iteration 15000: 0.100110\n",
      "Iteration 16000: 0.099005\n",
      "Iteration 17000: 0.097418\n",
      "Iteration 18000: 0.095192\n",
      "Iteration 19000: 0.092629\n",
      "0.975\n"
     ]
    }
   ],
   "source": [
    "import numpy as np\n",
    "import sklearn\n",
    "import sklearn.datasets\n",
    "from sklearn.preprocessing import label_binarize\n",
    "\n",
    "X, y = sklearn.datasets.make_moons(200, noise=0.20)\n",
    "\n",
    "n_examples = len(X)\n",
    "n_features = 2\n",
    "n_labels = 2\n",
    "alpha = 0.01\n",
    "lambda_ = 0.01\n",
    "\n",
    "def sigmoid(z):\n",
    "    return 1.0/(1.0+np.exp(-z))\n",
    "\n",
    "def sigmoid_prime(z):\n",
    "    return sigmoid(z)*(1-sigmoid(z))\n",
    "\n",
    "def calculate_loss(model):\n",
    "    W1, b1, W2, b2 = model['W1'], model['b1'], model['W2'], model['b2']\n",
    "    yy = label_binarize([i + 1 for i in y], [1, 2, 3])[:,0:2]\n",
    "\n",
    "    z1 = X.dot(W1) + b1\n",
    "    a1 = sigmoid(z1)\n",
    "    z2 = a1.dot(W2) + b2\n",
    "    a2 = sigmoid(z2)\n",
    "\n",
    "    err = (-yy) * np.log(a2) - (1 - yy) * np.log(1 - a2)\n",
    "    cost = np.sum(err) / n_examples\n",
    "\n",
    "    return cost\n",
    "\n",
    "def predict(model, x):\n",
    "    W1, b1, W2, b2 = model['W1'], model['b1'], model['W2'], model['b2']\n",
    "\n",
    "    z1 = x.dot(W1) + b1\n",
    "    a1 = sigmoid(z1)\n",
    "    z2 = a1.dot(W2) + b2\n",
    "    a2 = sigmoid(z2)\n",
    "\n",
    "    return np.argmax(a2, axis=1)\n",
    "\n",
    "class Network(object):\n",
    "    \n",
    "    def __init__(self, n_features, n_hidden, n_labels):\n",
    "        self.weights = [\n",
    "            #np.random.randn\n",
    "        ]\n",
    "\n",
    "def train(nn_hdim, num_passes=20000, print_loss=False):\n",
    "\n",
    "    np.random.seed(0)\n",
    "    W1 = np.random.randn(n_features, nn_hdim)# / np.sqrt(n_features)\n",
    "    b1 = np.zeros((1, nn_hdim))\n",
    "    W2 = np.random.randn(nn_hdim, n_labels)# / np.sqrt(nn_hdim)\n",
    "    b2 = np.zeros((1, n_labels))\n",
    "\n",
    "    model = {}\n",
    "\n",
    "    for i in range(0, num_passes):\n",
    "\n",
    "        z1 = X.dot(W1) + b1\n",
    "        a1 = sigmoid(z1)\n",
    "        z2 = a1.dot(W2) + b2\n",
    "        probs = sigmoid(z2)\n",
    "\n",
    "        delta3 = probs\n",
    "        delta3[range(n_examples), y] -= 1\n",
    "        dW2 = (a1.T).dot(delta3)\n",
    "        db2 = np.sum(delta3, axis=0, keepdims=True)\n",
    "        delta2 = delta3.dot(W2.T) * sigmoid_prime(z1)#(1 - np.power(a1, 2))\n",
    "        dW1 = np.dot(X.T, delta2)\n",
    "        db1 = np.sum(delta2, axis=0)\n",
    "\n",
    "        dW2 += lambda_ * W2\n",
    "        dW1 += lambda_ * W1\n",
    "\n",
    "        W1 += -alpha * dW1\n",
    "        b1 += -alpha * db1\n",
    "        W2 += -alpha * dW2\n",
    "        b2 += -alpha * db2\n",
    "\n",
    "        model = { 'W1': W1, 'b1': b1, 'W2': W2, 'b2': b2}\n",
    "\n",
    "        if print_loss and i % 1000 == 0:\n",
    "          print(\"Iteration %i: %f\" %(i, calculate_loss(model)))\n",
    "\n",
    "    return model\n",
    "\n",
    "model = train(20, print_loss=True)\n",
    "r = predict(model, X)\n",
    "\n",
    "from sklearn.metrics import accuracy_score\n",
    "print(accuracy_score(y, predict(model, X)))"
   ]
  },
  {
   "cell_type": "code",
   "execution_count": 10,
   "metadata": {
    "collapsed": false
   },
   "outputs": [
    {
     "data": {
      "image/png": "[encoded data removed]",
      "text/plain": [
       "<matplotlib.figure.Figure at 0x1130259e8>"
      ]
     },
     "metadata": {},
     "output_type": "display_data"
    }
   ],
   "source": [
    "plot_points(X, y)\n",
    "plot_boundary(X, lambda x: predict(model, x))"
   ]
  },
  {
   "cell_type": "code",
   "execution_count": null,
   "metadata": {
    "collapsed": true
   },
   "outputs": [],
   "source": []
  }
 ],
 "metadata": {
  "anaconda-cloud": {},
  "kernelspec": {
   "display_name": "Python [default]",
   "language": "python",
   "name": "python3"
  },
  "language_info": {
   "codemirror_mode": {
    "name": "ipython",
    "version": 3
   },
   "file_extension": ".py",
   "mimetype": "text/x-python",
   "name": "python",
   "nbconvert_exporter": "python",
   "pygments_lexer": "ipython3",
   "version": "3.5.2"
  }
 },
 "nbformat": 4,
 "nbformat_minor": 2
}
