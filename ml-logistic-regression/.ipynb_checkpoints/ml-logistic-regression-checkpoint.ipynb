{
 "cells": [
  {
   "cell_type": "markdown",
   "metadata": {},
   "source": [
    "First, we load our data.  This time, I'm adding a column of 1s directly to the dataframe, so that it's already there later on when we want to build new sets of training data.\n",
    "\n",
    " - note on binarize\n",
    " - matrix treatment"
   ]
  },
  {
   "cell_type": "code",
   "execution_count": 1,
   "metadata": {
    "collapsed": false
   },
   "outputs": [],
   "source": [
    "import pandas as pd\n",
    "import numpy as np\n",
    "from sklearn.preprocessing import label_binarize\n",
    "\n",
    "data = pd.read_csv('data.txt')\n",
    "data.insert(0, '1', 1)\n",
    "\n",
    "X = data.as_matrix(columns=['1', 'alcohol', 'ash'])\n",
    "y = np.matrix(label_binarize(data['class'], [1, 2, 3]))[:,0]"
   ]
  },
  {
   "cell_type": "markdown",
   "metadata": {},
   "source": [
    " - train / test sets"
   ]
  },
  {
   "cell_type": "code",
   "execution_count": 2,
   "metadata": {
    "collapsed": false
   },
   "outputs": [
    {
     "name": "stdout",
     "output_type": "stream",
     "text": [
      "train: 142 test: 36\n"
     ]
    }
   ],
   "source": [
    "from sklearn.model_selection import train_test_split\n",
    "\n",
    "X_train, X_test, y_train, y_test = train_test_split(X, y, test_size=0.2)\n",
    "print('train:', len(X_train), 'test:', len(X_test))"
   ]
  },
  {
   "cell_type": "code",
   "execution_count": 3,
   "metadata": {
    "collapsed": false
   },
   "outputs": [
    {
     "data": {
      "text/plain": [
       "<matplotlib.collections.PathCollection at 0x1171b9b38>"
      ]
     },
     "execution_count": 3,
     "metadata": {},
     "output_type": "execute_result"
    },
    {
     "data": {
      "image/png": "[encoded data removed]",
      "text/plain": [
       "<matplotlib.figure.Figure at 0x11349b748>"
      ]
     },
     "metadata": {},
     "output_type": "display_data"
    }
   ],
   "source": [
    "import matplotlib.pyplot as plt\n",
    "%matplotlib inline\n",
    "\n",
    "def filter_by_label(X, y, value):\n",
    "    return np.matrix([X[i,:] for i in range(len(X)) if y[i,0] == value])\n",
    "\n",
    "x0 = filter_by_label(X_train, y_train, 0)\n",
    "x1 = filter_by_label(X_train, y_train, 1)\n",
    "plt.scatter(x0[:,1], x0[:,2], marker='+', color='red')\n",
    "plt.scatter(x1[:,1], x1[:,2], marker='x', color='green')"
   ]
  },
  {
   "cell_type": "code",
   "execution_count": 4,
   "metadata": {
    "collapsed": false
   },
   "outputs": [],
   "source": [
    "import numpy as np\n",
    "\n",
    "def sigmoid(X):\n",
    "    return 1 / (1 + np.exp(-X))\n",
    "\n",
    "def predict(X, theta):\n",
    "    return sigmoid(X * np.matrix(theta).T) >= 0.5\n",
    "\n",
    "def cost(theta, X, y):\n",
    "    theta = np.matrix(theta)\n",
    "    \n",
    "    h = sigmoid(np.matmul(X, theta.T))\n",
    "    y1 = np.multiply(-y, np.log(h))\n",
    "    y0 = np.multiply((1 - y), np.log(1 - h))\n",
    "    j = np.sum(y1 - y0) / (len(X))\n",
    "    return j\n",
    "\n",
    "def gradient(theta, X, y):\n",
    "    error = sigmoid(X * np.matrix(theta).T) - y\n",
    "    grad = (1/len(X)) * np.matmul(X.T, error)\n",
    "    \n",
    "    return grad"
   ]
  },
  {
   "cell_type": "code",
   "execution_count": 5,
   "metadata": {
    "collapsed": false
   },
   "outputs": [
    {
     "name": "stdout",
     "output_type": "stream",
     "text": [
      "theta:  [-40.81836651   2.80861129   1.2486768 ]\n",
      "cost: 0.364590455852\n"
     ]
    }
   ],
   "source": [
    "import scipy.optimize as opt  \n",
    "\n",
    "result = opt.fmin_tnc(func=cost, x0=np.zeros(3), fprime=gradient, args=(X_train, y_train))\n",
    "theta = result[0]\n",
    "\n",
    "print('theta: ', theta)\n",
    "print('cost:', cost(theta, X, y))"
   ]
  },
  {
   "cell_type": "code",
   "execution_count": 6,
   "metadata": {
    "collapsed": false
   },
   "outputs": [
    {
     "data": {
      "text/plain": [
       "<matplotlib.collections.PathCollection at 0x1171b9ac8>"
      ]
     },
     "execution_count": 6,
     "metadata": {},
     "output_type": "execute_result"
    },
    {
     "data": {
      "image/png": "[encoded data removed]",
      "text/plain": [
       "<matplotlib.figure.Figure at 0x109c67a90>"
      ]
     },
     "metadata": {},
     "output_type": "display_data"
    }
   ],
   "source": [
    "from matplotlib import cm\n",
    "\n",
    "def plot_boundary(X, theta, p):\n",
    "    \n",
    "    x_min, x_max = X[:,1].min() - 1, X[:,1].max() + 1\n",
    "    y_min, y_max = X[:,2].min() - 1, X[:,2].max() + 1\n",
    "    xx, yy = np.meshgrid(\n",
    "        np.linspace(x_min, x_max, 100),\n",
    "        np.linspace(-10, y_max, 100)\n",
    "    )\n",
    "\n",
    "    inputs = np.c_[np.ones(10000), xx.ravel(), yy.ravel()]\n",
    "    predictions = p(inputs, theta).reshape(xx.shape)\n",
    "\n",
    "    plt.xlim(x_min, x_max)\n",
    "    plt.ylim(y_min, y_max)  \n",
    "    plt.contourf(xx, yy, predictions, cmap=cm.Pastel1)\n",
    "    \n",
    "plot_boundary(X, theta, predict)\n",
    "\n",
    "x0 = filter_by_label(X_train, y_train, 0)\n",
    "x1 = filter_by_label(X_train, y_train, 1)\n",
    "plt.scatter(x0[:,1], x0[:,2], marker='+', color='red')\n",
    "plt.scatter(x1[:,1], x1[:,2], marker='x', color='green')"
   ]
  },
  {
   "cell_type": "code",
   "execution_count": 7,
   "metadata": {
    "collapsed": false
   },
   "outputs": [
    {
     "data": {
      "text/plain": [
       "<matplotlib.collections.PathCollection at 0x117222f60>"
      ]
     },
     "execution_count": 7,
     "metadata": {},
     "output_type": "execute_result"
    },
    {
     "data": {
      "image/png": "[encoded data removed]",
      "text/plain": [
       "<matplotlib.figure.Figure at 0x1171873c8>"
      ]
     },
     "metadata": {},
     "output_type": "display_data"
    }
   ],
   "source": [
    "plot_boundary(X, theta, predict)\n",
    "x0 = filter_by_label(X_test, y_test, 0)\n",
    "x1 = filter_by_label(X_test, y_test, 1)\n",
    "plt.scatter(x0[:,1], x0[:,2], marker='+', color='red')\n",
    "plt.scatter(x1[:,1], x1[:,2], marker='x', color='green')"
   ]
  },
  {
   "cell_type": "code",
   "execution_count": 8,
   "metadata": {
    "collapsed": false
   },
   "outputs": [
    {
     "name": "stdout",
     "output_type": "stream",
     "text": [
      "accuracy: 0.833333333333\n"
     ]
    }
   ],
   "source": [
    "from sklearn.metrics import accuracy_score, precision_score, recall_score\n",
    "\n",
    "print('accuracy:', accuracy_score(y_test, predict(X_test, theta)))"
   ]
  },
  {
   "cell_type": "code",
   "execution_count": 9,
   "metadata": {
    "collapsed": false
   },
   "outputs": [
    {
     "name": "stdout",
     "output_type": "stream",
     "text": [
      "[-66.7627508    4.50683117   2.87881444]\n",
      "[ 62.46039182  -5.11056979   1.50670774]\n",
      "[-74.40585676   7.85732838 -20.98032146]\n"
     ]
    }
   ],
   "source": [
    "X = data.as_matrix(columns=['1', 'alcohol', 'flavanoids'])\n",
    "#y = np.matrix(label_binarize(data['class'], [1, 2, 3]))\n",
    "y = data.as_matrix(columns=['class'])\n",
    "X_train, X_test, y_train, y_test = train_test_split(X, y, test_size=0.2)\n",
    "#print(y_train)\n",
    "y_train = np.matrix(label_binarize(y_train, [1, 2, 3]))\n",
    "#print(y_train)\n",
    "\n",
    "#y1 = y[:,0]\n",
    "#y2 = y[:,1]\n",
    "#y3 = y[:,2]\n",
    "\n",
    "\n",
    "\n",
    "l = 1\n",
    "#result = opt.fmin_tnc(func=cost2, x0=np.zeros(3), fprime=gradient2, args=(X_train, y_train[:,0], l))\n",
    "result = opt.fmin_tnc(func=cost, x0=np.zeros(3), fprime=gradient, args=(X_train, y_train[:,0]))\n",
    "theta1 = result[0]\n",
    "\n",
    "result = opt.fmin_tnc(func=cost, x0=np.zeros(3), fprime=gradient, args=(X_train, y_train[:,1]))\n",
    "theta2 = result[0]\n",
    "\n",
    "result = opt.fmin_tnc(func=cost, x0=np.zeros(3), fprime=gradient, args=(X_train, y_train[:,2]))\n",
    "theta3 = result[0]\n",
    "\n",
    "print(theta1)\n",
    "print(theta2)\n",
    "print(theta3)"
   ]
  },
  {
   "cell_type": "code",
   "execution_count": 10,
   "metadata": {
    "collapsed": false
   },
   "outputs": [
    {
     "data": {
      "text/plain": [
       "<matplotlib.collections.PathCollection at 0x1176224e0>"
      ]
     },
     "execution_count": 10,
     "metadata": {},
     "output_type": "execute_result"
    },
    {
     "data": {
      "image/png": "[encoded data removed]",
      "text/plain": [
       "<matplotlib.figure.Figure at 0x109b5aef0>"
      ]
     },
     "metadata": {},
     "output_type": "display_data"
    }
   ],
   "source": [
    "yy = data.as_matrix(columns=['class'])\n",
    "#print(yy)\n",
    "x0 = filter_by_label(X, yy, 1)\n",
    "x1 = filter_by_label(X, yy, 2)\n",
    "x2 = filter_by_label(X, yy, 3)\n",
    "#print(x0)\n",
    "plt.scatter(x0[:,1], x0[:,2], marker='+', color='red')\n",
    "plt.scatter(x1[:,1], x1[:,2], marker='x', color='green')\n",
    "plt.scatter(x2[:,1], x2[:,2], marker='.', color='blue')"
   ]
  },
  {
   "cell_type": "code",
   "execution_count": null,
   "metadata": {
    "collapsed": false
   },
   "outputs": [],
   "source": []
  },
  {
   "cell_type": "code",
   "execution_count": 11,
   "metadata": {
    "collapsed": false
   },
   "outputs": [
    {
     "data": {
      "text/plain": [
       "<matplotlib.collections.PathCollection at 0x1177b5b38>"
      ]
     },
     "execution_count": 11,
     "metadata": {},
     "output_type": "execute_result"
    },
    {
     "data": {
      "image/png": "[encoded data removed]",
      "text/plain": [
       "<matplotlib.figure.Figure at 0x1172a2dd8>"
      ]
     },
     "metadata": {},
     "output_type": "display_data"
    }
   ],
   "source": [
    "#print(yy)\n",
    "def predict2(X, thetas):\n",
    "\n",
    "    p1 = sigmoid(X * np.matrix(theta1).T)\n",
    "    p2 = sigmoid(X * np.matrix(theta2).T)\n",
    "    p3 = sigmoid(X * np.matrix(theta3).T)\n",
    "    #print(p3)\n",
    "    m = np.column_stack((p1, p2, p3))\n",
    "    # print(m)\n",
    "    #for r in m:\n",
    "    #    print(r, np.argmax(r))\n",
    "    #print(np.argmax(m[86]))\n",
    "    argmax = np.matrix([np.argmax(r) for r in m])\n",
    "    #print(argmax)\n",
    "    return argmax + 1\n",
    "    \n",
    "x0 = filter_by_label(X, yy, 1)\n",
    "x1 = filter_by_label(X, yy, 2)\n",
    "x2 = filter_by_label(X, yy, 3)\n",
    "#print(x0)\n",
    "\n",
    "def plot_boundary2(X, thetas, p):\n",
    "    \n",
    "    x_min, x_max = X[:,1].min() - 1, X[:,1].max() + 1\n",
    "    y_min, y_max = X[:,2].min() - 1, X[:,2].max() + 1\n",
    "    xx, yy = np.meshgrid(\n",
    "        np.linspace(x_min, x_max, 100),\n",
    "        np.linspace(-10, y_max, 100)\n",
    "    )\n",
    "\n",
    "    inputs = np.c_[np.ones(10000), xx.ravel(), yy.ravel()]\n",
    "    predictions = p(inputs, thetas).reshape(xx.shape)\n",
    "\n",
    "    plt.xlim(x_min, x_max)\n",
    "    plt.ylim(y_min, y_max)  \n",
    "    plt.contourf(xx, yy, predictions, cmap=cm.Pastel1)\n",
    "    \n",
    "thetas = {\n",
    "    1: theta1,\n",
    "    2: theta2,\n",
    "    3: theta3\n",
    "}\n",
    "    \n",
    "plot_boundary2(X, thetas, predict2)\n",
    "plt.scatter(x0[:,1], x0[:,2], marker='+', color='red')\n",
    "plt.scatter(x1[:,1], x1[:,2], marker='x', color='green')\n",
    "plt.scatter(x2[:,1], x2[:,2], marker='.', color='blue')"
   ]
  },
  {
   "cell_type": "code",
   "execution_count": 12,
   "metadata": {
    "collapsed": false
   },
   "outputs": [
    {
     "name": "stdout",
     "output_type": "stream",
     "text": [
      "accuracy: 0.916666666667\n",
      "precision: 0.916666666667\n",
      "recall: 0.92094017094\n"
     ]
    }
   ],
   "source": [
    "\n",
    "r = predict2(X_test, thetas)\n",
    "#print(y_test)\n",
    "#print(r)\n",
    "print('accuracy:', accuracy_score(y_test, predict2(X_test, thetas).T))\n",
    "print('precision:', precision_score(y_test, predict2(X_test, thetas).T, average='macro'))\n",
    "print('recall:', recall_score(y_test, predict2(X_test, thetas).T, average='macro'))"
   ]
  },
  {
   "cell_type": "code",
   "execution_count": 22,
   "metadata": {
    "collapsed": false
   },
   "outputs": [
    {
     "name": "stdout",
     "output_type": "stream",
     "text": [
      "[-0.03685166 -0.07313875  0.43497636  0.14269933 -0.65408904 -0.03649504\n",
      "  0.43044658  0.76031426 -0.04981034  0.16527842 -0.20829277 -0.01477639\n",
      "  0.57143762  0.01436026]\n",
      "[ 4.02140563  3.17696137 -3.32932315 -6.37249738  0.9600418  -0.02547941\n",
      " -4.20622803  6.17773065  7.52393008  6.67202259 -5.45472201  9.69074966\n",
      " -3.97811575 -0.04463315]\n",
      "[ -3.51375639e-01  -1.00133436e+00   2.49289413e+00   1.14016998e+00\n",
      "  -3.66929238e-01   2.19416343e-01  -2.55138351e+00  -1.30455982e+01\n",
      "  -7.67778835e-01  -3.16566359e+00   3.48174680e+00  -2.57241890e+00\n",
      "  -5.33474613e+00   1.21271890e-02]\n",
      "accuracy: 0.888888888889\n",
      "precision: 0.907051282051\n",
      "recall: 0.907051282051\n",
      "accuracy: 0.944444444444\n",
      "precision: 0.955555555556\n",
      "recall: 0.958333333333\n"
     ]
    },
    {
     "name": "stderr",
     "output_type": "stream",
     "text": [
      "/Users/csmith/anaconda3/lib/python3.6/site-packages/ipykernel/__main__.py:14: RuntimeWarning: divide by zero encountered in log\n",
      "/Users/csmith/anaconda3/lib/python3.6/site-packages/ipykernel/__main__.py:14: RuntimeWarning: invalid value encountered in multiply\n",
      "/Users/csmith/anaconda3/lib/python3.6/site-packages/ipykernel/__main__.py:12: RuntimeWarning: divide by zero encountered in log\n",
      "/Users/csmith/anaconda3/lib/python3.6/site-packages/ipykernel/__main__.py:12: RuntimeWarning: invalid value encountered in multiply\n"
     ]
    }
   ],
   "source": [
    "X = data.drop('class', 1).as_matrix()\n",
    "y = data.as_matrix(columns=['class'])\n",
    "X_train, X_test, y_train, y_test = train_test_split(X, y, test_size=0.2)\n",
    "y_train = np.matrix(label_binarize(y_train, [1, 2, 3]))\n",
    "\n",
    "def cost2(theta, X, y, l):\n",
    "    theta = np.matrix(theta)\n",
    "    m = len(X)\n",
    "    \n",
    "    h = sigmoid(np.matmul(X, theta.T))\n",
    "    y1 = np.multiply(-y, np.log(h))\n",
    "    y0 = np.multiply((1 - y), np.log(1 - h))\n",
    "    j = np.sum(y1 - y0) / m\n",
    "    #z = j + (1 / (2 * m)) * np.square(theta).sum()\n",
    "    #print(z)\n",
    "    jreg = j + (1 / (2 * m)) * np.square(theta).sum()\n",
    "    #print(jreg)\n",
    "    return j\n",
    "\n",
    "def gradient2(theta, X, y, l):\n",
    "    error = sigmoid(X * np.matrix(theta).T) - y\n",
    "    grad = (1/len(X)) * np.matmul(X.T, error)\n",
    "    lm = (l / len(X)) * np.matrix(theta).T\n",
    "    #print(grad)\n",
    "    return grad + lm\n",
    "\n",
    "result = opt.fmin_tnc(func=cost, x0=np.zeros(14), fprime=gradient, args=(X_train, y_train[:,0]))\n",
    "theta1 = result[0]\n",
    "\n",
    "result = opt.fmin_tnc(func=cost, x0=np.zeros(14), fprime=gradient, args=(X_train, y_train[:,1]))\n",
    "theta2 = result[0]\n",
    "\n",
    "result = opt.fmin_tnc(func=cost, x0=np.zeros(14), fprime=gradient, args=(X_train, y_train[:,2]))\n",
    "theta3 = result[0]\n",
    "\n",
    "print(theta1)\n",
    "print(theta2)\n",
    "print(theta3)\n",
    "thetas = {\n",
    "    1: theta1,\n",
    "    2: theta2,\n",
    "    3: theta3\n",
    "}\n",
    "\n",
    "print('accuracy:', accuracy_score(y_test, predict2(X_test, thetas).T))\n",
    "print('precision:', precision_score(y_test, predict2(X_test, thetas).T, average='macro'))\n",
    "print('recall:', recall_score(y_test, predict2(X_test, thetas).T, average='macro'))\n",
    "\n",
    "result = opt.fmin_tnc(func=cost2, x0=np.zeros(14), fprime=gradient2, args=(X_train, y_train[:,0], 2))\n",
    "theta1 = result[0]\n",
    "\n",
    "result = opt.fmin_tnc(func=cost2, x0=np.zeros(14), fprime=gradient2, args=(X_train, y_train[:,1], 2))\n",
    "theta2 = result[0]\n",
    "\n",
    "result = opt.fmin_tnc(func=cost2, x0=np.zeros(14), fprime=gradient2, args=(X_train, y_train[:,2], 2))\n",
    "theta3 = result[0]\n",
    "\n",
    "#print(theta1)\n",
    "#print(theta2)\n",
    "thetas = {\n",
    "    1: theta1,\n",
    "    2: theta2,\n",
    "    3: theta3\n",
    "}\n",
    "\n",
    "print('accuracy:', accuracy_score(y_test, predict2(X_test, thetas).T))\n",
    "print('precision:', precision_score(y_test, predict2(X_test, thetas).T, average='macro'))\n",
    "print('recall:', recall_score(y_test, predict2(X_test, thetas).T, average='macro'))"
   ]
  },
  {
   "cell_type": "code",
   "execution_count": null,
   "metadata": {
    "collapsed": true
   },
   "outputs": [],
   "source": []
  }
 ],
 "metadata": {
  "anaconda-cloud": {},
  "kernelspec": {
   "display_name": "Python 3",
   "language": "python",
   "name": "python3"
  },
  "language_info": {
   "codemirror_mode": {
    "name": "ipython",
    "version": 3
   },
   "file_extension": ".py",
   "mimetype": "text/x-python",
   "name": "python",
   "nbconvert_exporter": "python",
   "pygments_lexer": "ipython3",
   "version": "3.6.0"
  }
 },
 "nbformat": 4,
 "nbformat_minor": 2
}
