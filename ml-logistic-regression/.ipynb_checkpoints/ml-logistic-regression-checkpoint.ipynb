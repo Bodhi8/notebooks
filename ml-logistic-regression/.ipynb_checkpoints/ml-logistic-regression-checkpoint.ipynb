{
 "cells": [
  {
   "cell_type": "markdown",
   "metadata": {},
   "source": [
    "First, we load our data.  This time, I'm adding a column of 1s directly to the dataframe, so that it's already there later on when we want to build new sets of training data.\n",
    "\n",
    " - note on binarize\n",
    " - matrix treatment"
   ]
  },
  {
   "cell_type": "code",
   "execution_count": 17,
   "metadata": {
    "collapsed": false
   },
   "outputs": [],
   "source": [
    "import pandas as pd\n",
    "import numpy as np\n",
    "from sklearn.preprocessing import label_binarize\n",
    "\n",
    "data = pd.read_csv('data.txt')\n",
    "data.insert(0, '1', 1)\n",
    "\n",
    "X = data.as_matrix(columns=['1', 'alcohol', 'ash'])\n",
    "y = np.matrix(label_binarize(data['class'], [1, 2, 3]))[:,0]"
   ]
  },
  {
   "cell_type": "markdown",
   "metadata": {},
   "source": [
    " - train / test sets"
   ]
  },
  {
   "cell_type": "code",
   "execution_count": 18,
   "metadata": {
    "collapsed": false
   },
   "outputs": [
    {
     "name": "stdout",
     "output_type": "stream",
     "text": [
      "train: 142 test: 36\n"
     ]
    }
   ],
   "source": [
    "from sklearn.model_selection import train_test_split\n",
    "\n",
    "X_train, X_test, y_train, y_test = train_test_split(X, y, test_size=0.2)\n",
    "print('train:', len(X_train), 'test:', len(X_test))"
   ]
  },
  {
   "cell_type": "code",
   "execution_count": 94,
   "metadata": {
    "collapsed": false
   },
   "outputs": [
    {
     "data": {
      "image/png": "[encoded data removed]",
      "text/plain": [
       "<matplotlib.figure.Figure at 0x116fbe0b8>"
      ]
     },
     "metadata": {},
     "output_type": "display_data"
    }
   ],
   "source": [
    "import matplotlib.pyplot as plt\n",
    "%matplotlib inline\n",
    "\n",
    "MARKERS = ['+', 'x', '.']\n",
    "COLORS = ['red', 'green', 'blue']\n",
    "\n",
    "def plot_points(xy, labels):\n",
    "    \n",
    "    for i, label in enumerate(set(labels.A.flatten())):\n",
    "        points = np.matrix([xy[j,:] for j in range(len(xy)) if labels[j,0] == label])\n",
    "        marker = MARKERS[i % len(MARKERS)]\n",
    "        color = COLORS[i % len(COLORS)]\n",
    "        plt.scatter(points[:,0], points[:,1], marker=marker, color=color)\n",
    "\n",
    "plot_points(X_train[:,1:3], y_train)"
   ]
  },
  {
   "cell_type": "code",
   "execution_count": 96,
   "metadata": {
    "collapsed": false
   },
   "outputs": [],
   "source": [
    "import numpy as np\n",
    "\n",
    "def sigmoid(X):\n",
    "    return 1 / (1 + np.exp(-X))\n",
    "\n",
    "def predict(X, theta):\n",
    "    return sigmoid(X * np.matrix(theta).T) >= 0.5\n",
    "\n",
    "def cost(theta, X, y):\n",
    "    theta = np.matrix(theta)\n",
    "    \n",
    "    h = sigmoid(np.matmul(X, theta.T))\n",
    "    y1 = np.multiply(-y, np.log(h))\n",
    "    y0 = np.multiply((1 - y), np.log(1 - h))\n",
    "    j = np.sum(y1 - y0) / (len(X))\n",
    "    return j\n",
    "\n",
    "def gradient(theta, X, y):\n",
    "    error = sigmoid(X * np.matrix(theta).T) - y\n",
    "    grad = (1/len(X)) * np.matmul(X.T, error)\n",
    "    \n",
    "    return grad"
   ]
  },
  {
   "cell_type": "code",
   "execution_count": 97,
   "metadata": {
    "collapsed": false
   },
   "outputs": [
    {
     "name": "stdout",
     "output_type": "stream",
     "text": [
      "theta:  [-43.13193994   2.93147827   1.51000256]\n",
      "cost: 0.364815581686\n"
     ]
    }
   ],
   "source": [
    "import scipy.optimize as opt  \n",
    "\n",
    "result = opt.fmin_tnc(func=cost, x0=np.zeros(3), fprime=gradient, args=(X_train, y_train))\n",
    "theta = result[0]\n",
    "\n",
    "print('theta: ', theta)\n",
    "print('cost:', cost(theta, X, y))"
   ]
  },
  {
   "cell_type": "code",
   "execution_count": 100,
   "metadata": {
    "collapsed": false
   },
   "outputs": [
    {
     "data": {
      "text/plain": [
       "<matplotlib.collections.PathCollection at 0x117846940>"
      ]
     },
     "execution_count": 100,
     "metadata": {},
     "output_type": "execute_result"
    },
    {
     "data": {
      "image/png": "[encoded data removed]",
      "text/plain": [
       "<matplotlib.figure.Figure at 0x1179ec1d0>"
      ]
     },
     "metadata": {},
     "output_type": "display_data"
    }
   ],
   "source": [
    "from matplotlib import cm\n",
    "\n",
    "def plot_boundary(X, theta, pred):\n",
    "    \n",
    "    x_min, x_max = X[:,1].min() - 1, X[:,1].max() + 1\n",
    "    y_min, y_max = X[:,2].min() - 1, X[:,2].max() + 1\n",
    "    xx, yy = np.meshgrid(\n",
    "        np.linspace(x_min, x_max, 50),\n",
    "        np.linspace(-10, y_max, 50)\n",
    "    )\n",
    "\n",
    "    inputs = np.c_[np.ones(2500), xx.ravel(), yy.ravel()]\n",
    "    predictions = pred(inputs, theta).reshape(xx.shape)\n",
    "\n",
    "    plt.xlim(x_min, x_max)\n",
    "    plt.ylim(y_min, y_max)  \n",
    "    plt.contour(xx, yy, predictions, cmap=cm.Pastel1, levels=[0])\n",
    "    \n",
    "plot_boundary(X, theta, predict)\n",
    "\n",
    "x0 = filter_by_label(X_train, y_train, 0)\n",
    "x1 = filter_by_label(X_train, y_train, 1)\n",
    "plt.scatter(x0[:,1], x0[:,2], marker='+', color='red')\n",
    "plt.scatter(x1[:,1], x1[:,2], marker='x', color='green')"
   ]
  },
  {
   "cell_type": "code",
   "execution_count": 7,
   "metadata": {
    "collapsed": false
   },
   "outputs": [
    {
     "data": {
      "text/plain": [
       "<matplotlib.collections.PathCollection at 0x113915fd0>"
      ]
     },
     "execution_count": 7,
     "metadata": {},
     "output_type": "execute_result"
    },
    {
     "data": {
      "image/png": "[encoded data removed]",
      "text/plain": [
       "<matplotlib.figure.Figure at 0x10e1e8128>"
      ]
     },
     "metadata": {},
     "output_type": "display_data"
    }
   ],
   "source": [
    "plot_boundary(X, theta, predict)\n",
    "\n",
    "x0 = filter_by_label(X_test, y_test, 0)\n",
    "x1 = filter_by_label(X_test, y_test, 1)\n",
    "plt.scatter(x0[:,1], x0[:,2], marker='+', color='red')\n",
    "plt.scatter(x1[:,1], x1[:,2], marker='x', color='green')"
   ]
  },
  {
   "cell_type": "code",
   "execution_count": 8,
   "metadata": {
    "collapsed": false
   },
   "outputs": [
    {
     "name": "stdout",
     "output_type": "stream",
     "text": [
      "accuracy: 0.75\n"
     ]
    }
   ],
   "source": [
    "from sklearn.metrics import accuracy_score, precision_score, recall_score\n",
    "\n",
    "print('accuracy:', accuracy_score(y_test, predict(X_test, theta)))"
   ]
  },
  {
   "cell_type": "code",
   "execution_count": 9,
   "metadata": {
    "collapsed": false
   },
   "outputs": [
    {
     "name": "stdout",
     "output_type": "stream",
     "text": [
      "[-64.82936663   4.38093535   2.78551048]\n",
      "[ 55.43497493  -4.53437601   1.32061457]\n",
      "[-40.65388023   3.87563223  -7.19262571]\n"
     ]
    },
    {
     "name": "stderr",
     "output_type": "stream",
     "text": [
      "/Users/csmith/anaconda3/lib/python3.6/site-packages/ipykernel/__main__.py:14: RuntimeWarning: divide by zero encountered in log\n",
      "/Users/csmith/anaconda3/lib/python3.6/site-packages/ipykernel/__main__.py:14: RuntimeWarning: invalid value encountered in multiply\n"
     ]
    }
   ],
   "source": [
    "X = data.as_matrix(columns=['1', 'alcohol', 'flavanoids'])\n",
    "#y = np.matrix(label_binarize(data['class'], [1, 2, 3]))\n",
    "y = data.as_matrix(columns=['class'])\n",
    "X_train, X_test, y_train, y_test = train_test_split(X, y, test_size=0.2)\n",
    "#print(y_train)\n",
    "y_train = np.matrix(label_binarize(y_train, [1, 2, 3]))\n",
    "#print(y_train)\n",
    "\n",
    "#y1 = y[:,0]\n",
    "#y2 = y[:,1]\n",
    "#y3 = y[:,2]\n",
    "\n",
    "\n",
    "\n",
    "l = 1\n",
    "#result = opt.fmin_tnc(func=cost2, x0=np.zeros(3), fprime=gradient2, args=(X_train, y_train[:,0], l))\n",
    "result = opt.fmin_tnc(func=cost, x0=np.zeros(3), fprime=gradient, args=(X_train, y_train[:,0]))\n",
    "theta1 = result[0]\n",
    "\n",
    "result = opt.fmin_tnc(func=cost, x0=np.zeros(3), fprime=gradient, args=(X_train, y_train[:,1]))\n",
    "theta2 = result[0]\n",
    "\n",
    "result = opt.fmin_tnc(func=cost, x0=np.zeros(3), fprime=gradient, args=(X_train, y_train[:,2]))\n",
    "theta3 = result[0]\n",
    "\n",
    "print(theta1)\n",
    "print(theta2)\n",
    "print(theta3)"
   ]
  },
  {
   "cell_type": "code",
   "execution_count": 10,
   "metadata": {
    "collapsed": false
   },
   "outputs": [
    {
     "data": {
      "text/plain": [
       "<matplotlib.collections.PathCollection at 0x113d16550>"
      ]
     },
     "execution_count": 10,
     "metadata": {},
     "output_type": "execute_result"
    },
    {
     "data": {
      "image/png": "[encoded data removed]",
      "text/plain": [
       "<matplotlib.figure.Figure at 0x1138e0be0>"
      ]
     },
     "metadata": {},
     "output_type": "display_data"
    }
   ],
   "source": [
    "yy = data.as_matrix(columns=['class'])\n",
    "#print(yy)\n",
    "x0 = filter_by_label(X, yy, 1)\n",
    "x1 = filter_by_label(X, yy, 2)\n",
    "x2 = filter_by_label(X, yy, 3)\n",
    "#print(x0)\n",
    "plt.scatter(x0[:,1], x0[:,2], marker='+', color='red')\n",
    "plt.scatter(x1[:,1], x1[:,2], marker='x', color='green')\n",
    "plt.scatter(x2[:,1], x2[:,2], marker='.', color='blue')"
   ]
  },
  {
   "cell_type": "code",
   "execution_count": null,
   "metadata": {
    "collapsed": false
   },
   "outputs": [],
   "source": []
  },
  {
   "cell_type": "code",
   "execution_count": 101,
   "metadata": {
    "collapsed": false
   },
   "outputs": [
    {
     "ename": "ValueError",
     "evalue": "shapes (2500,3) and (14,1) not aligned: 3 (dim 1) != 14 (dim 0)",
     "output_type": "error",
     "traceback": [
      "\u001b[0;31m---------------------------------------------------------------------------\u001b[0m",
      "\u001b[0;31mValueError\u001b[0m                                Traceback (most recent call last)",
      "\u001b[0;32m<ipython-input-101-b6e20dbc6580>\u001b[0m in \u001b[0;36m<module>\u001b[0;34m()\u001b[0m\n\u001b[1;32m     27\u001b[0m }\n\u001b[1;32m     28\u001b[0m \u001b[0;34m\u001b[0m\u001b[0m\n\u001b[0;32m---> 29\u001b[0;31m \u001b[0mplot_boundary\u001b[0m\u001b[0;34m(\u001b[0m\u001b[0mX\u001b[0m\u001b[0;34m,\u001b[0m \u001b[0mthetas\u001b[0m\u001b[0;34m,\u001b[0m \u001b[0mpredict2\u001b[0m\u001b[0;34m)\u001b[0m\u001b[0;34m\u001b[0m\u001b[0m\n\u001b[0m\u001b[1;32m     30\u001b[0m \u001b[0mplt\u001b[0m\u001b[0;34m.\u001b[0m\u001b[0mscatter\u001b[0m\u001b[0;34m(\u001b[0m\u001b[0mx0\u001b[0m\u001b[0;34m[\u001b[0m\u001b[0;34m:\u001b[0m\u001b[0;34m,\u001b[0m\u001b[0;36m1\u001b[0m\u001b[0;34m]\u001b[0m\u001b[0;34m,\u001b[0m \u001b[0mx0\u001b[0m\u001b[0;34m[\u001b[0m\u001b[0;34m:\u001b[0m\u001b[0;34m,\u001b[0m\u001b[0;36m2\u001b[0m\u001b[0;34m]\u001b[0m\u001b[0;34m,\u001b[0m \u001b[0mmarker\u001b[0m\u001b[0;34m=\u001b[0m\u001b[0;34m'+'\u001b[0m\u001b[0;34m,\u001b[0m \u001b[0mcolor\u001b[0m\u001b[0;34m=\u001b[0m\u001b[0;34m'red'\u001b[0m\u001b[0;34m)\u001b[0m\u001b[0;34m\u001b[0m\u001b[0m\n\u001b[1;32m     31\u001b[0m \u001b[0mplt\u001b[0m\u001b[0;34m.\u001b[0m\u001b[0mscatter\u001b[0m\u001b[0;34m(\u001b[0m\u001b[0mx1\u001b[0m\u001b[0;34m[\u001b[0m\u001b[0;34m:\u001b[0m\u001b[0;34m,\u001b[0m\u001b[0;36m1\u001b[0m\u001b[0;34m]\u001b[0m\u001b[0;34m,\u001b[0m \u001b[0mx1\u001b[0m\u001b[0;34m[\u001b[0m\u001b[0;34m:\u001b[0m\u001b[0;34m,\u001b[0m\u001b[0;36m2\u001b[0m\u001b[0;34m]\u001b[0m\u001b[0;34m,\u001b[0m \u001b[0mmarker\u001b[0m\u001b[0;34m=\u001b[0m\u001b[0;34m'x'\u001b[0m\u001b[0;34m,\u001b[0m \u001b[0mcolor\u001b[0m\u001b[0;34m=\u001b[0m\u001b[0;34m'green'\u001b[0m\u001b[0;34m)\u001b[0m\u001b[0;34m\u001b[0m\u001b[0m\n",
      "\u001b[0;32m<ipython-input-100-465b58372142>\u001b[0m in \u001b[0;36mplot_boundary\u001b[0;34m(X, theta, pred)\u001b[0m\n\u001b[1;32m     11\u001b[0m \u001b[0;34m\u001b[0m\u001b[0m\n\u001b[1;32m     12\u001b[0m     \u001b[0minputs\u001b[0m \u001b[0;34m=\u001b[0m \u001b[0mnp\u001b[0m\u001b[0;34m.\u001b[0m\u001b[0mc_\u001b[0m\u001b[0;34m[\u001b[0m\u001b[0mnp\u001b[0m\u001b[0;34m.\u001b[0m\u001b[0mones\u001b[0m\u001b[0;34m(\u001b[0m\u001b[0;36m2500\u001b[0m\u001b[0;34m)\u001b[0m\u001b[0;34m,\u001b[0m \u001b[0mxx\u001b[0m\u001b[0;34m.\u001b[0m\u001b[0mravel\u001b[0m\u001b[0;34m(\u001b[0m\u001b[0;34m)\u001b[0m\u001b[0;34m,\u001b[0m \u001b[0myy\u001b[0m\u001b[0;34m.\u001b[0m\u001b[0mravel\u001b[0m\u001b[0;34m(\u001b[0m\u001b[0;34m)\u001b[0m\u001b[0;34m]\u001b[0m\u001b[0;34m\u001b[0m\u001b[0m\n\u001b[0;32m---> 13\u001b[0;31m     \u001b[0mpredictions\u001b[0m \u001b[0;34m=\u001b[0m \u001b[0mpred\u001b[0m\u001b[0;34m(\u001b[0m\u001b[0minputs\u001b[0m\u001b[0;34m,\u001b[0m \u001b[0mtheta\u001b[0m\u001b[0;34m)\u001b[0m\u001b[0;34m.\u001b[0m\u001b[0mreshape\u001b[0m\u001b[0;34m(\u001b[0m\u001b[0mxx\u001b[0m\u001b[0;34m.\u001b[0m\u001b[0mshape\u001b[0m\u001b[0;34m)\u001b[0m\u001b[0;34m\u001b[0m\u001b[0m\n\u001b[0m\u001b[1;32m     14\u001b[0m \u001b[0;34m\u001b[0m\u001b[0m\n\u001b[1;32m     15\u001b[0m     \u001b[0mplt\u001b[0m\u001b[0;34m.\u001b[0m\u001b[0mxlim\u001b[0m\u001b[0;34m(\u001b[0m\u001b[0mx_min\u001b[0m\u001b[0;34m,\u001b[0m \u001b[0mx_max\u001b[0m\u001b[0;34m)\u001b[0m\u001b[0;34m\u001b[0m\u001b[0m\n",
      "\u001b[0;32m<ipython-input-101-b6e20dbc6580>\u001b[0m in \u001b[0;36mpredict2\u001b[0;34m(X, thetas)\u001b[0m\n\u001b[1;32m      2\u001b[0m \u001b[0;32mdef\u001b[0m \u001b[0mpredict2\u001b[0m\u001b[0;34m(\u001b[0m\u001b[0mX\u001b[0m\u001b[0;34m,\u001b[0m \u001b[0mthetas\u001b[0m\u001b[0;34m)\u001b[0m\u001b[0;34m:\u001b[0m\u001b[0;34m\u001b[0m\u001b[0m\n\u001b[1;32m      3\u001b[0m \u001b[0;34m\u001b[0m\u001b[0m\n\u001b[0;32m----> 4\u001b[0;31m     \u001b[0mp1\u001b[0m \u001b[0;34m=\u001b[0m \u001b[0msigmoid\u001b[0m\u001b[0;34m(\u001b[0m\u001b[0mX\u001b[0m \u001b[0;34m*\u001b[0m \u001b[0mnp\u001b[0m\u001b[0;34m.\u001b[0m\u001b[0mmatrix\u001b[0m\u001b[0;34m(\u001b[0m\u001b[0mtheta1\u001b[0m\u001b[0;34m)\u001b[0m\u001b[0;34m.\u001b[0m\u001b[0mT\u001b[0m\u001b[0;34m)\u001b[0m\u001b[0;34m\u001b[0m\u001b[0m\n\u001b[0m\u001b[1;32m      5\u001b[0m     \u001b[0mp2\u001b[0m \u001b[0;34m=\u001b[0m \u001b[0msigmoid\u001b[0m\u001b[0;34m(\u001b[0m\u001b[0mX\u001b[0m \u001b[0;34m*\u001b[0m \u001b[0mnp\u001b[0m\u001b[0;34m.\u001b[0m\u001b[0mmatrix\u001b[0m\u001b[0;34m(\u001b[0m\u001b[0mtheta2\u001b[0m\u001b[0;34m)\u001b[0m\u001b[0;34m.\u001b[0m\u001b[0mT\u001b[0m\u001b[0;34m)\u001b[0m\u001b[0;34m\u001b[0m\u001b[0m\n\u001b[1;32m      6\u001b[0m     \u001b[0mp3\u001b[0m \u001b[0;34m=\u001b[0m \u001b[0msigmoid\u001b[0m\u001b[0;34m(\u001b[0m\u001b[0mX\u001b[0m \u001b[0;34m*\u001b[0m \u001b[0mnp\u001b[0m\u001b[0;34m.\u001b[0m\u001b[0mmatrix\u001b[0m\u001b[0;34m(\u001b[0m\u001b[0mtheta3\u001b[0m\u001b[0;34m)\u001b[0m\u001b[0;34m.\u001b[0m\u001b[0mT\u001b[0m\u001b[0;34m)\u001b[0m\u001b[0;34m\u001b[0m\u001b[0m\n",
      "\u001b[0;32m/Users/csmith/anaconda3/lib/python3.6/site-packages/numpy/matrixlib/defmatrix.py\u001b[0m in \u001b[0;36m__rmul__\u001b[0;34m(self, other)\u001b[0m\n\u001b[1;32m    347\u001b[0m \u001b[0;34m\u001b[0m\u001b[0m\n\u001b[1;32m    348\u001b[0m     \u001b[0;32mdef\u001b[0m \u001b[0m__rmul__\u001b[0m\u001b[0;34m(\u001b[0m\u001b[0mself\u001b[0m\u001b[0;34m,\u001b[0m \u001b[0mother\u001b[0m\u001b[0;34m)\u001b[0m\u001b[0;34m:\u001b[0m\u001b[0;34m\u001b[0m\u001b[0m\n\u001b[0;32m--> 349\u001b[0;31m         \u001b[0;32mreturn\u001b[0m \u001b[0mN\u001b[0m\u001b[0;34m.\u001b[0m\u001b[0mdot\u001b[0m\u001b[0;34m(\u001b[0m\u001b[0mother\u001b[0m\u001b[0;34m,\u001b[0m \u001b[0mself\u001b[0m\u001b[0;34m)\u001b[0m\u001b[0;34m\u001b[0m\u001b[0m\n\u001b[0m\u001b[1;32m    350\u001b[0m \u001b[0;34m\u001b[0m\u001b[0m\n\u001b[1;32m    351\u001b[0m     \u001b[0;32mdef\u001b[0m \u001b[0m__imul__\u001b[0m\u001b[0;34m(\u001b[0m\u001b[0mself\u001b[0m\u001b[0;34m,\u001b[0m \u001b[0mother\u001b[0m\u001b[0;34m)\u001b[0m\u001b[0;34m:\u001b[0m\u001b[0;34m\u001b[0m\u001b[0m\n",
      "\u001b[0;31mValueError\u001b[0m: shapes (2500,3) and (14,1) not aligned: 3 (dim 1) != 14 (dim 0)"
     ]
    }
   ],
   "source": [
    "#print(yy)\n",
    "def predict2(X, thetas):\n",
    "\n",
    "    p1 = sigmoid(X * np.matrix(theta1).T)\n",
    "    p2 = sigmoid(X * np.matrix(theta2).T)\n",
    "    p3 = sigmoid(X * np.matrix(theta3).T)\n",
    "    #print(p3)\n",
    "    m = np.column_stack((p1, p2, p3))\n",
    "    # print(m)\n",
    "    #for r in m:\n",
    "    #    print(r, np.argmax(r))\n",
    "    #print(np.argmax(m[86]))\n",
    "    argmax = np.matrix([np.argmax(r) for r in m])\n",
    "    #print(argmax)\n",
    "    return argmax + 1\n",
    "    \n",
    "x0 = filter_by_label(X, yy, 1)\n",
    "x1 = filter_by_label(X, yy, 2)\n",
    "x2 = filter_by_label(X, yy, 3)\n",
    "#print(x0)\n",
    "\n",
    "    \n",
    "thetas = {\n",
    "    1: theta1,\n",
    "    2: theta2,\n",
    "    3: theta3\n",
    "}\n",
    "    \n",
    "plot_boundary(X, thetas, predict2)\n",
    "plt.scatter(x0[:,1], x0[:,2], marker='+', color='red')\n",
    "plt.scatter(x1[:,1], x1[:,2], marker='x', color='green')\n",
    "plt.scatter(x2[:,1], x2[:,2], marker='.', color='blue')"
   ]
  },
  {
   "cell_type": "code",
   "execution_count": 12,
   "metadata": {
    "collapsed": false
   },
   "outputs": [
    {
     "name": "stdout",
     "output_type": "stream",
     "text": [
      "accuracy: 0.944444444444\n",
      "precision: 0.941919191919\n",
      "recall: 0.941919191919\n"
     ]
    }
   ],
   "source": [
    "\n",
    "r = predict2(X_test, thetas)\n",
    "#print(y_test)\n",
    "#print(r)\n",
    "print('accuracy:', accuracy_score(y_test, predict2(X_test, thetas).T))\n",
    "print('precision:', precision_score(y_test, predict2(X_test, thetas).T, average='macro'))\n",
    "print('recall:', recall_score(y_test, predict2(X_test, thetas).T, average='macro'))"
   ]
  },
  {
   "cell_type": "code",
   "execution_count": 13,
   "metadata": {
    "collapsed": false
   },
   "outputs": [
    {
     "name": "stdout",
     "output_type": "stream",
     "text": [
      "[-3.94885393 -0.65430572  1.81737534  3.36310988 -0.99769449  0.03925556\n",
      " -1.68787124  4.41202238  2.08603853 -2.52378004 -1.17500278 -1.75193188\n",
      "  0.50088785  0.02366164]\n",
      "[ 5.48947114  1.18686191 -1.58572767 -4.04163859  0.55786178 -0.02861318\n",
      "  0.13668953  1.91405352  4.93997374  2.43216128 -3.05060133  7.08003058\n",
      " -2.45357134 -0.01917931]\n",
      "[-0.3271248  -0.52003756  2.17921565  0.69160314 -0.11179348  0.09443568\n",
      " -2.1478797  -6.53959542 -0.64344937 -1.69858387  2.54251144 -2.33888534\n",
      " -5.75048241  0.01215479]\n",
      "accuracy: 1.0\n",
      "precision: 1.0\n",
      "recall: 1.0\n",
      "accuracy: 0.916666666667\n",
      "precision: 0.918803418803\n",
      "recall: 0.928571428571\n"
     ]
    },
    {
     "name": "stderr",
     "output_type": "stream",
     "text": [
      "/Users/csmith/anaconda3/lib/python3.6/site-packages/ipykernel/__main__.py:14: RuntimeWarning: divide by zero encountered in log\n",
      "/Users/csmith/anaconda3/lib/python3.6/site-packages/ipykernel/__main__.py:14: RuntimeWarning: invalid value encountered in multiply\n"
     ]
    }
   ],
   "source": [
    "X = data.drop('class', 1).as_matrix()\n",
    "y = data.as_matrix(columns=['class'])\n",
    "X_train, X_test, y_train, y_test = train_test_split(X, y, test_size=0.2)\n",
    "y_train = np.matrix(label_binarize(y_train, [1, 2, 3]))\n",
    "\n",
    "def cost2(theta, X, y, l):\n",
    "    theta = np.matrix(theta)\n",
    "    m = len(X)\n",
    "    \n",
    "    h = sigmoid(np.matmul(X, theta.T))\n",
    "    y1 = np.multiply(-y, np.log(h))\n",
    "    y0 = np.multiply((1 - y), np.log(1 - h))\n",
    "    j = np.sum(y1 - y0) / m\n",
    "    #z = j + (1 / (2 * m)) * np.square(theta).sum()\n",
    "    #print(z)\n",
    "    jreg = j + (1 / (2 * m)) * np.square(theta).sum()\n",
    "    #print(jreg)\n",
    "    return j\n",
    "\n",
    "def gradient2(theta, X, y, l):\n",
    "    error = sigmoid(X * np.matrix(theta).T) - y\n",
    "    grad = (1/len(X)) * np.matmul(X.T, error)\n",
    "    lm = (l / len(X)) * np.matrix(theta).T\n",
    "    #print(grad)\n",
    "    return grad + lm\n",
    "\n",
    "result = opt.fmin_tnc(func=cost, x0=np.zeros(14), fprime=gradient, args=(X_train, y_train[:,0]))\n",
    "theta1 = result[0]\n",
    "\n",
    "result = opt.fmin_tnc(func=cost, x0=np.zeros(14), fprime=gradient, args=(X_train, y_train[:,1]))\n",
    "theta2 = result[0]\n",
    "\n",
    "result = opt.fmin_tnc(func=cost, x0=np.zeros(14), fprime=gradient, args=(X_train, y_train[:,2]))\n",
    "theta3 = result[0]\n",
    "\n",
    "print(theta1)\n",
    "print(theta2)\n",
    "print(theta3)\n",
    "thetas = {\n",
    "    1: theta1,\n",
    "    2: theta2,\n",
    "    3: theta3\n",
    "}\n",
    "\n",
    "print('accuracy:', accuracy_score(y_test, predict2(X_test, thetas).T))\n",
    "print('precision:', precision_score(y_test, predict2(X_test, thetas).T, average='macro'))\n",
    "print('recall:', recall_score(y_test, predict2(X_test, thetas).T, average='macro'))\n",
    "\n",
    "result = opt.fmin_tnc(func=cost2, x0=np.zeros(14), fprime=gradient2, args=(X_train, y_train[:,0], 2))\n",
    "theta1 = result[0]\n",
    "\n",
    "result = opt.fmin_tnc(func=cost2, x0=np.zeros(14), fprime=gradient2, args=(X_train, y_train[:,1], 2))\n",
    "theta2 = result[0]\n",
    "\n",
    "result = opt.fmin_tnc(func=cost2, x0=np.zeros(14), fprime=gradient2, args=(X_train, y_train[:,2], 2))\n",
    "theta3 = result[0]\n",
    "\n",
    "#print(theta1)\n",
    "#print(theta2)\n",
    "thetas = {\n",
    "    1: theta1,\n",
    "    2: theta2,\n",
    "    3: theta3\n",
    "}\n",
    "\n",
    "print('accuracy:', accuracy_score(y_test, predict2(X_test, thetas).T))\n",
    "print('precision:', precision_score(y_test, predict2(X_test, thetas).T, average='macro'))\n",
    "print('recall:', recall_score(y_test, predict2(X_test, thetas).T, average='macro'))"
   ]
  },
  {
   "cell_type": "markdown",
   "metadata": {},
   "source": [
    "import tensorflow as tf\n",
    "tf.logging.set_verbosity(tf.logging.INFO)\n",
    "\n",
    "X = data.drop('class', 1).as_matrix()\n",
    "y = data.as_matrix(columns=['class'])\n",
    "y = np.matrix(label_binarize(y, [1, 2, 3]))[:,0]\n",
    "\n",
    "X_train, X_test, y_train, y_test = train_test_split(X, y, test_size=0.2)\n",
    "\n",
    "m = X_train.shape[0]\n",
    "n = X_train.shape[1]\n",
    "learning_rate = 0.001\n",
    "\n",
    "\n",
    "W = tf.Variable(tf.zeros([n, 1]))\n",
    "b = tf.Variable(tf.zeros([1]))\n",
    "\n",
    "examples = tf.placeholder(tf.float32, [None, n]) # mnist data image of shape 28*28=784\n",
    "labels = tf.placeholder(tf.float32, [None, 1]) # 0-9 digits recognition => 10 classes\n",
    "\n",
    "#h = sigmoid(np.matmul(X, theta.T))\n",
    "pred = tf.nn.sigmoid(tf.matmul(examples, W) + b)\n",
    "y1 = tf.multiply(-labels, tf.log(pred))\n",
    "y2 = tf.multiply(1-labels, tf.log(1 - pred))\n",
    "#cost = tf.reduce_mean(-tf.reduce_sum(labels*tf.log(pred), reduction_indices=1))\n",
    "cost = tf.reduce_mean(y1 - y2)\n",
    "#cost = tf.nn.l2_loss(pred - labels)\n",
    "optimizer = tf.train.GradientDescentOptimizer(learning_rate).minimize(cost)\n",
    "\n",
    "\n",
    "\n",
    "    #y1 = np.multiply(-y, np.log(h))\n",
    "    #y0 = np.multiply((1 - y), np.log(1 - h))\n",
    "    #j = np.sum(y1 - y0) / (len(X))\n",
    "    \n",
    "# Initializing the variables\n",
    "init = tf.global_variables_initializer()\n",
    "\n",
    "# Launch the graph\n",
    "with tf.Session() as sess:\n",
    "    sess.run(init)\n",
    "   \n",
    "    \n",
    "    for i in range(1, 1000):\n",
    "        sess.run(optimizer, feed_dict={\n",
    "            examples: X_train,\n",
    "            labels: y_train\n",
    "        }) \n",
    "        #print(cost)\n",
    "        \n",
    "    print('bias:', sess.run(b))\n",
    "    print('weights:', sess.run(W))\n",
    "    \n",
    "    cls = sess.run(pred, feed_dict={\n",
    "        examples: X_test\n",
    "    })\n",
    "    print(cls)\n",
    "    \n"
   ]
  },
  {
   "cell_type": "code",
   "execution_count": null,
   "metadata": {
    "collapsed": true
   },
   "outputs": [],
   "source": []
  }
 ],
 "metadata": {
  "anaconda-cloud": {},
  "kernelspec": {
   "display_name": "Python 3",
   "language": "python",
   "name": "python3"
  },
  "language_info": {
   "codemirror_mode": {
    "name": "ipython",
    "version": 3
   },
   "file_extension": ".py",
   "mimetype": "text/x-python",
   "name": "python",
   "nbconvert_exporter": "python",
   "pygments_lexer": "ipython3",
   "version": "3.6.0"
  }
 },
 "nbformat": 4,
 "nbformat_minor": 2
}
