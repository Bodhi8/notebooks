{
 "cells": [
  {
   "cell_type": "code",
   "execution_count": 30,
   "metadata": {
    "collapsed": false
   },
   "outputs": [],
   "source": [
    "import pandas as pd\n",
    "import numpy as np\n",
    "\n",
    "data = pd.read_csv('data2.txt')\n",
    "data.insert(0, '1', 1)\n",
    "#data = data[data['class'] <= 2]\n",
    "\n",
    "X = data.as_matrix(columns=['1', 'a', 'b'])\n",
    "y = data.as_matrix(columns=['label'])"
   ]
  },
  {
   "cell_type": "code",
   "execution_count": 32,
   "metadata": {
    "collapsed": false
   },
   "outputs": [
    {
     "name": "stdout",
     "output_type": "stream",
     "text": [
      "    1          a          b  label\n",
      "0   1  34.623660  78.024693      0\n",
      "1   1  30.286711  43.894998      0\n",
      "2   1  35.847409  72.902198      0\n",
      "5   1  45.083277  56.316372      0\n",
      "10  1  95.861555  38.225278      0\n",
      "11  1  75.013658  30.603263      0\n",
      "14  1  39.538339  76.036811      0\n",
      "17  1  67.946855  46.678574      0\n",
      "20  1  67.372028  42.838438      0\n",
      "22  1  50.534788  48.855812      0\n",
      "23  1  34.212061  44.209529      0\n",
      "27  1  93.114389  38.800670      0\n",
      "28  1  61.830206  50.256108      0\n",
      "29  1  38.785804  64.995681      0\n",
      "32  1  52.107980  63.127624      0\n",
      "34  1  40.236894  71.167748      0\n",
      "35  1  54.635106  52.213886      0\n",
      "36  1  33.915500  98.869436      0\n",
      "38  1  74.789253  41.573415      0\n",
      "39  1  34.183640  75.237720      0\n",
      "41  1  51.547720  46.856290      0\n",
      "43  1  82.368754  40.618255      0\n",
      "44  1  51.047752  45.822701      0\n",
      "45  1  62.222676  52.060992      0\n",
      "53  1  34.524514  60.396342      0\n",
      "54  1  50.286496  49.804539      0\n",
      "55  1  49.586677  59.808951      0\n",
      "57  1  32.577200  95.598548      0\n",
      "61  1  35.286113  47.020514      0\n",
      "62  1  56.253817  39.261473      0\n",
      "63  1  30.058822  49.592974      0\n",
      "64  1  44.668262  66.450086      0\n",
      "65  1  66.560894  41.092098      0\n",
      "67  1  49.072563  51.883212      0\n",
      "70  1  32.722833  43.307173      0\n",
      "78  1  60.455556  42.508409      0\n",
      "79  1  82.226662  42.719879      0\n",
      "86  1  42.075455  78.844786      0\n",
      "89  1  52.348004  60.769505      0\n",
      "92  1  55.482161  35.570703      0\n"
     ]
    },
    {
     "data": {
      "text/plain": [
       "<matplotlib.collections.PathCollection at 0x118834048>"
      ]
     },
     "execution_count": 32,
     "metadata": {},
     "output_type": "execute_result"
    },
    {
     "data": {
      "image/png": "[encoded data removed]",
      "text/plain": [
       "<matplotlib.figure.Figure at 0x11a176ba8>"
      ]
     },
     "metadata": {},
     "output_type": "display_data"
    }
   ],
   "source": [
    "import matplotlib.pyplot as plt\n",
    "%matplotlib inline\n",
    "\n",
    "def y_filter(X, y, value):\n",
    "    return [X[i,:] for i in range(len(X)) if y[i,0] == value]\n",
    "\n",
    "zeros = data.query('label==0')\n",
    "ones = data.query('label==1')\n",
    "x0_1, x1_1 = zip(*[(X[i,1], X[i,2]) for i in range(len(X)) if y[i,0] == 0])\n",
    "x0_2, x1_2 = zip(*[(X[i,1], X[i,2]) for i in range(len(X)) if y[i,0] == 1])\n",
    "plt.scatter(zeros.a, x1_1, marker='+', color='red')\n",
    "plt.scatter(x0_2, x1_2, marker='x', color='green')"
   ]
  },
  {
   "cell_type": "code",
   "execution_count": 27,
   "metadata": {
    "collapsed": false
   },
   "outputs": [],
   "source": [
    "import numpy as np\n",
    "\n",
    "def sigmoid(X):\n",
    "    return 1 / (1 + np.exp(-X))\n",
    "\n",
    "def predict(X, theta):\n",
    "    return sigmoid(X * np.matrix(theta).T) >= 0.5#np.matmul(X, np.matrix(theta).T)) >=0.5\n",
    "\n",
    "def cost(theta, X, y):\n",
    "    theta = np.matrix(theta)\n",
    "    \n",
    "    h = sigmoid(np.matmul(X, theta.T))\n",
    "    y1 = np.multiply(-y, np.log(h))\n",
    "    #y1 = -y.T * np.log(h)\n",
    "    y0 = np.multiply((1 - y), np.log(1 - h))\n",
    "    j = np.sum(y1 - y0) / (len(X))\n",
    "    \n",
    "    return j\n",
    "\n",
    "def gradient(theta, X, y):\n",
    "    error = sigmoid(X * np.matrix(theta).T) - y\n",
    "    grad = (1/len(X)) * np.matmul(X.T, error)\n",
    "    \n",
    "    return grad"
   ]
  },
  {
   "cell_type": "code",
   "execution_count": 28,
   "metadata": {
    "collapsed": false
   },
   "outputs": [
    {
     "name": "stdout",
     "output_type": "stream",
     "text": [
      "[-25.16131869   0.20623159   0.20147149]\n",
      "0.203497701589\n"
     ]
    }
   ],
   "source": [
    "import scipy.optimize as opt  \n",
    "\n",
    "result = opt.fmin_tnc(func=cost, x0=theta, fprime=gradient, args=(X, y))\n",
    "theta = result[0]\n",
    "\n",
    "print(theta)\n",
    "print(cost(theta, X, y))"
   ]
  },
  {
   "cell_type": "code",
   "execution_count": 29,
   "metadata": {
    "collapsed": false
   },
   "outputs": [
    {
     "name": "stdout",
     "output_type": "stream",
     "text": [
      "29.0588224467 100.827857797 29.6032632343 99.8694357422\n"
     ]
    },
    {
     "data": {
      "text/plain": [
       "<matplotlib.collections.PathCollection at 0x11a321f98>"
      ]
     },
     "execution_count": 29,
     "metadata": {},
     "output_type": "execute_result"
    },
    {
     "data": {
      "image/png": "[encoded data removed]",
      "text/plain": [
       "<matplotlib.figure.Figure at 0x119ef25f8>"
      ]
     },
     "metadata": {},
     "output_type": "display_data"
    }
   ],
   "source": [
    "x_min, x_max = X[:, 1].min() - 1, X[:, 1].max() + 1\n",
    "y_min, y_max = X[:, 2].min() - 1, X[:, 2].max() + 1\n",
    "xx, yy = np.meshgrid(np.linspace(x_min, x_max, 100),\n",
    "                     np.linspace(-10, y_max, 100))\n",
    "print(x_min, x_max, y_min, y_max)\n",
    "\n",
    "temp = np.c_[np.ones(10000), xx.ravel(), yy.ravel()]\n",
    "Z = predict(temp, theta)# sigmoid(np.matmul(temp, theta))\n",
    "from matplotlib import cm\n",
    "\n",
    "#Z = np.delete(Z, [0], axis=1)\n",
    "#print(Z.shape, xx.shape)\n",
    "Z = np.reshape(Z, xx.shape)\n",
    "#print(Z)\n",
    "#print(Z.shape)\n",
    "#print(theta)\n",
    "x0_1, x1_1 = zip(*[(X[i,1], X[i,2]) for i in range(len(X)) if y[i] == 0])\n",
    "x0_2, x1_2 = zip(*[(X[i,1], X[i,2]) for i in range(len(X)) if y[i] == 1])\n",
    "\n",
    "\n",
    "plt.contourf(xx, yy, Z, cmap=cm.Paired)\n",
    "#plt.contour(xx, yy, Z, np.logspace(-25,25, 20))\n",
    "plt.scatter(x0_1, x1_1, marker='+', color='black')\n",
    "plt.scatter(x0_2, x1_2, marker='o', color='red')"
   ]
  },
  {
   "cell_type": "code",
   "execution_count": null,
   "metadata": {
    "collapsed": true
   },
   "outputs": [],
   "source": []
  },
  {
   "cell_type": "code",
   "execution_count": null,
   "metadata": {
    "collapsed": true
   },
   "outputs": [],
   "source": []
  }
 ],
 "metadata": {
  "anaconda-cloud": {},
  "kernelspec": {
   "display_name": "Python 3",
   "language": "python",
   "name": "python3"
  },
  "language_info": {
   "codemirror_mode": {
    "name": "ipython",
    "version": 3
   },
   "file_extension": ".py",
   "mimetype": "text/x-python",
   "name": "python",
   "nbconvert_exporter": "python",
   "pygments_lexer": "ipython3",
   "version": "3.6.0"
  }
 },
 "nbformat": 4,
 "nbformat_minor": 2
}
