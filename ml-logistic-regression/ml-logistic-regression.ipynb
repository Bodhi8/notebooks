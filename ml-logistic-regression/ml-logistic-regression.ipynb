{
 "cells": [
  {
   "cell_type": "markdown",
   "metadata": {},
   "source": [
    "First, we load our data.  This time, I'm adding a column of 1s directly to the dataframe, so that it's already there later on when we want to build new sets of training data.\n",
    "\n",
    " - note on binarize\n",
    " - matrix treatment"
   ]
  },
  {
   "cell_type": "code",
   "execution_count": 1,
   "metadata": {
    "collapsed": false
   },
   "outputs": [],
   "source": [
    "import pandas as pd\n",
    "import numpy as np\n",
    "from sklearn.preprocessing import label_binarize\n",
    "\n",
    "data = pd.read_csv('data.txt')\n",
    "data.insert(0, '1', 1)\n",
    "\n",
    "X = data.as_matrix(columns=['1', 'alcohol', 'ash'])\n",
    "y = np.matrix(label_binarize(data['class'], [1, 2, 3]))[:,0]"
   ]
  },
  {
   "cell_type": "markdown",
   "metadata": {},
   "source": [
    " - train / test sets"
   ]
  },
  {
   "cell_type": "code",
   "execution_count": 2,
   "metadata": {
    "collapsed": false
   },
   "outputs": [
    {
     "name": "stdout",
     "output_type": "stream",
     "text": [
      "train: 142 test: 36\n"
     ]
    }
   ],
   "source": [
    "from sklearn.model_selection import train_test_split\n",
    "\n",
    "X_train, X_test, y_train, y_test = train_test_split(X, y, test_size=0.2)\n",
    "print('train:', len(X_train), 'test:', len(X_test))"
   ]
  },
  {
   "cell_type": "code",
   "execution_count": 3,
   "metadata": {
    "collapsed": false
   },
   "outputs": [
    {
     "data": {
      "image/png": "[encoded data removed]",
      "text/plain": [
       "<matplotlib.figure.Figure at 0x117ce8748>"
      ]
     },
     "metadata": {},
     "output_type": "display_data"
    }
   ],
   "source": [
    "import matplotlib.pyplot as plt\n",
    "%matplotlib inline\n",
    "\n",
    "MARKERS = ['+', 'x', '.']\n",
    "COLORS = ['red', 'green', 'blue']\n",
    "\n",
    "def filter_by_label(X, y, value):\n",
    "    return np.matrix([X[i,:] for i in range(len(X)) if y[i,0] == value])\n",
    "\n",
    "def plot_points(xy, labels):\n",
    "    \n",
    "    for i, label in enumerate(set(labels.A.flatten())):\n",
    "        points = np.matrix([xy[j,:] for j in range(len(xy)) if labels[j,0] == label])\n",
    "        marker = MARKERS[i % len(MARKERS)]\n",
    "        color = COLORS[i % len(COLORS)]\n",
    "        plt.scatter(points[:,0], points[:,1], marker=marker, color=color)\n",
    "\n",
    "plot_points(X_train[:,1:3], y_train)"
   ]
  },
  {
   "cell_type": "code",
   "execution_count": 4,
   "metadata": {
    "collapsed": false
   },
   "outputs": [],
   "source": [
    "import numpy as np\n",
    "\n",
    "def sigmoid(X):\n",
    "    return 1 / (1 + np.exp(-X))\n",
    "\n",
    "def predict(X, theta):\n",
    "    return sigmoid(X * np.matrix(theta).T) >= 0.5\n",
    "\n",
    "def cost(theta, X, y):\n",
    "    theta = np.matrix(theta)\n",
    "    \n",
    "    h = sigmoid(np.matmul(X, theta.T))\n",
    "    y1 = np.multiply(-y, np.log(h))\n",
    "    y0 = np.multiply((1 - y), np.log(1 - h))\n",
    "    j = np.sum(y1 - y0) / (len(X))\n",
    "    return j\n",
    "\n",
    "def gradient(theta, X, y):\n",
    "    error = sigmoid(X * np.matrix(theta).T) - y\n",
    "    grad = (1/len(X)) * np.matmul(X.T, error)\n",
    "    \n",
    "    return grad"
   ]
  },
  {
   "cell_type": "code",
   "execution_count": 5,
   "metadata": {
    "collapsed": false
   },
   "outputs": [
    {
     "name": "stdout",
     "output_type": "stream",
     "text": [
      "theta:  [-41.0785592    2.92096761   0.71740861]\n",
      "cost: 0.36482918727\n"
     ]
    }
   ],
   "source": [
    "import scipy.optimize as opt  \n",
    "\n",
    "result = opt.fmin_tnc(func=cost, x0=np.zeros(3), fprime=gradient, args=(X_train, y_train))\n",
    "theta = result[0]\n",
    "\n",
    "print('theta: ', theta)\n",
    "print('cost:', cost(theta, X, y))"
   ]
  },
  {
   "cell_type": "code",
   "execution_count": 6,
   "metadata": {
    "collapsed": false
   },
   "outputs": [
    {
     "data": {
      "image/png": "[encoded data removed]",
      "text/plain": [
       "<matplotlib.figure.Figure at 0x10e4b4e80>"
      ]
     },
     "metadata": {},
     "output_type": "display_data"
    }
   ],
   "source": [
    "from matplotlib import cm\n",
    "\n",
    "def plot_boundary(X, theta, pred):\n",
    "    \n",
    "    x_min, x_max = X[:,1].min(), X[:,1].max()\n",
    "    y_min, y_max = X[:,2].min(), X[:,2].max()\n",
    "    xx, yy = np.meshgrid(\n",
    "        np.linspace(x_min, x_max, 100),\n",
    "        np.linspace(y_min, y_max, 100)\n",
    "    )\n",
    "\n",
    "    inputs = np.c_[np.ones(10000), xx.ravel(), yy.ravel()]\n",
    "    predictions = pred(inputs, theta).reshape(xx.shape)\n",
    "\n",
    "    plt.contour(xx, yy, predictions)\n",
    "    \n",
    "plot_points(X_train[:,1:3], y_train)\n",
    "plot_boundary(X_train, theta, predict)"
   ]
  },
  {
   "cell_type": "code",
   "execution_count": 7,
   "metadata": {
    "collapsed": false
   },
   "outputs": [
    {
     "data": {
      "image/png": "[encoded data removed]",
      "text/plain": [
       "<matplotlib.figure.Figure at 0x10e426400>"
      ]
     },
     "metadata": {},
     "output_type": "display_data"
    }
   ],
   "source": [
    "plot_boundary(X_test, theta, predict)\n",
    "plot_points(X_test[:,1:3], y_test)"
   ]
  },
  {
   "cell_type": "code",
   "execution_count": 8,
   "metadata": {
    "collapsed": false
   },
   "outputs": [
    {
     "name": "stdout",
     "output_type": "stream",
     "text": [
      "accuracy: 0.777777777778\n"
     ]
    }
   ],
   "source": [
    "from sklearn.metrics import accuracy_score, precision_score, recall_score\n",
    "\n",
    "print('accuracy:', accuracy_score(y_test, predict(X_test, theta)))"
   ]
  },
  {
   "cell_type": "code",
   "execution_count": 18,
   "metadata": {
    "collapsed": false
   },
   "outputs": [
    {
     "data": {
      "image/png": "[encoded data removed]",
      "text/plain": [
       "<matplotlib.figure.Figure at 0x11bc229e8>"
      ]
     },
     "metadata": {},
     "output_type": "display_data"
    }
   ],
   "source": [
    "X = data.as_matrix(columns=['1', 'alcohol', 'flavanoids'])\n",
    "y = data.as_matrix(columns=['class'])\n",
    "X_train, X_test, y_train, y_test = train_test_split(X, y, test_size=0.2)\n",
    "y_train = np.matrix(label_binarize(y_train, [1, 2, 3]))\n",
    "\n",
    "plot_points(X_train[:,1:3], y_train.argmax(axis=1))"
   ]
  },
  {
   "cell_type": "code",
   "execution_count": 21,
   "metadata": {
    "collapsed": false
   },
   "outputs": [
    {
     "data": {
      "image/png": "[encoded data removed]",
      "text/plain": [
       "<matplotlib.figure.Figure at 0x11bb933c8>"
      ]
     },
     "metadata": {},
     "output_type": "display_data"
    }
   ],
   "source": [
    "thetas = dict()\n",
    "  \n",
    "result = opt.fmin_tnc(func=cost, x0=np.zeros(3), fprime=gradient, args=(X_train, y_train[:,0]))\n",
    "theta1 = result[0]\n",
    "\n",
    "result = opt.fmin_tnc(func=cost, x0=np.zeros(3), fprime=gradient, args=(X_train, y_train[:,1]))\n",
    "theta2 = result[0]\n",
    "\n",
    "result = opt.fmin_tnc(func=cost, x0=np.zeros(3), fprime=gradient, args=(X_train, y_train[:,2]))\n",
    "theta3 = result[0]\n",
    "\n",
    "thetas = [\n",
    "    (1, theta1),\n",
    "    (2, theta2),\n",
    "    (3, theta3)\n",
    "]\n",
    "\n",
    "def predict2(X, thetas):\n",
    "\n",
    "    labels = [t[0] for t in thetas]\n",
    "    preds = [sigmoid(X * np.matrix(t[1]).T) for t in thetas]\n",
    "    preds = np.column_stack(preds)\n",
    "\n",
    "    argmax2 = preds.argmax(axis=1)\n",
    "    argmax2 = np.vectorize(lambda v: labels[v])(preds.argmax(axis=1))\n",
    "\n",
    "\n",
    "    return argmax2# + 1\n",
    "    \n",
    "  \n",
    "\n",
    "plot_points(X_train[:,1:3], y_train.argmax(axis=1))\n",
    "plot_boundary(X_train, thetas, predict2)\n"
   ]
  },
  {
   "cell_type": "code",
   "execution_count": 22,
   "metadata": {
    "collapsed": false
   },
   "outputs": [
    {
     "ename": "ValueError",
     "evalue": "Found input variables with inconsistent numbers of samples: [36, 1]",
     "output_type": "error",
     "traceback": [
      "\u001b[0;31m---------------------------------------------------------------------------\u001b[0m",
      "\u001b[0;31mValueError\u001b[0m                                Traceback (most recent call last)",
      "\u001b[0;32m<ipython-input-22-5166f60f696c>\u001b[0m in \u001b[0;36m<module>\u001b[0;34m()\u001b[0m\n\u001b[1;32m      3\u001b[0m \u001b[0;31m#print(y_test)\u001b[0m\u001b[0;34m\u001b[0m\u001b[0;34m\u001b[0m\u001b[0m\n\u001b[1;32m      4\u001b[0m \u001b[0;31m#print(r)\u001b[0m\u001b[0;34m\u001b[0m\u001b[0;34m\u001b[0m\u001b[0m\n\u001b[0;32m----> 5\u001b[0;31m \u001b[0mprint\u001b[0m\u001b[0;34m(\u001b[0m\u001b[0;34m'accuracy:'\u001b[0m\u001b[0;34m,\u001b[0m \u001b[0maccuracy_score\u001b[0m\u001b[0;34m(\u001b[0m\u001b[0my_test\u001b[0m\u001b[0;34m,\u001b[0m \u001b[0mpredict2\u001b[0m\u001b[0;34m(\u001b[0m\u001b[0mX_test\u001b[0m\u001b[0;34m,\u001b[0m \u001b[0mthetas\u001b[0m\u001b[0;34m)\u001b[0m\u001b[0;34m.\u001b[0m\u001b[0mT\u001b[0m\u001b[0;34m)\u001b[0m\u001b[0;34m)\u001b[0m\u001b[0;34m\u001b[0m\u001b[0m\n\u001b[0m\u001b[1;32m      6\u001b[0m \u001b[0mprint\u001b[0m\u001b[0;34m(\u001b[0m\u001b[0;34m'precision:'\u001b[0m\u001b[0;34m,\u001b[0m \u001b[0mprecision_score\u001b[0m\u001b[0;34m(\u001b[0m\u001b[0my_test\u001b[0m\u001b[0;34m,\u001b[0m \u001b[0mpredict2\u001b[0m\u001b[0;34m(\u001b[0m\u001b[0mX_test\u001b[0m\u001b[0;34m,\u001b[0m \u001b[0mthetas\u001b[0m\u001b[0;34m)\u001b[0m\u001b[0;34m.\u001b[0m\u001b[0mT\u001b[0m\u001b[0;34m,\u001b[0m \u001b[0maverage\u001b[0m\u001b[0;34m=\u001b[0m\u001b[0;34m'macro'\u001b[0m\u001b[0;34m)\u001b[0m\u001b[0;34m)\u001b[0m\u001b[0;34m\u001b[0m\u001b[0m\n\u001b[1;32m      7\u001b[0m \u001b[0mprint\u001b[0m\u001b[0;34m(\u001b[0m\u001b[0;34m'recall:'\u001b[0m\u001b[0;34m,\u001b[0m \u001b[0mrecall_score\u001b[0m\u001b[0;34m(\u001b[0m\u001b[0my_test\u001b[0m\u001b[0;34m,\u001b[0m \u001b[0mpredict2\u001b[0m\u001b[0;34m(\u001b[0m\u001b[0mX_test\u001b[0m\u001b[0;34m,\u001b[0m \u001b[0mthetas\u001b[0m\u001b[0;34m)\u001b[0m\u001b[0;34m.\u001b[0m\u001b[0mT\u001b[0m\u001b[0;34m,\u001b[0m \u001b[0maverage\u001b[0m\u001b[0;34m=\u001b[0m\u001b[0;34m'macro'\u001b[0m\u001b[0;34m)\u001b[0m\u001b[0;34m)\u001b[0m\u001b[0;34m\u001b[0m\u001b[0m\n",
      "\u001b[0;32m/Users/csmith/anaconda3/lib/python3.6/site-packages/sklearn/metrics/classification.py\u001b[0m in \u001b[0;36maccuracy_score\u001b[0;34m(y_true, y_pred, normalize, sample_weight)\u001b[0m\n\u001b[1;32m    170\u001b[0m \u001b[0;34m\u001b[0m\u001b[0m\n\u001b[1;32m    171\u001b[0m     \u001b[0;31m# Compute accuracy for each possible representation\u001b[0m\u001b[0;34m\u001b[0m\u001b[0;34m\u001b[0m\u001b[0m\n\u001b[0;32m--> 172\u001b[0;31m     \u001b[0my_type\u001b[0m\u001b[0;34m,\u001b[0m \u001b[0my_true\u001b[0m\u001b[0;34m,\u001b[0m \u001b[0my_pred\u001b[0m \u001b[0;34m=\u001b[0m \u001b[0m_check_targets\u001b[0m\u001b[0;34m(\u001b[0m\u001b[0my_true\u001b[0m\u001b[0;34m,\u001b[0m \u001b[0my_pred\u001b[0m\u001b[0;34m)\u001b[0m\u001b[0;34m\u001b[0m\u001b[0m\n\u001b[0m\u001b[1;32m    173\u001b[0m     \u001b[0;32mif\u001b[0m \u001b[0my_type\u001b[0m\u001b[0;34m.\u001b[0m\u001b[0mstartswith\u001b[0m\u001b[0;34m(\u001b[0m\u001b[0;34m'multilabel'\u001b[0m\u001b[0;34m)\u001b[0m\u001b[0;34m:\u001b[0m\u001b[0;34m\u001b[0m\u001b[0m\n\u001b[1;32m    174\u001b[0m         \u001b[0mdiffering_labels\u001b[0m \u001b[0;34m=\u001b[0m \u001b[0mcount_nonzero\u001b[0m\u001b[0;34m(\u001b[0m\u001b[0my_true\u001b[0m \u001b[0;34m-\u001b[0m \u001b[0my_pred\u001b[0m\u001b[0;34m,\u001b[0m \u001b[0maxis\u001b[0m\u001b[0;34m=\u001b[0m\u001b[0;36m1\u001b[0m\u001b[0;34m)\u001b[0m\u001b[0;34m\u001b[0m\u001b[0m\n",
      "\u001b[0;32m/Users/csmith/anaconda3/lib/python3.6/site-packages/sklearn/metrics/classification.py\u001b[0m in \u001b[0;36m_check_targets\u001b[0;34m(y_true, y_pred)\u001b[0m\n\u001b[1;32m     70\u001b[0m     \u001b[0my_pred\u001b[0m \u001b[0;34m:\u001b[0m \u001b[0marray\u001b[0m \u001b[0;32mor\u001b[0m \u001b[0mindicator\u001b[0m \u001b[0mmatrix\u001b[0m\u001b[0;34m\u001b[0m\u001b[0m\n\u001b[1;32m     71\u001b[0m     \"\"\"\n\u001b[0;32m---> 72\u001b[0;31m     \u001b[0mcheck_consistent_length\u001b[0m\u001b[0;34m(\u001b[0m\u001b[0my_true\u001b[0m\u001b[0;34m,\u001b[0m \u001b[0my_pred\u001b[0m\u001b[0;34m)\u001b[0m\u001b[0;34m\u001b[0m\u001b[0m\n\u001b[0m\u001b[1;32m     73\u001b[0m     \u001b[0mtype_true\u001b[0m \u001b[0;34m=\u001b[0m \u001b[0mtype_of_target\u001b[0m\u001b[0;34m(\u001b[0m\u001b[0my_true\u001b[0m\u001b[0;34m)\u001b[0m\u001b[0;34m\u001b[0m\u001b[0m\n\u001b[1;32m     74\u001b[0m     \u001b[0mtype_pred\u001b[0m \u001b[0;34m=\u001b[0m \u001b[0mtype_of_target\u001b[0m\u001b[0;34m(\u001b[0m\u001b[0my_pred\u001b[0m\u001b[0;34m)\u001b[0m\u001b[0;34m\u001b[0m\u001b[0m\n",
      "\u001b[0;32m/Users/csmith/anaconda3/lib/python3.6/site-packages/sklearn/utils/validation.py\u001b[0m in \u001b[0;36mcheck_consistent_length\u001b[0;34m(*arrays)\u001b[0m\n\u001b[1;32m    179\u001b[0m     \u001b[0;32mif\u001b[0m \u001b[0mlen\u001b[0m\u001b[0;34m(\u001b[0m\u001b[0muniques\u001b[0m\u001b[0;34m)\u001b[0m \u001b[0;34m>\u001b[0m \u001b[0;36m1\u001b[0m\u001b[0;34m:\u001b[0m\u001b[0;34m\u001b[0m\u001b[0m\n\u001b[1;32m    180\u001b[0m         raise ValueError(\"Found input variables with inconsistent numbers of\"\n\u001b[0;32m--> 181\u001b[0;31m                          \" samples: %r\" % [int(l) for l in lengths])\n\u001b[0m\u001b[1;32m    182\u001b[0m \u001b[0;34m\u001b[0m\u001b[0m\n\u001b[1;32m    183\u001b[0m \u001b[0;34m\u001b[0m\u001b[0m\n",
      "\u001b[0;31mValueError\u001b[0m: Found input variables with inconsistent numbers of samples: [36, 1]"
     ]
    }
   ],
   "source": [
    "\n",
    "r = predict2(X_test, thetas)\n",
    "#print(y_test)\n",
    "#print(r)\n",
    "print('accuracy:', accuracy_score(y_test, predict2(X_test, thetas).T))\n",
    "print('precision:', precision_score(y_test, predict2(X_test, thetas).T, average='macro'))\n",
    "print('recall:', recall_score(y_test, predict2(X_test, thetas).T, average='macro'))"
   ]
  },
  {
   "cell_type": "code",
   "execution_count": null,
   "metadata": {
    "collapsed": false
   },
   "outputs": [],
   "source": [
    "X = data.drop('class', 1).as_matrix()\n",
    "y = data.as_matrix(columns=['class'])\n",
    "X_train, X_test, y_train, y_test = train_test_split(X, y, test_size=0.2)\n",
    "y_train = np.matrix(label_binarize(y_train, [1, 2, 3]))\n",
    "\n",
    "def cost2(theta, X, y, l):\n",
    "    theta = np.matrix(theta)\n",
    "    m = len(X)\n",
    "    \n",
    "    h = sigmoid(np.matmul(X, theta.T))\n",
    "    y1 = np.multiply(-y, np.log(h))\n",
    "    y0 = np.multiply((1 - y), np.log(1 - h))\n",
    "    j = np.sum(y1 - y0) / m\n",
    "    #z = j + (1 / (2 * m)) * np.square(theta).sum()\n",
    "    #print(z)\n",
    "    jreg = j + (1 / (2 * m)) * np.square(theta).sum()\n",
    "    #print(jreg)\n",
    "    return j\n",
    "\n",
    "def gradient2(theta, X, y, l):\n",
    "    error = sigmoid(X * np.matrix(theta).T) - y\n",
    "    grad = (1/len(X)) * np.matmul(X.T, error)\n",
    "    lm = (l / len(X)) * np.matrix(theta).T\n",
    "    #print(grad)\n",
    "    return grad + lm\n",
    "\n",
    "result = opt.fmin_tnc(func=cost, x0=np.zeros(14), fprime=gradient, args=(X_train, y_train[:,0]))\n",
    "theta1 = result[0]\n",
    "\n",
    "result = opt.fmin_tnc(func=cost, x0=np.zeros(14), fprime=gradient, args=(X_train, y_train[:,1]))\n",
    "theta2 = result[0]\n",
    "\n",
    "result = opt.fmin_tnc(func=cost, x0=np.zeros(14), fprime=gradient, args=(X_train, y_train[:,2]))\n",
    "theta3 = result[0]\n",
    "\n",
    "print(theta1)\n",
    "print(theta2)\n",
    "print(theta3)\n",
    "thetas = {\n",
    "    1: theta1,\n",
    "    2: theta2,\n",
    "    3: theta3\n",
    "}\n",
    "\n",
    "print('accuracy:', accuracy_score(y_test, predict2(X_test, thetas).T))\n",
    "print('precision:', precision_score(y_test, predict2(X_test, thetas).T, average='macro'))\n",
    "print('recall:', recall_score(y_test, predict2(X_test, thetas).T, average='macro'))\n",
    "\n",
    "result = opt.fmin_tnc(func=cost2, x0=np.zeros(14), fprime=gradient2, args=(X_train, y_train[:,0], 2))\n",
    "theta1 = result[0]\n",
    "\n",
    "result = opt.fmin_tnc(func=cost2, x0=np.zeros(14), fprime=gradient2, args=(X_train, y_train[:,1], 2))\n",
    "theta2 = result[0]\n",
    "\n",
    "result = opt.fmin_tnc(func=cost2, x0=np.zeros(14), fprime=gradient2, args=(X_train, y_train[:,2], 2))\n",
    "theta3 = result[0]\n",
    "\n",
    "#print(theta1)\n",
    "#print(theta2)\n",
    "thetas = {\n",
    "    1: theta1,\n",
    "    2: theta2,\n",
    "    3: theta3\n",
    "}\n",
    "\n",
    "print('accuracy:', accuracy_score(y_test, predict2(X_test, thetas).T))\n",
    "print('precision:', precision_score(y_test, predict2(X_test, thetas).T, average='macro'))\n",
    "print('recall:', recall_score(y_test, predict2(X_test, thetas).T, average='macro'))"
   ]
  },
  {
   "cell_type": "markdown",
   "metadata": {},
   "source": [
    "import tensorflow as tf\n",
    "tf.logging.set_verbosity(tf.logging.INFO)\n",
    "\n",
    "X = data.drop('class', 1).as_matrix()\n",
    "y = data.as_matrix(columns=['class'])\n",
    "y = np.matrix(label_binarize(y, [1, 2, 3]))[:,0]\n",
    "\n",
    "X_train, X_test, y_train, y_test = train_test_split(X, y, test_size=0.2)\n",
    "\n",
    "m = X_train.shape[0]\n",
    "n = X_train.shape[1]\n",
    "learning_rate = 0.001\n",
    "\n",
    "\n",
    "W = tf.Variable(tf.zeros([n, 1]))\n",
    "b = tf.Variable(tf.zeros([1]))\n",
    "\n",
    "examples = tf.placeholder(tf.float32, [None, n]) # mnist data image of shape 28*28=784\n",
    "labels = tf.placeholder(tf.float32, [None, 1]) # 0-9 digits recognition => 10 classes\n",
    "\n",
    "#h = sigmoid(np.matmul(X, theta.T))\n",
    "pred = tf.nn.sigmoid(tf.matmul(examples, W) + b)\n",
    "y1 = tf.multiply(-labels, tf.log(pred))\n",
    "y2 = tf.multiply(1-labels, tf.log(1 - pred))\n",
    "#cost = tf.reduce_mean(-tf.reduce_sum(labels*tf.log(pred), reduction_indices=1))\n",
    "cost = tf.reduce_mean(y1 - y2)\n",
    "#cost = tf.nn.l2_loss(pred - labels)\n",
    "optimizer = tf.train.GradientDescentOptimizer(learning_rate).minimize(cost)\n",
    "\n",
    "\n",
    "\n",
    "    #y1 = np.multiply(-y, np.log(h))\n",
    "    #y0 = np.multiply((1 - y), np.log(1 - h))\n",
    "    #j = np.sum(y1 - y0) / (len(X))\n",
    "    \n",
    "# Initializing the variables\n",
    "init = tf.global_variables_initializer()\n",
    "\n",
    "# Launch the graph\n",
    "with tf.Session() as sess:\n",
    "    sess.run(init)\n",
    "   \n",
    "    \n",
    "    for i in range(1, 1000):\n",
    "        sess.run(optimizer, feed_dict={\n",
    "            examples: X_train,\n",
    "            labels: y_train\n",
    "        }) \n",
    "        #print(cost)\n",
    "        \n",
    "    print('bias:', sess.run(b))\n",
    "    print('weights:', sess.run(W))\n",
    "    \n",
    "    cls = sess.run(pred, feed_dict={\n",
    "        examples: X_test\n",
    "    })\n",
    "    print(cls)\n",
    "    \n"
   ]
  },
  {
   "cell_type": "code",
   "execution_count": null,
   "metadata": {
    "collapsed": true
   },
   "outputs": [],
   "source": []
  }
 ],
 "metadata": {
  "anaconda-cloud": {},
  "kernelspec": {
   "display_name": "Python 3",
   "language": "python",
   "name": "python3"
  },
  "language_info": {
   "codemirror_mode": {
    "name": "ipython",
    "version": 3
   },
   "file_extension": ".py",
   "mimetype": "text/x-python",
   "name": "python",
   "nbconvert_exporter": "python",
   "pygments_lexer": "ipython3",
   "version": "3.6.0"
  }
 },
 "nbformat": 4,
 "nbformat_minor": 2
}
