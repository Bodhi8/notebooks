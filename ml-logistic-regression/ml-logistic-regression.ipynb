{
 "cells": [
  {
   "cell_type": "markdown",
   "metadata": {},
   "source": [
    "This is the second in a series of posts in which I explore concepts in Andrew Ng's [Introduction to Machine Learning](https://www.coursera.org/learn/machine-learning) course on Coursera. As with the previous post on [linear regression](https://crsmithdev.com/blog/ml-linear-regression/), I'll be implementing an algorithm in Python, first using standard Python data science and numerical libraries, and then conclude by building it in [Tensorflow](https://www.tensorflow.org/).\n",
    "\n",
    "The topic of the week is [logistic regression](link).  Logistic regression looks and behaves similarly to [linear regression](link self), but instead of predicting a continuous output, classifies training examples into one of a distinct set of categories or labels.  For example, linear regression on a set of social and economic data might be used to predict a person's income, but logistic regression could be used to predict whether that person was married, had children, or had ever been arrested.  In a basic sense, logistic regression only answers questions that have yes / no answers, or questions that can be answered with one or zero.  However, it can easily be [extended](https://en.wikipedia.org/wiki/Multinomial_logistic_regression) to problems where there are a larger set of categories.\n",
    "\n",
    "The data set here is the [Wine](https://archive.ics.uci.edu/ml/datasets/Wine) dataset from UCI. It maps thirteen continuous variables representing chemical contents of a wine to three labels, each a different winery in Italy.\n",
    "\n",
    "# Loading and Plotting Data\n",
    " \n",
    "The first step is to load the data.  Initially, I'm only using two features from the data set: alcohol and ash.  The labels are supplied as an array of data with values from one to three, but to start with, I only want a simple regression problem with a yes or no answer.  To do this, I'll use the scikit-learn `label_binarize` function, which takes an $m$-length list with $n$ possible values, and converts it to an $m \\times n$ matrix, where each column represents one label with a value of `1`, and all others with a value of `0`.  Then, I choose the first column, meaning that I'm classifying wines from winery one against the other two.\n",
    "\n",
    "I've provided a small example below with 10 elements taken from a shuffled list of labels (the data set is ordered by winery, so the first ten of the unsorted array would all be `1`)."
   ]
  },
  {
   "cell_type": "code",
   "execution_count": 15,
   "metadata": {
    "collapsed": false
   },
   "outputs": [
    {
     "name": "stdout",
     "output_type": "stream",
     "text": [
      "original: [1 1 2 1 3 2 3 2 1 1]\n",
      "binarized: [[1 0 0]\n",
      " [1 0 0]\n",
      " [0 1 0]\n",
      " [1 0 0]\n",
      " [0 0 1]\n",
      " [0 1 0]\n",
      " [0 0 1]\n",
      " [0 1 0]\n",
      " [1 0 0]\n",
      " [1 0 0]]\n",
      "1s vs all: [1 1 0 1 0 0 0 0 1 1]\n"
     ]
    }
   ],
   "source": [
    "import pandas as pd\n",
    "import numpy as np\n",
    "from sklearn.preprocessing import label_binarize\n",
    "\n",
    "data = pd.read_csv('data.txt')\n",
    "\n",
    "X = data.as_matrix(columns=['alcohol', 'ash'])\n",
    "y = label_binarize(data['class'].values, [1, 2, 3])[:,0]\n",
    "\n",
    "example = np.copy(data['class'].values)\n",
    "np.random.shuffle(example)\n",
    "example = example[0:10]\n",
    "print('original:', example)\n",
    "example = label_binarize(example, list(set(example)))\n",
    "print('binarized:', example)\n",
    "print('1s vs all:', example[:,0])"
   ]
  },
  {
   "cell_type": "markdown",
   "metadata": {},
   "source": [
    "I also split the data into training and testing sets before going further.  A simple way to do this is with the `train_test_split` function from scikit-learn, which allows me to specify a percentage (here 20%) to sample randomly from the data set and partition from the training set."
   ]
  },
  {
   "cell_type": "code",
   "execution_count": 16,
   "metadata": {
    "collapsed": false
   },
   "outputs": [
    {
     "name": "stdout",
     "output_type": "stream",
     "text": [
      "train: 142 test: 36\n"
     ]
    }
   ],
   "source": [
    "from sklearn.model_selection import train_test_split\n",
    "\n",
    "X_train, X_test, y_train, y_test = train_test_split(X, y, test_size=0.2)\n",
    "print('train:', len(X_train), 'test:', len(X_test))"
   ]
  },
  {
   "cell_type": "markdown",
   "metadata": {},
   "source": [
    "Because I'm going to be drawing a lot of data plots, I define a function that takes an $n \\times 2$ array of data points `xy`, using an $n \\times 1$ array `labels` to vary the symbol and color for each point."
   ]
  },
  {
   "cell_type": "code",
   "execution_count": 17,
   "metadata": {
    "collapsed": false
   },
   "outputs": [
    {
     "data": {
      "image/png": "[encoded data removed]",
      "text/plain": [
       "<matplotlib.figure.Figure at 0x119f09f60>"
      ]
     },
     "metadata": {},
     "output_type": "display_data"
    }
   ],
   "source": [
    "import matplotlib.pyplot as plt\n",
    "%matplotlib inline\n",
    "\n",
    "MARKERS = ['+', 'x', '.']\n",
    "COLORS = ['red', 'green', 'blue']\n",
    "\n",
    "def plot_points(xy, labels):\n",
    "    \n",
    "    for i, label in enumerate(set(labels)):\n",
    "        points = np.array([xy[j,:] for j in range(len(xy)) if labels[j] == label])\n",
    "        marker = MARKERS[i % len(MARKERS)]\n",
    "        color = COLORS[i % len(COLORS)]\n",
    "        plt.scatter(points[:,0], points[:,1], marker=marker, color=color)\n",
    "\n",
    "plot_points(X_train, y_train)"
   ]
  },
  {
   "cell_type": "markdown",
   "metadata": {},
   "source": [
    "There's a fairly obvious area near the center of the plot where a vertical line could divide the two colors of points with a small amount of error, so this is a good place to start.\n",
    "\n",
    "# Simple Logistic Regression\n",
    "\n",
    "A two-feature, two-label implementation of logistic regression requires three things: a hypothesis function $h_\\theta(x)$, a cost function $J(\\theta)$, and a gradient descent algorithm to minimize the value of $J(\\theta)$.\n",
    "\n",
    "The hypothesis function $h_\\theta$ in logistic regression is the [sigmoid](https://www.quora.com/Logistic-Regression-Why-sigmoid-function) function.  Conveniently, this function is bounded between 0 and 1, producing a probability value that can be interpreted as a yes / no answer based on whether the output is above or below 0.5:\n",
    "\n",
    "$$\n",
    "h_\\theta(x) = \\frac{1}{1 + e^{ \\theta^Tx}}\n",
    "$$\n",
    "\n",
    "It might seem tempting to just use [mean squared error](https://en.wikipedia.org/wiki/Mean_squared_error) again, but with the sigmoid function as $h_\\theta$, that would result in a cost function that [isn't convex](http://mathworld.wolfram.com/SigmoidFunction.html), meaning gradient descent wouldn't be guaranteed to find a global minimum.  Instead, we want a cost function that works differently for cases 0 and 1, and it's possible to rearrange the resulting multi-case function into a single function that's much easier to express computationally:\n",
    "\n",
    "\\begin{align}\n",
    "Cost(h_\\theta(x), y) & = \\left\\{\\begin{array}{cr}\n",
    "        -log(h_\\theta(x)) & \\text{if } y = 1 \\\\\n",
    "        -log(1 - h_\\theta(X)) & \\text{if } y = 0 \\\\\n",
    "        \\end{array}\\right\\} \\\\\n",
    "J(\\theta) & =-\\frac{1}{m}\\sum_{i=1}^{m}y^{i}\\log(h_\\theta(x^{i}))+(1-y^{i})\\log(1-h_\\theta(x^{i}))\n",
    "\\end{align}\n",
    "\n",
    "Fortunately, the [derivative](https://math.stackexchange.com/questions/477207/derivative-of-cost-function-for-logistic-regression) of this function is exactly the same as that of linear regression, just with a different $h_\\theta(x)$:\n",
    "\n",
    "$$\n",
    "\\frac{\\partial}{\\partial\\theta_{j}}J(\\theta) =\\sum_{i=1}^{m}(h_\\theta(x^{i})-y^i)x_j^i\n",
    "$$"
   ]
  },
  {
   "cell_type": "code",
   "execution_count": 31,
   "metadata": {
    "collapsed": false
   },
   "outputs": [],
   "source": [
    "import numpy as np\n",
    "\n",
    "def sigmoid(X):\n",
    "    return 1 / (1 + np.exp(-X))\n",
    "\n",
    "def cost(theta, X, y):\n",
    "    theta = theta[:,None]\n",
    "    y = y[:,None]\n",
    "    \n",
    "    hyp = sigmoid(X.dot(theta))\n",
    "    pos = np.multiply(-y, np.log(hyp))\n",
    "    neg = np.multiply((1 - y), np.log(1 - hyp))\n",
    "    \n",
    "    return np.sum(pos - neg) / (len(X))\n",
    "\n",
    "def gradient(theta, X, y):\n",
    "    theta = theta[:,None]\n",
    "    y = y[:,None]\n",
    "    print(theta.shape, theta, type(theta))\n",
    "    \n",
    "    error = sigmoid(X.dot(theta)) - y\n",
    "    return X.T.dot(error) / len(X)"
   ]
  },
  {
   "cell_type": "markdown",
   "metadata": {},
   "source": [
    "It's worth noting the treatment of `y` and `theta` above.  In each function, I \n",
    "\n",
    "It's worth a note about arrays and matrices in numpy here.  In the above `cost` and `gradient` functions, I convert the `theta` values, from numpy arrays to numpy matrices.  A `matrix` is a subclass of `ndarray` that offers two \n",
    "\n",
    "In the functions `cost` and `gradient` above, I convert the `y` and `theta` values, which are input as numpy `ndarray`s, to numpy matrices.  In the course of working on this post, I found that converting to matrices was better for implementing the algorithims, as matrices follow stricter linear algebra rules and make the language more Octave/MATLAB-like and\n",
    "have other useful features.  Because the optimization algorithm used below prefers calls cost and gradient functions with arrays as $\\theta$ parameters, it's necessary to convert.  Fortunately, `numpy.asmatrix` doesn't copy any data, and small costs of converting the interface are less important here.\n",
    "\n",
    "To actually perform the gradient descent, I'm using a built-in algorithm from scipy called `fmin_tnc`, which performs the update step and `gradient` to find the global minimum of `cost`.  Note that right before running the optimizer, I prepend a column of 1s to the training data to add a constant bias parameter $\\theta_0$."
   ]
  },
  {
   "cell_type": "code",
   "execution_count": 32,
   "metadata": {
    "collapsed": false
   },
   "outputs": [
    {
     "name": "stdout",
     "output_type": "stream",
     "text": [
      "(3, 1) [[ 0.]\n",
      " [ 0.]\n",
      " [ 0.]] <class 'numpy.ndarray'>\n",
      "(3, 1) [[ -2.62344387e-09]\n",
      " [ -3.05001585e-08]\n",
      " [ -5.80200847e-09]] <class 'numpy.ndarray'>\n",
      "(3, 1) [[-0.00399367]\n",
      " [-0.04643035]\n",
      " [-0.00883239]] <class 'numpy.ndarray'>\n",
      "(3, 1) [[-0.00399367]\n",
      " [-0.04643035]\n",
      " [-0.00883239]] <class 'numpy.ndarray'>\n",
      "(3, 1) [[-0.07964099]\n",
      " [-0.04253418]\n",
      " [-0.04268306]] <class 'numpy.ndarray'>\n",
      "(3, 1) [[-0.07964099]\n",
      " [-0.04253418]\n",
      " [-0.04268306]] <class 'numpy.ndarray'>\n",
      "(3, 1) [[-7.20513636]\n",
      " [ 0.91308436]\n",
      " [-2.31479134]] <class 'numpy.ndarray'>\n",
      "(3, 1) [[-7.20513661]\n",
      " [ 0.9130844 ]\n",
      " [-2.31479126]] <class 'numpy.ndarray'>\n",
      "(3, 1) [[-7.26485126]\n",
      " [ 0.92053678]\n",
      " [-2.29481053]] <class 'numpy.ndarray'>\n",
      "(3, 1) [[-7.2648515 ]\n",
      " [ 0.92053681]\n",
      " [-2.29481059]] <class 'numpy.ndarray'>\n",
      "(3, 1) [[-11.02353246]\n",
      " [  1.37430192]\n",
      " [ -3.24402643]] <class 'numpy.ndarray'>\n",
      "(3, 1) [[-11.02353275]\n",
      " [  1.37430192]\n",
      " [ -3.24402651]] <class 'numpy.ndarray'>\n",
      "(3, 1) [[-11.07474097]\n",
      " [  1.37364417]\n",
      " [ -3.2568178 ]] <class 'numpy.ndarray'>\n",
      "(3, 1) [[-11.07474101]\n",
      " [  1.3736442 ]\n",
      " [ -3.25681762]] <class 'numpy.ndarray'>\n",
      "(3, 1) [[-11.07793712]\n",
      " [  1.37558542]\n",
      " [ -3.2445122 ]] <class 'numpy.ndarray'>\n",
      "(3, 1) [[-11.07793713]\n",
      " [  1.37558542]\n",
      " [ -3.2445122 ]] <class 'numpy.ndarray'>\n",
      "(3, 1) [[-20.31208048]\n",
      " [  1.39232032]\n",
      " [  0.59349721]] <class 'numpy.ndarray'>\n",
      "(3, 1) [[-20.31208049]\n",
      " [  1.39232032]\n",
      " [  0.5934972 ]] <class 'numpy.ndarray'>\n",
      "(3, 1) [[-20.32616136]\n",
      " [  1.38908978]\n",
      " [  0.56799065]] <class 'numpy.ndarray'>\n",
      "(3, 1) [[-20.32616136]\n",
      " [  1.38908979]\n",
      " [  0.56799065]] <class 'numpy.ndarray'>\n",
      "(3, 1) [[-24.81304989]\n",
      " [  1.60855971]\n",
      " [  1.10198917]] <class 'numpy.ndarray'>\n",
      "(3, 1) [[-24.81306371]\n",
      " [  1.60856043]\n",
      " [  1.10199115]] <class 'numpy.ndarray'>\n",
      "(3, 1) [[-32.68527773]\n",
      " [  2.01669665]\n",
      " [  2.23427329]] <class 'numpy.ndarray'>\n",
      "(3, 1) [[-32.6852789 ]\n",
      " [  2.01669671]\n",
      " [  2.23427344]] <class 'numpy.ndarray'>\n",
      "(3, 1) [[-36.15482963]\n",
      " [  2.19257721]\n",
      " [  2.67065914]] <class 'numpy.ndarray'>\n",
      "(3, 1) [[-36.15482968]\n",
      " [  2.19257721]\n",
      " [  2.67065913]] <class 'numpy.ndarray'>\n",
      "(3, 1) [[-36.29390986]\n",
      " [  2.20295803]\n",
      " [  2.64528141]] <class 'numpy.ndarray'>\n",
      "(3, 1) [[-36.29391047]\n",
      " [  2.20295807]\n",
      " [  2.64528146]] <class 'numpy.ndarray'>\n",
      "(3, 1) [[-41.05679326]\n",
      " [  2.49562985]\n",
      " [  2.99699225]] <class 'numpy.ndarray'>\n",
      "(3, 1) [[-41.05671886]\n",
      " [  2.49562701]\n",
      " [  2.99698683]] <class 'numpy.ndarray'>\n",
      "(3, 1) [[-40.85578718]\n",
      " [  2.48796903]\n",
      " [  2.98234678]] <class 'numpy.ndarray'>\n",
      "(3, 1) [[-40.85578751]\n",
      " [  2.48796906]\n",
      " [  2.98234679]] <class 'numpy.ndarray'>\n",
      "(3, 1) [[-44.58269906]\n",
      " [  2.74240172]\n",
      " [  3.11691982]] <class 'numpy.ndarray'>\n",
      "(3, 1) [[-44.5827105 ]\n",
      " [  2.74240219]\n",
      " [  3.11691993]] <class 'numpy.ndarray'>\n",
      "(3, 1) [[-44.62563743]\n",
      " [  2.74415711]\n",
      " [  3.11731743]] <class 'numpy.ndarray'>\n",
      "(3, 1) [[-44.62563766]\n",
      " [  2.74415713]\n",
      " [  3.11731743]] <class 'numpy.ndarray'>\n",
      "(3, 1) [[-48.16781876]\n",
      " [  3.01402999]\n",
      " [  3.09120151]] <class 'numpy.ndarray'>\n",
      "(3, 1) [[-48.16782629]\n",
      " [  3.01403038]\n",
      " [  3.09120119]] <class 'numpy.ndarray'>\n",
      "(3, 1) [[-48.20502281]\n",
      " [  3.01593781]\n",
      " [  3.08963236]] <class 'numpy.ndarray'>\n",
      "(3, 1) [[-48.20502303]\n",
      " [  3.01593783]\n",
      " [  3.08963235]] <class 'numpy.ndarray'>\n",
      "(3, 1) [[-50.82608254]\n",
      " [  3.23534969]\n",
      " [  2.96251634]] <class 'numpy.ndarray'>\n",
      "(3, 1) [[-50.82608567]\n",
      " [  3.23534988]\n",
      " [  2.96251597]] <class 'numpy.ndarray'>\n",
      "(3, 1) [[-50.85919215]\n",
      " [  3.23734945]\n",
      " [  2.95864982]] <class 'numpy.ndarray'>\n",
      "(3, 1) [[-50.85919227]\n",
      " [  3.23734946]\n",
      " [  2.95864981]] <class 'numpy.ndarray'>\n",
      "(3, 1) [[-53.27497657]\n",
      " [  3.47485858]\n",
      " [  2.65001231]] <class 'numpy.ndarray'>\n",
      "(3, 1) [[-53.2749784 ]\n",
      " [  3.4748587 ]\n",
      " [  2.65001192]] <class 'numpy.ndarray'>\n",
      "(3, 1) [[-53.29353723]\n",
      " [  3.47612349]\n",
      " [  2.646046  ]] <class 'numpy.ndarray'>\n",
      "(3, 1) [[-53.29353732]\n",
      " [  3.4761235 ]\n",
      " [  2.64604598]] <class 'numpy.ndarray'>\n",
      "(3, 1) [[-54.51604191]\n",
      " [  3.61832128]\n",
      " [  2.37101314]] <class 'numpy.ndarray'>\n",
      "(3, 1) [[-54.51604246]\n",
      " [  3.61832132]\n",
      " [  2.37101291]] <class 'numpy.ndarray'>\n",
      "(3, 1) [[-54.52632333]\n",
      " [  3.61912517]\n",
      " [  2.36658711]] <class 'numpy.ndarray'>\n",
      "(3, 1) [[-54.52632332]\n",
      " [  3.61912517]\n",
      " [  2.3665871 ]] <class 'numpy.ndarray'>\n",
      "(3, 1) [[-54.16163513]\n",
      " [  3.74735266]\n",
      " [  1.52771721]] <class 'numpy.ndarray'>\n",
      "(3, 1) [[-54.16163392]\n",
      " [  3.74735265]\n",
      " [  1.52771434]] <class 'numpy.ndarray'>\n",
      "(3, 1) [[-54.15858448]\n",
      " [  3.74732476]\n",
      " [  1.52049181]] <class 'numpy.ndarray'>\n",
      "(3, 1) [[-54.15858374]\n",
      " [  3.74732456]\n",
      " [  1.52049212]] <class 'numpy.ndarray'>\n",
      "(3, 1) [[-54.15282465]\n",
      " [  3.74574998]\n",
      " [  1.52292878]] <class 'numpy.ndarray'>\n",
      "(3, 1) [[-54.15282461]\n",
      " [  3.74574997]\n",
      " [  1.52292879]] <class 'numpy.ndarray'>\n",
      "(3, 1) [[-52.62408143]\n",
      " [  3.54047218]\n",
      " [  2.0267422 ]] <class 'numpy.ndarray'>\n",
      "(3, 1) [[-52.62408146]\n",
      " [  3.54047219]\n",
      " [  2.02674219]] <class 'numpy.ndarray'>\n",
      "(3, 1) [[-52.88233429]\n",
      " [  3.58114546]\n",
      " [  1.90891498]] <class 'numpy.ndarray'>\n",
      "(3, 1) [[-52.88233428]\n",
      " [  3.58114546]\n",
      " [  1.90891498]] <class 'numpy.ndarray'>\n",
      "(3, 1) [[-43.666101  ]\n",
      " [  3.11715916]\n",
      " [  0.70842304]] <class 'numpy.ndarray'>\n",
      "(3, 1) [[-43.66610104]\n",
      " [  3.1171585 ]\n",
      " [  0.70842295]] <class 'numpy.ndarray'>\n",
      "(3, 1) [[-43.66641106]\n",
      " [  3.11286748]\n",
      " [  0.70781095]] <class 'numpy.ndarray'>\n",
      "(3, 1) [[-43.66641102]\n",
      " [  3.11286737]\n",
      " [  0.70781161]] <class 'numpy.ndarray'>\n",
      "(3, 1) [[-43.64441504]\n",
      " [  3.03684635]\n",
      " [  1.1354658 ]] <class 'numpy.ndarray'>\n",
      "(3, 1) [[-43.64441509]\n",
      " [  3.03684569]\n",
      " [  1.13546569]] <class 'numpy.ndarray'>\n",
      "(3, 1) [[-43.64466202]\n",
      " [  3.03346915]\n",
      " [  1.13487474]] <class 'numpy.ndarray'>\n",
      "(3, 1) [[-43.64466189]\n",
      " [  3.03346896]\n",
      " [  1.13487536]] <class 'numpy.ndarray'>\n",
      "(3, 1) [[-43.64416709]\n",
      " [  3.03273534]\n",
      " [  1.1373053 ]] <class 'numpy.ndarray'>\n",
      "(3, 1) [[-43.64416708]\n",
      " [  3.03273534]\n",
      " [  1.1373053 ]] <class 'numpy.ndarray'>\n",
      "(3, 1) [[-43.60286601]\n",
      " [  3.01626527]\n",
      " [  1.21220507]] <class 'numpy.ndarray'>\n",
      "(3, 1) [[-43.60286601]\n",
      " [  3.01626527]\n",
      " [  1.21220507]] <class 'numpy.ndarray'>\n",
      "(3, 1) [[-43.58134331]\n",
      " [  3.01788232]\n",
      " [  1.19373346]] <class 'numpy.ndarray'>\n",
      "(3, 1) [[-43.5813433 ]\n",
      " [  3.01788232]\n",
      " [  1.19373345]] <class 'numpy.ndarray'>\n",
      "(3, 1) [[-43.57563881]\n",
      " [  3.01829483]\n",
      " [  1.18999991]] <class 'numpy.ndarray'>\n",
      "(3, 1) [[-43.57563881]\n",
      " [  3.01829483]\n",
      " [  1.18999991]] <class 'numpy.ndarray'>\n",
      "(3, 1) [[-42.96422887]\n",
      " [  2.97356271]\n",
      " [  1.18456424]] <class 'numpy.ndarray'>\n",
      "(3, 1) [[-42.96420743]\n",
      " [  2.9735623 ]\n",
      " [  1.18456422]] <class 'numpy.ndarray'>\n",
      "(3, 1) [[-42.96342688]\n",
      " [  2.97354754]\n",
      " [  1.18456351]] <class 'numpy.ndarray'>\n",
      "(3, 1) [[-42.96342689]\n",
      " [  2.97354754]\n",
      " [  1.18456351]] <class 'numpy.ndarray'>\n",
      "(3, 1) [[-42.97327658]\n",
      " [  2.97427732]\n",
      " [  1.18460118]] <class 'numpy.ndarray'>\n",
      "(3, 1) [[-42.97327658]\n",
      " [  2.97427732]\n",
      " [  1.18460118]] <class 'numpy.ndarray'>\n",
      "theta:  [-42.97327658   2.97427732   1.18460118]\n"
     ]
    }
   ],
   "source": [
    "from scipy.optimize import fmin_tnc  \n",
    "\n",
    "def train(X, y):\n",
    "    X = np.insert(X, 0, np.ones(len(X)), axis=1)\n",
    "    result = fmin_tnc(func=cost, x0=np.zeros(3), fprime=gradient, args=(X, y))\n",
    "    \n",
    "    return result[0]\n",
    "\n",
    "theta = train(X_train, y_train)\n",
    "print('theta: ', theta)"
   ]
  },
  {
   "cell_type": "markdown",
   "metadata": {},
   "source": [
    "# Decision Boundaries and Evaluation\n",
    "\n",
    "Its possible to evaluate the results of the optimization visually and statistically.  But before doing either, we need a prediction function that actually returns a 1 or 0 value for a new piece of data with the optimized $\\theta$ values.  To do so, I once again prepend 1s, and then just return the integer value of whether the result of $h_\\theta$ is above or below 0.5, the decision boundary.\n",
    "\n",
    "Scikit-learn provides three functions to calculate accuracy, [precision](https://en.wikipedia.org/wiki/Precision_and_recall), and [recall](https://en.wikipedia.org/wiki/Precision_and_recall), giving us a look at the performance of the classifier against unseen test data."
   ]
  },
  {
   "cell_type": "code",
   "execution_count": 23,
   "metadata": {
    "collapsed": false
   },
   "outputs": [
    {
     "name": "stdout",
     "output_type": "stream",
     "text": [
      "accuracy: 0.833333333333\n",
      "precision: 0.819397993311\n",
      "recall: 0.819397993311\n"
     ]
    }
   ],
   "source": [
    "from sklearn.metrics import accuracy_score, precision_score, recall_score\n",
    "\n",
    "def predict(X, theta):\n",
    "    X = np.insert(X, 0, np.ones(len(X)), axis=1)\n",
    "    return sigmoid(X * np.matrix(theta).T) >= 0.5\n",
    "\n",
    "predictions = predict(X_test, theta)\n",
    "\n",
    "print('accuracy:', accuracy_score(y_test, predictions))\n",
    "print('precision:', precision_score(y_test, predictions, average='macro'))\n",
    "print('recall:', recall_score(y_test, predictions, average='macro'))"
   ]
  },
  {
   "cell_type": "markdown",
   "metadata": {},
   "source": [
    "[???]\n",
    "\n",
    "It's much more interesting to see the results visually, at least while we can with only two features.  To plot the decision boundary visually, we need to draw lines on the plot where the sigmoid function $h_\\theta$ is approaches 0.5.  This can be accomplished using contour plots.\n",
    "\n",
    "Below, we define a `plot_boundary` function that takes an $n$ by 2 matrix of values and a prediction function, and builds a mesh grid of x and y points from the range of that input data.  After unwinding it into a data set that works with the prediction function above, it gets the sigmoid value for each point in 2d space, then plots a contour line for those approaching 0.5."
   ]
  },
  {
   "cell_type": "code",
   "execution_count": 24,
   "metadata": {
    "collapsed": false
   },
   "outputs": [
    {
     "data": {
      "image/png": "[encoded data removed]",
      "text/plain": [
       "<matplotlib.figure.Figure at 0x119f48b70>"
      ]
     },
     "metadata": {},
     "output_type": "display_data"
    }
   ],
   "source": [
    "from matplotlib import cm\n",
    "\n",
    "def plot_boundary(X, pred):\n",
    "    \n",
    "    x_min, x_max = X[:,0].min() - .1, X[:,0].max() + .1\n",
    "    y_min, y_max = X[:,1].min() - .1, X[:,1].max() + .1\n",
    "    \n",
    "    xs, ys = np.meshgrid(\n",
    "        np.linspace(x_min, x_max, 100),\n",
    "        np.linspace(y_min, y_max, 100)\n",
    "    )\n",
    "\n",
    "    xys = np.column_stack([xs.ravel(), ys.ravel()])\n",
    "    zs = pred(xys).reshape(xs.shape)\n",
    "\n",
    "    plt.contour(xs, ys, zs, colors='black')\n",
    "        \n",
    "plot_points(X_train, y_train)\n",
    "plot_boundary(X_train, lambda x: predict(x, theta))"
   ]
  },
  {
   "cell_type": "markdown",
   "metadata": {},
   "source": [
    "It seems sensible, near somewhere I might draw a line if I were estimating it by hand.  But how does it look agains the test data?"
   ]
  },
  {
   "cell_type": "code",
   "execution_count": 25,
   "metadata": {
    "collapsed": false
   },
   "outputs": [
    {
     "data": {
      "image/png": "[encoded data removed]",
      "text/plain": [
       "<matplotlib.figure.Figure at 0x119f34f28>"
      ]
     },
     "metadata": {},
     "output_type": "display_data"
    }
   ],
   "source": [
    "plot_boundary(X_test, lambda x: predict(x, theta))\n",
    "plot_points(X_test, y_test)"
   ]
  },
  {
   "cell_type": "markdown",
   "metadata": {
    "collapsed": false
   },
   "source": [
    "[???]\n",
    "\n",
    "Time for something more interesting: a similar set of two features from the data set (alcohol and flavanoids), but with three labels instead of two. Now, the output of `label_binarize` is used directly, meaning `y` is now an $m$ by 3 matrix of ones and zeros.  Thus, the single question"
   ]
  },
  {
   "cell_type": "code",
   "execution_count": 9,
   "metadata": {
    "collapsed": false
   },
   "outputs": [
    {
     "data": {
      "image/png": "[encoded data removed]",
      "text/plain": [
       "<matplotlib.figure.Figure at 0x10f4787b8>"
      ]
     },
     "metadata": {},
     "output_type": "display_data"
    }
   ],
   "source": [
    "X = data.as_matrix(columns=['alcohol', 'flavanoids'])\n",
    "y = data.as_matrix(columns=['class'])\n",
    "X_train, X_test, y_train, y_test = train_test_split(X, y, test_size=0.2)\n",
    "y_train = label_binarize(y_train, [1, 2, 3])\n",
    "\n",
    "plot_points(X_train, y_train.argmax(axis=1))"
   ]
  },
  {
   "cell_type": "code",
   "execution_count": 10,
   "metadata": {
    "collapsed": false
   },
   "outputs": [
    {
     "ename": "TypeError",
     "evalue": "__array_prepare__ must return an ndarray or subclass thereof which is otherwise identical to its input",
     "output_type": "error",
     "traceback": [
      "\u001b[0;31m---------------------------------------------------------------------------\u001b[0m",
      "\u001b[0;31mTypeError\u001b[0m                                 Traceback (most recent call last)",
      "\u001b[0;32m<ipython-input-10-920a40e65977>\u001b[0m in \u001b[0;36m<module>\u001b[0;34m()\u001b[0m\n\u001b[1;32m     11\u001b[0m     \u001b[0;32mreturn\u001b[0m \u001b[0mnp\u001b[0m\u001b[0;34m.\u001b[0m\u001b[0mcolumn_stack\u001b[0m\u001b[0;34m(\u001b[0m\u001b[0mpreds\u001b[0m\u001b[0;34m)\u001b[0m\u001b[0;34m.\u001b[0m\u001b[0margmax\u001b[0m\u001b[0;34m(\u001b[0m\u001b[0maxis\u001b[0m\u001b[0;34m=\u001b[0m\u001b[0;36m1\u001b[0m\u001b[0;34m)\u001b[0m\u001b[0;34m\u001b[0m\u001b[0m\n\u001b[1;32m     12\u001b[0m \u001b[0;34m\u001b[0m\u001b[0m\n\u001b[0;32m---> 13\u001b[0;31m \u001b[0mthetas\u001b[0m \u001b[0;34m=\u001b[0m \u001b[0;34m[\u001b[0m\u001b[0mtrain\u001b[0m\u001b[0;34m(\u001b[0m\u001b[0mX_train\u001b[0m\u001b[0;34m,\u001b[0m \u001b[0my_train\u001b[0m\u001b[0;34m[\u001b[0m\u001b[0;34m:\u001b[0m\u001b[0;34m,\u001b[0m\u001b[0mi\u001b[0m\u001b[0;34m]\u001b[0m\u001b[0;34m)\u001b[0m \u001b[0;32mfor\u001b[0m \u001b[0mi\u001b[0m \u001b[0;32min\u001b[0m \u001b[0mrange\u001b[0m\u001b[0;34m(\u001b[0m\u001b[0;36m0\u001b[0m\u001b[0;34m,\u001b[0m\u001b[0;36m3\u001b[0m\u001b[0;34m)\u001b[0m\u001b[0;34m]\u001b[0m\u001b[0;34m\u001b[0m\u001b[0m\n\u001b[0m\u001b[1;32m     14\u001b[0m \u001b[0;31m#train(X_train, y_train)\u001b[0m\u001b[0;34m\u001b[0m\u001b[0;34m\u001b[0m\u001b[0m\n\u001b[1;32m     15\u001b[0m \u001b[0;34m\u001b[0m\u001b[0m\n",
      "\u001b[0;32m<ipython-input-10-920a40e65977>\u001b[0m in \u001b[0;36m<listcomp>\u001b[0;34m(.0)\u001b[0m\n\u001b[1;32m     11\u001b[0m     \u001b[0;32mreturn\u001b[0m \u001b[0mnp\u001b[0m\u001b[0;34m.\u001b[0m\u001b[0mcolumn_stack\u001b[0m\u001b[0;34m(\u001b[0m\u001b[0mpreds\u001b[0m\u001b[0;34m)\u001b[0m\u001b[0;34m.\u001b[0m\u001b[0margmax\u001b[0m\u001b[0;34m(\u001b[0m\u001b[0maxis\u001b[0m\u001b[0;34m=\u001b[0m\u001b[0;36m1\u001b[0m\u001b[0;34m)\u001b[0m\u001b[0;34m\u001b[0m\u001b[0m\n\u001b[1;32m     12\u001b[0m \u001b[0;34m\u001b[0m\u001b[0m\n\u001b[0;32m---> 13\u001b[0;31m \u001b[0mthetas\u001b[0m \u001b[0;34m=\u001b[0m \u001b[0;34m[\u001b[0m\u001b[0mtrain\u001b[0m\u001b[0;34m(\u001b[0m\u001b[0mX_train\u001b[0m\u001b[0;34m,\u001b[0m \u001b[0my_train\u001b[0m\u001b[0;34m[\u001b[0m\u001b[0;34m:\u001b[0m\u001b[0;34m,\u001b[0m\u001b[0mi\u001b[0m\u001b[0;34m]\u001b[0m\u001b[0;34m)\u001b[0m \u001b[0;32mfor\u001b[0m \u001b[0mi\u001b[0m \u001b[0;32min\u001b[0m \u001b[0mrange\u001b[0m\u001b[0;34m(\u001b[0m\u001b[0;36m0\u001b[0m\u001b[0;34m,\u001b[0m\u001b[0;36m3\u001b[0m\u001b[0;34m)\u001b[0m\u001b[0;34m]\u001b[0m\u001b[0;34m\u001b[0m\u001b[0m\n\u001b[0m\u001b[1;32m     14\u001b[0m \u001b[0;31m#train(X_train, y_train)\u001b[0m\u001b[0;34m\u001b[0m\u001b[0;34m\u001b[0m\u001b[0m\n\u001b[1;32m     15\u001b[0m \u001b[0;34m\u001b[0m\u001b[0m\n",
      "\u001b[0;32m<ipython-input-10-920a40e65977>\u001b[0m in \u001b[0;36mtrain\u001b[0;34m(X, y)\u001b[0m\n\u001b[1;32m      3\u001b[0m     \u001b[0my\u001b[0m \u001b[0;34m=\u001b[0m \u001b[0mnp\u001b[0m\u001b[0;34m.\u001b[0m\u001b[0masmatrix\u001b[0m\u001b[0;34m(\u001b[0m\u001b[0my\u001b[0m\u001b[0;34m)\u001b[0m\u001b[0;34m.\u001b[0m\u001b[0mT\u001b[0m\u001b[0;34m\u001b[0m\u001b[0m\n\u001b[1;32m      4\u001b[0m \u001b[0;34m\u001b[0m\u001b[0m\n\u001b[0;32m----> 5\u001b[0;31m     \u001b[0mresult\u001b[0m \u001b[0;34m=\u001b[0m \u001b[0mfmin_tnc\u001b[0m\u001b[0;34m(\u001b[0m\u001b[0mfunc\u001b[0m\u001b[0;34m=\u001b[0m\u001b[0mcost\u001b[0m\u001b[0;34m,\u001b[0m \u001b[0mx0\u001b[0m\u001b[0;34m=\u001b[0m\u001b[0mnp\u001b[0m\u001b[0;34m.\u001b[0m\u001b[0mzeros\u001b[0m\u001b[0;34m(\u001b[0m\u001b[0;36m3\u001b[0m\u001b[0;34m)\u001b[0m\u001b[0;34m,\u001b[0m \u001b[0mfprime\u001b[0m\u001b[0;34m=\u001b[0m\u001b[0mgradient\u001b[0m\u001b[0;34m,\u001b[0m \u001b[0margs\u001b[0m\u001b[0;34m=\u001b[0m\u001b[0;34m(\u001b[0m\u001b[0mX\u001b[0m\u001b[0;34m,\u001b[0m \u001b[0my\u001b[0m\u001b[0;34m)\u001b[0m\u001b[0;34m)\u001b[0m\u001b[0;34m\u001b[0m\u001b[0m\n\u001b[0m\u001b[1;32m      6\u001b[0m     \u001b[0;32mreturn\u001b[0m \u001b[0mnp\u001b[0m\u001b[0;34m.\u001b[0m\u001b[0mmatrix\u001b[0m\u001b[0;34m(\u001b[0m\u001b[0mresult\u001b[0m\u001b[0;34m[\u001b[0m\u001b[0;36m0\u001b[0m\u001b[0;34m]\u001b[0m\u001b[0;34m)\u001b[0m\u001b[0;34m\u001b[0m\u001b[0m\n\u001b[1;32m      7\u001b[0m \u001b[0;34m\u001b[0m\u001b[0m\n",
      "\u001b[0;32m/Users/csmith/anaconda3/lib/python3.6/site-packages/scipy/optimize/tnc.py\u001b[0m in \u001b[0;36mfmin_tnc\u001b[0;34m(func, x0, fprime, args, approx_grad, bounds, epsilon, scale, offset, messages, maxCGit, maxfun, eta, stepmx, accuracy, fmin, ftol, xtol, pgtol, rescale, disp, callback)\u001b[0m\n\u001b[1;32m    273\u001b[0m             'disp': False}\n\u001b[1;32m    274\u001b[0m \u001b[0;34m\u001b[0m\u001b[0m\n\u001b[0;32m--> 275\u001b[0;31m     \u001b[0mres\u001b[0m \u001b[0;34m=\u001b[0m \u001b[0m_minimize_tnc\u001b[0m\u001b[0;34m(\u001b[0m\u001b[0mfun\u001b[0m\u001b[0;34m,\u001b[0m \u001b[0mx0\u001b[0m\u001b[0;34m,\u001b[0m \u001b[0margs\u001b[0m\u001b[0;34m,\u001b[0m \u001b[0mjac\u001b[0m\u001b[0;34m,\u001b[0m \u001b[0mbounds\u001b[0m\u001b[0;34m,\u001b[0m \u001b[0mcallback\u001b[0m\u001b[0;34m=\u001b[0m\u001b[0mcallback\u001b[0m\u001b[0;34m,\u001b[0m \u001b[0;34m**\u001b[0m\u001b[0mopts\u001b[0m\u001b[0;34m)\u001b[0m\u001b[0;34m\u001b[0m\u001b[0m\n\u001b[0m\u001b[1;32m    276\u001b[0m \u001b[0;34m\u001b[0m\u001b[0m\n\u001b[1;32m    277\u001b[0m     \u001b[0;32mreturn\u001b[0m \u001b[0mres\u001b[0m\u001b[0;34m[\u001b[0m\u001b[0;34m'x'\u001b[0m\u001b[0;34m]\u001b[0m\u001b[0;34m,\u001b[0m \u001b[0mres\u001b[0m\u001b[0;34m[\u001b[0m\u001b[0;34m'nfev'\u001b[0m\u001b[0;34m]\u001b[0m\u001b[0;34m,\u001b[0m \u001b[0mres\u001b[0m\u001b[0;34m[\u001b[0m\u001b[0;34m'status'\u001b[0m\u001b[0;34m]\u001b[0m\u001b[0;34m\u001b[0m\u001b[0m\n",
      "\u001b[0;32m/Users/csmith/anaconda3/lib/python3.6/site-packages/scipy/optimize/tnc.py\u001b[0m in \u001b[0;36m_minimize_tnc\u001b[0;34m(fun, x0, args, jac, bounds, eps, scale, offset, mesg_num, maxCGit, maxiter, eta, stepmx, accuracy, minfev, ftol, xtol, gtol, rescale, disp, callback, **unknown_options)\u001b[0m\n\u001b[1;32m    407\u001b[0m                                         \u001b[0moffset\u001b[0m\u001b[0;34m,\u001b[0m \u001b[0mmessages\u001b[0m\u001b[0;34m,\u001b[0m \u001b[0mmaxCGit\u001b[0m\u001b[0;34m,\u001b[0m \u001b[0mmaxfun\u001b[0m\u001b[0;34m,\u001b[0m\u001b[0;34m\u001b[0m\u001b[0m\n\u001b[1;32m    408\u001b[0m                                         \u001b[0meta\u001b[0m\u001b[0;34m,\u001b[0m \u001b[0mstepmx\u001b[0m\u001b[0;34m,\u001b[0m \u001b[0maccuracy\u001b[0m\u001b[0;34m,\u001b[0m \u001b[0mfmin\u001b[0m\u001b[0;34m,\u001b[0m \u001b[0mftol\u001b[0m\u001b[0;34m,\u001b[0m\u001b[0;34m\u001b[0m\u001b[0m\n\u001b[0;32m--> 409\u001b[0;31m                                         xtol, pgtol, rescale, callback)\n\u001b[0m\u001b[1;32m    410\u001b[0m \u001b[0;34m\u001b[0m\u001b[0m\n\u001b[1;32m    411\u001b[0m     \u001b[0mfunv\u001b[0m\u001b[0;34m,\u001b[0m \u001b[0mjacv\u001b[0m \u001b[0;34m=\u001b[0m \u001b[0mfunc_and_grad\u001b[0m\u001b[0;34m(\u001b[0m\u001b[0mx\u001b[0m\u001b[0;34m)\u001b[0m\u001b[0;34m\u001b[0m\u001b[0m\n",
      "\u001b[0;32m/Users/csmith/anaconda3/lib/python3.6/site-packages/scipy/optimize/tnc.py\u001b[0m in \u001b[0;36mfunc_and_grad\u001b[0;34m(x)\u001b[0m\n\u001b[1;32m    369\u001b[0m     \u001b[0;32melse\u001b[0m\u001b[0;34m:\u001b[0m\u001b[0;34m\u001b[0m\u001b[0m\n\u001b[1;32m    370\u001b[0m         \u001b[0;32mdef\u001b[0m \u001b[0mfunc_and_grad\u001b[0m\u001b[0;34m(\u001b[0m\u001b[0mx\u001b[0m\u001b[0;34m)\u001b[0m\u001b[0;34m:\u001b[0m\u001b[0;34m\u001b[0m\u001b[0m\n\u001b[0;32m--> 371\u001b[0;31m             \u001b[0mf\u001b[0m \u001b[0;34m=\u001b[0m \u001b[0mfun\u001b[0m\u001b[0;34m(\u001b[0m\u001b[0mx\u001b[0m\u001b[0;34m,\u001b[0m \u001b[0;34m*\u001b[0m\u001b[0margs\u001b[0m\u001b[0;34m)\u001b[0m\u001b[0;34m\u001b[0m\u001b[0m\n\u001b[0m\u001b[1;32m    372\u001b[0m             \u001b[0mg\u001b[0m \u001b[0;34m=\u001b[0m \u001b[0mjac\u001b[0m\u001b[0;34m(\u001b[0m\u001b[0mx\u001b[0m\u001b[0;34m,\u001b[0m \u001b[0;34m*\u001b[0m\u001b[0margs\u001b[0m\u001b[0;34m)\u001b[0m\u001b[0;34m\u001b[0m\u001b[0m\n\u001b[1;32m    373\u001b[0m             \u001b[0;32mreturn\u001b[0m \u001b[0mf\u001b[0m\u001b[0;34m,\u001b[0m \u001b[0mg\u001b[0m\u001b[0;34m\u001b[0m\u001b[0m\n",
      "\u001b[0;32m<ipython-input-4-34c19c6efa9f>\u001b[0m in \u001b[0;36mcost\u001b[0;34m(theta, X, y)\u001b[0m\n\u001b[1;32m      7\u001b[0m     \u001b[0my\u001b[0m \u001b[0;34m=\u001b[0m \u001b[0my\u001b[0m\u001b[0;34m[\u001b[0m\u001b[0;34m:\u001b[0m\u001b[0;34m,\u001b[0m\u001b[0;32mNone\u001b[0m\u001b[0;34m]\u001b[0m\u001b[0;34m\u001b[0m\u001b[0m\n\u001b[1;32m      8\u001b[0m     \u001b[0mhyp\u001b[0m \u001b[0;34m=\u001b[0m \u001b[0msigmoid\u001b[0m\u001b[0;34m(\u001b[0m\u001b[0mX\u001b[0m\u001b[0;34m.\u001b[0m\u001b[0mdot\u001b[0m\u001b[0;34m(\u001b[0m\u001b[0mtheta\u001b[0m\u001b[0;34m[\u001b[0m\u001b[0;34m:\u001b[0m\u001b[0;34m,\u001b[0m\u001b[0;32mNone\u001b[0m\u001b[0;34m]\u001b[0m\u001b[0;34m)\u001b[0m\u001b[0;34m)\u001b[0m\u001b[0;34m\u001b[0m\u001b[0m\n\u001b[0;32m----> 9\u001b[0;31m     \u001b[0mpos\u001b[0m \u001b[0;34m=\u001b[0m \u001b[0mnp\u001b[0m\u001b[0;34m.\u001b[0m\u001b[0mmultiply\u001b[0m\u001b[0;34m(\u001b[0m\u001b[0;34m-\u001b[0m\u001b[0my\u001b[0m\u001b[0;34m,\u001b[0m \u001b[0mnp\u001b[0m\u001b[0;34m.\u001b[0m\u001b[0mlog\u001b[0m\u001b[0;34m(\u001b[0m\u001b[0mhyp\u001b[0m\u001b[0;34m)\u001b[0m\u001b[0;34m)\u001b[0m\u001b[0;34m\u001b[0m\u001b[0m\n\u001b[0m\u001b[1;32m     10\u001b[0m     \u001b[0mneg\u001b[0m \u001b[0;34m=\u001b[0m \u001b[0mnp\u001b[0m\u001b[0;34m.\u001b[0m\u001b[0mmultiply\u001b[0m\u001b[0;34m(\u001b[0m\u001b[0;34m(\u001b[0m\u001b[0;36m1\u001b[0m \u001b[0;34m-\u001b[0m \u001b[0my\u001b[0m\u001b[0;34m)\u001b[0m\u001b[0;34m,\u001b[0m \u001b[0mnp\u001b[0m\u001b[0;34m.\u001b[0m\u001b[0mlog\u001b[0m\u001b[0;34m(\u001b[0m\u001b[0;36m1\u001b[0m \u001b[0;34m-\u001b[0m \u001b[0mhyp\u001b[0m\u001b[0;34m)\u001b[0m\u001b[0;34m)\u001b[0m\u001b[0;34m\u001b[0m\u001b[0m\n\u001b[1;32m     11\u001b[0m \u001b[0;34m\u001b[0m\u001b[0m\n",
      "\u001b[0;31mTypeError\u001b[0m: __array_prepare__ must return an ndarray or subclass thereof which is otherwise identical to its input"
     ]
    }
   ],
   "source": [
    "def train(X, y):\n",
    "    X = np.insert(X, 0, np.ones(len(X)), axis=1)\n",
    "    y = np.asmatrix(y).T\n",
    "    \n",
    "    result = fmin_tnc(func=cost, x0=np.zeros(3), fprime=gradient, args=(X, y))\n",
    "    return np.matrix(result[0])\n",
    "\n",
    "def predict_multilabel(X, thetas):\n",
    "    X = np.insert(X, 0, np.ones(len(X)), axis=1)\n",
    "    preds = [sigmoid(X * np.asmatrix(t).T) for t in thetas]\n",
    "    return np.column_stack(preds).argmax(axis=1)\n",
    "\n",
    "thetas = [train(X_train, y_train[:,i]) for i in range(0,3)]\n",
    "#train(X_train, y_train)\n",
    "\n",
    "plot_points(X_train, y_train.argmax(axis=1))\n",
    "plot_boundary(X_train, lambda x: predict_multilabel(x, thetas))"
   ]
  },
  {
   "cell_type": "code",
   "execution_count": null,
   "metadata": {
    "collapsed": false
   },
   "outputs": [],
   "source": [
    "predictions = predict_multilabel(X_test, thetas) + 1\n",
    "\n",
    "print('accuracy:', accuracy_score(y_test, predictions))\n",
    "print('precision:', precision_score(y_test, predictions, average='macro'))\n",
    "print('recall:', recall_score(y_test, predictions, average='macro'))"
   ]
  },
  {
   "cell_type": "code",
   "execution_count": null,
   "metadata": {
    "collapsed": false
   },
   "outputs": [],
   "source": [
    "def transform(x):\n",
    "    return [x[0], x[1], x[0] ** 2, x[1] ** 2, x[0] * x[1]]\n",
    "\n",
    "def train(X, y):\n",
    "    \n",
    "    X = np.insert(X, 0, np.ones(len(X)), axis=1)\n",
    "    y = np.asmatrix(y).T\n",
    "\n",
    "    #print(X)\n",
    "    result = fmin_tnc(func=cost, x0=np.zeros(6), fprime=gradient, args=(X, y))\n",
    "    return np.matrix(result[0])\n",
    "\n",
    "def xplot(X):\n",
    "    return np.apply_along_axis(transform, 1, X)\n",
    "\n",
    "X_train_m = np.apply_along_axis(transform, 1, X_train)\n",
    "thetas = [train(X_train_m, y_train[:,i]) for i in range(0,3)]\n",
    "\n",
    "plot_points(X_train_m, y_train.argmax(axis=1))\n",
    "plot_boundary(X_train_m, lambda x: predict_multilabel(xplot(x), thetas))"
   ]
  },
  {
   "cell_type": "code",
   "execution_count": null,
   "metadata": {
    "collapsed": false
   },
   "outputs": [],
   "source": [
    "predictions = predict_multilabel(xplot(X_test), thetas) + 1\n",
    "\n",
    "print('accuracy:', accuracy_score(y_test, predictions))\n",
    "print('precision:', precision_score(y_test, predictions, average='macro'))\n",
    "print('recall:', recall_score(y_test, predictions, average='macro'))"
   ]
  },
  {
   "cell_type": "code",
   "execution_count": null,
   "metadata": {
    "collapsed": false
   },
   "outputs": [],
   "source": [
    "X = data.drop('class', 1).as_matrix()\n",
    "y = data.as_matrix(columns=['class'])\n",
    "X_train, X_test, y_train, y_test = train_test_split(X, y, test_size=0.2)\n",
    "y_train = label_binarize(y_train, [1, 2, 3])\n",
    "\n",
    "def cost_reg(theta, X, y, l):\n",
    "    return cost(theta, X, y) + np.square(theta).sum() / (2 * len(X))\n",
    "\n",
    "def gradient2(theta, X, y, l):\n",
    "    return gradient(theta, X, y) + np.matrix(theta).T / len(X)\n",
    "\n",
    "def train(X, y):\n",
    "    X = np.insert(X, 0, np.ones(len(X)), axis=1)\n",
    "    return fmin_tnc(func=cost_reg, x0=np.zeros(14), fprime=gradient2, args=(X, y, 1.0))[0]\n",
    "\n",
    "thetas = [train(X_train, y_train[:,i]) for i in range(0,3)]\n",
    "predictions = predict_multilabel(X_test, thetas) + 1\n",
    "\n",
    "print('accuracy:', accuracy_score(y_test, predictions))\n",
    "print('precision:', precision_score(y_test, predictions, average='macro'))\n",
    "print('recall:', recall_score(y_test, predictions, average='macro'))"
   ]
  },
  {
   "cell_type": "code",
   "execution_count": null,
   "metadata": {
    "collapsed": false
   },
   "outputs": [],
   "source": [
    "data = pd.read_csv('data.txt')\n",
    "\n",
    "def transform_data(x):\n",
    "\n",
    "X = data.as_matrix(columns=['alcohol', 'flavanoids'])\n",
    "#XX = data.drop('class', 1).as_matrix()\n",
    "y = label_binarize(data['class'], [1, 2, 3])\n",
    "\n",
    "X_train, X_test, y_train, y_test = train_test_split(X, y, test_size=0.2)\n",
    "print('train:', len(X_train), 'test:', len(X_test))"
   ]
  },
  {
   "cell_type": "code",
   "execution_count": null,
   "metadata": {
    "collapsed": false
   },
   "outputs": [],
   "source": [
    "import tensorflow as tf\n",
    "\n",
    "n_features = X_train.shape[1]\n",
    "n_labels = y_train.shape[1]\n",
    "\n",
    "examples = tf.placeholder(tf.float32, [None, n_features], name='examples')\n",
    "labels = tf.placeholder(tf.int32, [None, n_labels], name='y')\n",
    "\n",
    "weights = tf.Variable(tf.zeros([n_features, n_labels]), name='weights')\n",
    "bias = tf.Variable(tf.zeros([n_labels]), name='bias')\n",
    "\n",
    "logits = tf.matmul(examples, weights) + bias\n",
    "predict = tf.nn.softmax(logits)\n",
    "reg = tf.nn.l2_loss(weights)\n",
    "cost = tf.reduce_mean(tf.nn.softmax_cross_entropy_with_logits(logits=logits, labels=labels))\n",
    "opti = tf.train.GradientDescentOptimizer(1).minimize(cost)\n",
    "\n",
    "init = tf.global_variables_initializer()\n",
    "\n",
    "def predict_tf(session, inputs):\n",
    "    return session.run(predict, feed_dict={examples: inputs}).argmax(axis=1)\n",
    "    \n",
    "with tf.Session() as sess:\n",
    "    sess.run(init)\n",
    "\n",
    "    for i in range(120000):\n",
    "        sess.run(opti, feed_dict={\n",
    "            examples: X_train,\n",
    "            labels: y_train\n",
    "        })\n",
    "\n",
    "    pred = tf_predict(sess, X_test)\n",
    "\n",
    "    print('weights:', sess.run(weights))\n",
    "    print('bias:', sess.run(bias))\n",
    "    print('accuracy:', accuracy_score(y_test.argmax(axis=1), pred))\n",
    "    print('precision:', precision_score(y_test.argmax(axis=1), pred, average='macro'))\n",
    "    print('recall:', recall_score(y_test.argmax(axis=1), pred, average='macro'))\n",
    "\n",
    "    plot_boundary(X_train, lambda i: predict_tf(sess, i))\n",
    "    plot_points(X_train, y_train.argmax(axis=1))"
   ]
  },
  {
   "cell_type": "code",
   "execution_count": null,
   "metadata": {
    "collapsed": true
   },
   "outputs": [],
   "source": [
    "def transform_data(x):\n",
    "#    return x\n",
    "    #return [x[0], x[1], x[0] ** 2, x[1] ** 2]\n",
    "\n",
    "data = pd.read_csv('data.txt')\n",
    "X = data.as_matrix(columns=['alcohol', 'flavanoids'])\n",
    "#XX = data.drop('class', 1).as_matrix()\n",
    "#y = np.array([i - 1 for i in data['class']])\n",
    "\n",
    "\n",
    "#X = np.apply_along_axis(transform_data, 1, X)\n",
    "y = label_binarize(data['class'], [1, 2, 3])\n",
    "\n",
    "X_train, X_test, y_train, y_test = train_test_split(X, y, test_size=0.2)\n",
    "print('train:', len(X_train), 'test:', len(X_test))"
   ]
  }
 ],
 "metadata": {
  "anaconda-cloud": {},
  "kernelspec": {
   "display_name": "Python 3",
   "language": "python",
   "name": "python3"
  },
  "language_info": {
   "codemirror_mode": {
    "name": "ipython",
    "version": 3
   },
   "file_extension": ".py",
   "mimetype": "text/x-python",
   "name": "python",
   "nbconvert_exporter": "python",
   "pygments_lexer": "ipython3",
   "version": "3.6.0"
  }
 },
 "nbformat": 4,
 "nbformat_minor": 2
}
