{
 "cells": [
  {
   "cell_type": "code",
   "execution_count": 2,
   "metadata": {
    "collapsed": false
   },
   "outputs": [],
   "source": [
    "import pandas as pd\n",
    "import numpy as np\n",
    "\n",
    "data = pd.read_csv('data2.txt')\n",
    "#data = data[data['class'] <= 2]\n",
    "\n",
    "X = data.as_matrix(columns=['a', 'b'])\n",
    "X = np.column_stack((np.ones(len(X)), X))\n",
    "y = data['label'].values"
   ]
  },
  {
   "cell_type": "code",
   "execution_count": 3,
   "metadata": {
    "collapsed": false
   },
   "outputs": [
    {
     "data": {
      "text/plain": [
       "<matplotlib.collections.PathCollection at 0x11056efd0>"
      ]
     },
     "execution_count": 3,
     "metadata": {},
     "output_type": "execute_result"
    },
    {
     "data": {
      "image/png": "[encoded data removed]",
      "text/plain": [
       "<matplotlib.figure.Figure at 0x10d1319e8>"
      ]
     },
     "metadata": {},
     "output_type": "display_data"
    }
   ],
   "source": [
    "import matplotlib.pyplot as plt\n",
    "%matplotlib inline\n",
    "\n",
    "x0_1, x1_1 = zip(*[(X[i,1], X[i,2]) for i in range(len(X)) if y[i] == 0])\n",
    "x0_2, x1_2 = zip(*[(X[i,1], X[i,2]) for i in range(len(X)) if y[i] == 1])\n",
    "plt.scatter(x0_1, x1_1, marker='+', color='red')\n",
    "plt.scatter(x0_2, x1_2, marker='x', color='green')\n"
   ]
  },
  {
   "cell_type": "code",
   "execution_count": 4,
   "metadata": {
    "collapsed": false
   },
   "outputs": [
    {
     "name": "stdout",
     "output_type": "stream",
     "text": [
      "[ 1.  1.  1.  1.  1.  1.  1.  1.  1.  1.  1.  1.  1.  1.  1.  1.  1.  1.\n",
      "  1.  1.  1.  1.  1.  1.  1.  1.  1.  1.  1.  1.  1.  1.  1.  1.  1.  1.\n",
      "  1.  1.  1.  1.  1.  1.  1.  1.  1.  1.  1.  1.  1.  1.  1.  1.  1.  1.\n",
      "  1.  1.  1.  1.  1.  1.  1.  1.  1.  1.  1.  1.  1.  1.  1.  1.  1.  1.\n",
      "  1.  1.  1.  1.  1.  1.  1.  1.  1.  1.  1.  1.  1.  1.  1.  1.  1.  1.\n",
      "  1.  1.  1.  1.  1.  1.  1.  1.  1.  1.]\n"
     ]
    }
   ],
   "source": [
    "import numpy as np\n",
    "\n",
    "def sigmoid(X):\n",
    "    return 1 / (1 + np.exp(-X))\n",
    "\n",
    "theta = np.zeros(3)\n",
    "theta = np.array([1,1,1])\n",
    "sig = sigmoid(np.matmul(X, theta))\n",
    "print(sig)"
   ]
  },
  {
   "cell_type": "code",
   "execution_count": 5,
   "metadata": {
    "collapsed": false
   },
   "outputs": [
    {
     "data": {
      "text/plain": [
       "[<matplotlib.lines.Line2D at 0x1106f7940>]"
      ]
     },
     "execution_count": 5,
     "metadata": {},
     "output_type": "execute_result"
    },
    {
     "data": {
      "image/png": "[encoded data removed]",
      "text/plain": [
       "<matplotlib.figure.Figure at 0x104abddd8>"
      ]
     },
     "metadata": {},
     "output_type": "display_data"
    }
   ],
   "source": [
    "x_min, x_max = X[:, 1].min() - 1, X[:, 1].max() + 1\n",
    "y_min, y_max = X[:, 2].min() - 1, X[:, 2].max() + 1\n",
    "xx, yy = np.meshgrid(np.linspace(x_min, x_max, 50),\n",
    "                     np.linspace(-10, y_max, 50))\n",
    "\n",
    "temp = np.c_[np.ones(2500), xx.ravel(), yy.ravel()]\n",
    "Z = sigmoid(np.matmul(temp, theta))\n",
    "from matplotlib import cm\n",
    "\n",
    "#Z = np.delete(Z, [0], axis=1)\n",
    "#print(Z.shape, xx.shape)\n",
    "Z = np.reshape(Z, xx.shape)\n",
    "#print(Z)\n",
    "#print(Z.shape)\n",
    "#print(theta)\n",
    "x0_1, x1_1 = zip(*[(X[i,1], X[i,2]) for i in range(len(X)) if y[i] == 0])\n",
    "x0_2, x1_2 = zip(*[(X[i,1], X[i,2]) for i in range(len(X)) if y[i] == 1])\n",
    "\n",
    "\n",
    "#plt.contourf(xx, yy, Z, cmap=cm.Paired)\n",
    "plt.contour(xx, yy, Z, np.logspace(-50,50, 50))\n",
    "plt.scatter(x0_1, x1_1, marker='+', color='black')\n",
    "plt.scatter(x0_2, x1_2, marker='o', color='red')\n",
    "\n",
    "xs = np.array([x_min, x_max])\n",
    "#ys = np.matmul(xs, )\n",
    "ys = (-1 / theta[2]) * (theta[1] * xs + theta[0])\n",
    "#print(xs + theta[0])\n",
    "#print(theta[1], xs, xs * theta[1])# * xs)\n",
    "#print((theta[1] * xs + theta[0]))\n",
    "#print(ys)\n",
    "\n",
    "#x0 = \n",
    "\n",
    "samples = np.linspace(-12, 12)\n",
    "plt.plot(xs, ys, 'k-')"
   ]
  },
  {
   "cell_type": "code",
   "execution_count": 22,
   "metadata": {
    "collapsed": false
   },
   "outputs": [
    {
     "name": "stdout",
     "output_type": "stream",
     "text": [
      "(100, 3) (3,) (100,)\n",
      "(array([ -0.3       , -19.69328222, -19.86659943]), 66, 4)\n",
      "nan\n"
     ]
    },
    {
     "name": "stderr",
     "output_type": "stream",
     "text": [
      "/Users/csmith/anaconda3/lib/python3.6/site-packages/ipykernel/__main__.py:4: RuntimeWarning: overflow encountered in exp\n",
      "/Users/csmith/anaconda3/lib/python3.6/site-packages/ipykernel/__main__.py:10: RuntimeWarning: divide by zero encountered in log\n",
      "/Users/csmith/anaconda3/lib/python3.6/site-packages/ipykernel/__main__.py:10: RuntimeWarning: invalid value encountered in multiply\n"
     ]
    }
   ],
   "source": [
    "import math\n",
    "\n",
    "def sigmoid(z):  \n",
    "    return 1 / (1 + np.exp(-z))\n",
    "\n",
    "def cost_fn(theta, X, y):  \n",
    "    theta = np.matrix(theta)\n",
    "    X = np.matrix(X)\n",
    "    y = np.matrix(y)\n",
    "    first = np.multiply(-y, np.log(sigmoid(X * theta.T)))\n",
    "    second = np.multiply((1 - y), np.log(1 - sigmoid(X * theta.T)))\n",
    "    return np.sum(first - second) / (len(X))\n",
    "\n",
    "def gradient(theta, X, y):  \n",
    "    theta = np.matrix(theta)\n",
    "    X = np.matrix(X)\n",
    "    y = np.matrix(y)\n",
    "\n",
    "    parameters = int(theta.ravel().shape[1])\n",
    "    grad = np.zeros(parameters)\n",
    "\n",
    "    error = sigmoid(X * theta.T) - y\n",
    "\n",
    "    for i in range(parameters):\n",
    "        term = np.multiply(error, X[:,i])\n",
    "        grad[i] = np.sum(term) / len(X)\n",
    "\n",
    "    return grad\n",
    "\n",
    "def gradient_descent(X, y, alpha, iterations):\n",
    "    theta = np.zeros(X.shape[1])\n",
    "    m = len(X)\n",
    "    \n",
    "    for i in range(iterations):\n",
    "        h = sigmoid(np.matmul(X, theta))\n",
    "        #J = (1 / m) * np.sum(-y * np.log(h) + (1 - y) * np.log(1 - h))\n",
    "        #J = (1/m) * (-y.T * np.log(h) - (1 - y).T * np.log(1-h))\n",
    "        #cost = (1/m) * np.sum(h - y)\n",
    "        J = cost_fn(theta, X, y)\n",
    "        #grad = (1 / m) * np.matmul(X.T, h - y)\n",
    "        grad = gradient(theta, X, y)\n",
    "        theta = theta - alpha * grad\n",
    "        #print(h, theta, J)\n",
    "        print('cost:', J)#, 'grad:', grad)\n",
    "        #print(h)\n",
    "    \n",
    "    return theta\n",
    "\n",
    "print(X.shape, theta.shape, y.shape) \n",
    "\n",
    "import scipy.optimize as opt  \n",
    "result = opt.fmin_tnc(func=cost_fn, x0=theta, fprime=gradient, args=(X, y))\n",
    "print(result)\n",
    "print(cost_fn(result[0], X, y))\n",
    "\n",
    "    \n",
    "#theta = gradient_descent(X, y, 0.01, 2)\n",
    "#cost \n",
    "#print(theta)"
   ]
  },
  {
   "cell_type": "code",
   "execution_count": null,
   "metadata": {
    "collapsed": true
   },
   "outputs": [],
   "source": []
  }
 ],
 "metadata": {
  "kernelspec": {
   "display_name": "Python 3",
   "language": "python",
   "name": "python3"
  },
  "language_info": {
   "codemirror_mode": {
    "name": "ipython",
    "version": 3
   },
   "file_extension": ".py",
   "mimetype": "text/x-python",
   "name": "python",
   "nbconvert_exporter": "python",
   "pygments_lexer": "ipython3",
   "version": "3.6.0"
  }
 },
 "nbformat": 4,
 "nbformat_minor": 2
}
