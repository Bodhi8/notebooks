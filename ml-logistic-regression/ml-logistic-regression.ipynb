{
 "cells": [
  {
   "cell_type": "markdown",
   "metadata": {},
   "source": [
    "First, we load our data.  This time, I'm adding a column of 1s directly to the dataframe, so that it's already there later on when we want to build new sets of training data.\n",
    "\n",
    " - note on binarize\n",
    " - matrix treatment"
   ]
  },
  {
   "cell_type": "code",
   "execution_count": 1,
   "metadata": {
    "collapsed": false
   },
   "outputs": [],
   "source": [
    "import pandas as pd\n",
    "import numpy as np\n",
    "from sklearn.preprocessing import label_binarize\n",
    "\n",
    "data = pd.read_csv('data.txt')\n",
    "data.insert(0, '1', 1)\n",
    "\n",
    "X = data.as_matrix(columns=['1', 'alcohol', 'ash'])\n",
    "y = np.matrix(label_binarize(data['class'], [1, 2, 3]))[:,0]"
   ]
  },
  {
   "cell_type": "markdown",
   "metadata": {},
   "source": [
    " - train / test sets"
   ]
  },
  {
   "cell_type": "code",
   "execution_count": 2,
   "metadata": {
    "collapsed": false
   },
   "outputs": [
    {
     "name": "stdout",
     "output_type": "stream",
     "text": [
      "train: 142 test: 36\n"
     ]
    }
   ],
   "source": [
    "from sklearn.model_selection import train_test_split\n",
    "\n",
    "X_train, X_test, y_train, y_test = train_test_split(X, y, test_size=0.2)\n",
    "print('train:', len(X_train), 'test:', len(X_test))\n",
    "\n",
    "xt1 = X_train\n",
    "yt1 = y_train\n",
    "xtt1 = X_test\n",
    "ytt1 = y_test"
   ]
  },
  {
   "cell_type": "code",
   "execution_count": 3,
   "metadata": {
    "collapsed": false
   },
   "outputs": [
    {
     "data": {
      "image/png": "[encoded data removed]",
      "text/plain": [
       "<matplotlib.figure.Figure at 0x1195307f0>"
      ]
     },
     "metadata": {},
     "output_type": "display_data"
    }
   ],
   "source": [
    "import matplotlib.pyplot as plt\n",
    "%matplotlib inline\n",
    "\n",
    "MARKERS = ['+', 'x', '.']\n",
    "COLORS = ['red', 'green', 'blue']\n",
    "\n",
    "def filter_by_label(X, y, value):\n",
    "    return np.matrix([X[i,:] for i in range(len(X)) if y[i,0] == value])\n",
    "\n",
    "def plot_points(xy, labels):\n",
    "    \n",
    "    for i, label in enumerate(set(labels.A.flatten())):\n",
    "        points = np.matrix([xy[j,:] for j in range(len(xy)) if labels[j,0] == label])\n",
    "        marker = MARKERS[i % len(MARKERS)]\n",
    "        color = COLORS[i % len(COLORS)]\n",
    "        plt.scatter(points[:,0], points[:,1], marker=marker, color=color)\n",
    "\n",
    "plot_points(X_train[:,1:3], y_train)"
   ]
  },
  {
   "cell_type": "code",
   "execution_count": 4,
   "metadata": {
    "collapsed": false
   },
   "outputs": [],
   "source": [
    "import numpy as np\n",
    "\n",
    "def sigmoid(X):\n",
    "    return 1 / (1 + np.exp(-X))\n",
    "\n",
    "def cost(theta, X, y):\n",
    "    theta = np.matrix(theta)\n",
    "    \n",
    "    h = sigmoid(np.matmul(X, theta.T))\n",
    "    y1 = np.multiply(-y, np.log(h))\n",
    "    y0 = np.multiply((1 - y), np.log(1 - h))\n",
    "    j = np.sum(y1 - y0) / (len(X))\n",
    "    return j\n",
    "\n",
    "def gradient(theta, X, y):\n",
    "    error = sigmoid(X * np.matrix(theta).T) - y\n",
    "    grad = (1/len(X)) * np.matmul(X.T, error)\n",
    "    \n",
    "    return grad"
   ]
  },
  {
   "cell_type": "code",
   "execution_count": 5,
   "metadata": {
    "collapsed": false
   },
   "outputs": [
    {
     "name": "stdout",
     "output_type": "stream",
     "text": [
      "theta:  [-38.30235412   2.60456861   1.26126787]\n",
      "cost: 0.365629479728\n"
     ]
    }
   ],
   "source": [
    "from scipy.optimize import fmin_tnc  \n",
    "\n",
    "result = fmin_tnc(func=cost, x0=np.zeros(3), fprime=gradient, args=(X_train, y_train))\n",
    "theta = result[0]\n",
    "\n",
    "print('theta: ', theta)\n",
    "print('cost:', cost(theta, X, y))"
   ]
  },
  {
   "cell_type": "code",
   "execution_count": 6,
   "metadata": {
    "collapsed": false
   },
   "outputs": [
    {
     "data": {
      "image/png": "[encoded data removed]",
      "text/plain": [
       "<matplotlib.figure.Figure at 0x10fc7cb38>"
      ]
     },
     "metadata": {},
     "output_type": "display_data"
    }
   ],
   "source": [
    "from matplotlib import cm\n",
    "\n",
    "def predict(X, theta):\n",
    "    return sigmoid(X * np.matrix(theta).T) >= 0.5\n",
    "\n",
    "def plot_boundary(X, theta, pred):\n",
    "    \n",
    "    x_min, x_max = X[:,1].min(), X[:,1].max()\n",
    "    y_min, y_max = X[:,2].min(), X[:,2].max()\n",
    "    xx, yy = np.meshgrid(\n",
    "        np.linspace(x_min, x_max, 100),\n",
    "        np.linspace(y_min, y_max, 100)\n",
    "    )\n",
    "\n",
    "    inputs = np.c_[np.ones(10000), xx.ravel(), yy.ravel()]\n",
    "    predictions = pred(inputs, theta).reshape(xx.shape)\n",
    "\n",
    "    plt.contour(xx, yy, predictions, colors='black', nchunk=50)#, antialiased=True)\n",
    "    \n",
    "plot_points(X_train[:,1:3], y_train)\n",
    "plot_boundary(X_train, theta, predict)"
   ]
  },
  {
   "cell_type": "code",
   "execution_count": 7,
   "metadata": {
    "collapsed": false
   },
   "outputs": [
    {
     "data": {
      "image/png": "[encoded data removed]",
      "text/plain": [
       "<matplotlib.figure.Figure at 0x11d2bce48>"
      ]
     },
     "metadata": {},
     "output_type": "display_data"
    }
   ],
   "source": [
    "plot_boundary(X_test, theta, predict)\n",
    "plot_points(X_test[:,1:3], y_test)"
   ]
  },
  {
   "cell_type": "code",
   "execution_count": 8,
   "metadata": {
    "collapsed": false
   },
   "outputs": [
    {
     "name": "stdout",
     "output_type": "stream",
     "text": [
      "accuracy: 0.888888888889\n"
     ]
    }
   ],
   "source": [
    "from sklearn.metrics import accuracy_score, precision_score, recall_score\n",
    "\n",
    "print('accuracy:', accuracy_score(y_test, predict(X_test, theta)))"
   ]
  },
  {
   "cell_type": "code",
   "execution_count": 9,
   "metadata": {
    "collapsed": false
   },
   "outputs": [
    {
     "data": {
      "image/png": "[encoded data removed]",
      "text/plain": [
       "<matplotlib.figure.Figure at 0x11d1bfd30>"
      ]
     },
     "metadata": {},
     "output_type": "display_data"
    }
   ],
   "source": [
    "X = data.as_matrix(columns=['1', 'alcohol', 'flavanoids'])\n",
    "y = data.as_matrix(columns=['class'])\n",
    "X_train, X_test, y_train, y_test = train_test_split(X, y, test_size=0.2)\n",
    "y_train = np.matrix(label_binarize(y_train, [1, 2, 3]))\n",
    "\n",
    "plot_points(X_train[:,1:3], y_train.argmax(axis=1))"
   ]
  },
  {
   "cell_type": "code",
   "execution_count": 10,
   "metadata": {
    "collapsed": false
   },
   "outputs": [
    {
     "data": {
      "image/png": "[encoded data removed]",
      "text/plain": [
       "<matplotlib.figure.Figure at 0x11d2bcf60>"
      ]
     },
     "metadata": {},
     "output_type": "display_data"
    }
   ],
   "source": [
    "def train(X, y):\n",
    "    result = fmin_tnc(func=cost, x0=np.zeros(3), fprime=gradient, args=(X, y[:,0]))\n",
    "    return np.matrix(result[0])\n",
    "\n",
    "thetas = [(i + 1, train(X_train, y_train[:,i])) for i in range(0,3)]\n",
    "\n",
    "thetas = [\n",
    "    (1, train(X_train, y_train[:,0])),\n",
    "    (2, train(X_train, y_train[:,1])),\n",
    "    (3, train(X_train, y_train[:,2]))\n",
    "]\n",
    "\n",
    "def predict2(X, thetas):\n",
    "    labels = [t[0] for t in thetas]\n",
    "    preds = [sigmoid(X * np.matrix(t[1]).T) for t in thetas]\n",
    "    preds = np.column_stack(preds)\n",
    "\n",
    "    argmax = preds.argmax(axis=1)\n",
    "    return np.vectorize(lambda v: labels[v])(argmax)\n",
    "\n",
    "plot_points(X_train[:,1:3], y_train.argmax(axis=1))\n",
    "plot_boundary(X_train, thetas, predict2)\n"
   ]
  },
  {
   "cell_type": "code",
   "execution_count": 11,
   "metadata": {
    "collapsed": false
   },
   "outputs": [
    {
     "name": "stdout",
     "output_type": "stream",
     "text": [
      "accuracy: 0.888888888889\n",
      "precision: 0.916666666667\n",
      "recall: 0.892773892774\n"
     ]
    }
   ],
   "source": [
    "print('accuracy:', accuracy_score(y_test, predict2(X_test, thetas)))\n",
    "print('precision:', precision_score(y_test, predict2(X_test, thetas), average='macro'))\n",
    "print('recall:', recall_score(y_test, predict2(X_test, thetas), average='macro'))"
   ]
  },
  {
   "cell_type": "code",
   "execution_count": 12,
   "metadata": {
    "collapsed": false
   },
   "outputs": [
    {
     "name": "stdout",
     "output_type": "stream",
     "text": [
      "accuracy: 0.916666666667\n",
      "precision: 0.895833333333\n",
      "recall: 0.935143288084\n"
     ]
    },
    {
     "name": "stderr",
     "output_type": "stream",
     "text": [
      "/Users/csmith/anaconda3/lib/python3.6/site-packages/ipykernel/__main__.py:11: RuntimeWarning: divide by zero encountered in log\n",
      "/Users/csmith/anaconda3/lib/python3.6/site-packages/ipykernel/__main__.py:11: RuntimeWarning: invalid value encountered in multiply\n"
     ]
    }
   ],
   "source": [
    "X = data.drop('class', 1).as_matrix()\n",
    "y = data.as_matrix(columns=['class'])\n",
    "X_train, X_test, y_train, y_test = train_test_split(X, y, test_size=0.2)\n",
    "y_train = np.matrix(label_binarize(y_train, [1, 2, 3]))\n",
    "\n",
    "def cost2(theta, X, y, l):\n",
    "    theta = np.matrix(theta)\n",
    "    m = len(X)\n",
    "    \n",
    "    h = sigmoid(np.matmul(X, theta.T))\n",
    "    y1 = np.multiply(-y, np.log(h))\n",
    "    y0 = np.multiply((1 - y), np.log(1 - h))\n",
    "    j = np.sum(y1 - y0) / m\n",
    "\n",
    "    jreg = j + (1 / (2 * m)) * np.square(theta).sum()\n",
    "\n",
    "    return jreg\n",
    "\n",
    "def gradient2(theta, X, y, l):\n",
    "    error = sigmoid(X * np.matrix(theta).T) - y\n",
    "    grad = (1/len(X)) * np.matmul(X.T, error)\n",
    "    lm = (l / len(X)) * np.matrix(theta).T\n",
    "\n",
    "    return grad + lm\n",
    "\n",
    "def train(X, y):\n",
    "    result = fmin_tnc(func=cost, x0=np.zeros(14), fprime=gradient, args=(X, y[:,0]))\n",
    "    return np.matrix(result[0])\n",
    "thetas = [\n",
    "    (1, train(X_train, y_train[:,0])),\n",
    "    (2, train(X_train, y_train[:,1])),\n",
    "    (3, train(X_train, y_train[:,2]))\n",
    "]\n",
    "\n",
    "print('accuracy:', accuracy_score(y_test, predict2(X_test, thetas)))\n",
    "print('precision:', precision_score(y_test, predict2(X_test, thetas), average='macro'))\n",
    "print('recall:', recall_score(y_test, predict2(X_test, thetas), average='macro'))"
   ]
  },
  {
   "cell_type": "code",
   "execution_count": 31,
   "metadata": {
    "collapsed": false
   },
   "outputs": [
    {
     "name": "stdout",
     "output_type": "stream",
     "text": [
      "cost: 0.693147\n",
      "bias: [-0.07484408  0.070379   -0.01370602]\n",
      "weights: [[-0.14841995 -0.06487015  0.04417447]\n",
      " [ 0.64543438  0.15283068 -0.84778643]]\n",
      "[2 0 1 0 0 0 1 0 1 2 1 0 2 0 2 0 2 1 2 2]\n",
      "[[2]\n",
      " [0]\n",
      " [1]\n",
      " [0]\n",
      " [0]\n",
      " [0]\n",
      " [2]\n",
      " [0]\n",
      " [1]\n",
      " [2]\n",
      " [1]\n",
      " [0]\n",
      " [1]\n",
      " [1]\n",
      " [2]\n",
      " [0]\n",
      " [2]\n",
      " [0]\n",
      " [2]\n",
      " [2]]\n",
      "cost:  0.509032\n",
      "accuracy: 0.75\n"
     ]
    },
    {
     "data": {
      "image/png": "[encoded data removed]",
      "text/plain": [
       "<matplotlib.figure.Figure at 0x124ff3c18>"
      ]
     },
     "metadata": {},
     "output_type": "display_data"
    }
   ],
   "source": [
    "import tensorflow as tf\n",
    "\n",
    "def normalize(train, test):\n",
    "    mean, std = train.mean(), test.std()\n",
    "    train = (train - train.mean()) / train.std()\n",
    "    test = (test - test.mean()) / test.std()\n",
    "    return train, test\n",
    "\n",
    "def plot_boundary2(X, theta, pred):\n",
    "    \n",
    "    x_min, x_max = X[:,0].min(), X[:,0].max()\n",
    "    y_min, y_max = X[:,1].min(), X[:,1].max()\n",
    "    xx, yy = np.meshgrid(\n",
    "        np.linspace(x_min, x_max, 100),\n",
    "        np.linspace(y_min, y_max, 100)\n",
    "    )\n",
    "    \n",
    "    inputs = np.c_[xx.ravel(), yy.ravel()]\n",
    "    #print(xx.shape, yy.shape, inputs.shape)\n",
    "    predictions = pred(inputs, theta)\n",
    "    #print('predictions:', predictions)\n",
    "    predictions = predictions.reshape(xx.shape)\n",
    "    #print(predictions.shape)\n",
    "\n",
    "    plt.contour(xx, yy, predictions, colors='black', nchunk=50)#, antialiased=True)\n",
    "    \n",
    "X = data.as_matrix(columns=['alcohol', 'flavanoids'])\n",
    "#X = data.drop('class', 1).as_matrix()\n",
    "y = data.as_matrix(columns=['class'])\n",
    "y = np.matrix(label_binarize(y, [1, 2, 3]))#[:,0:2]\n",
    "#y = y[0:120,:]\n",
    "#X = X[0:120,:]\n",
    "#print(y)\n",
    "X_train, X_test, y_train, y_test = train_test_split(X, y, test_size=0.2)\n",
    "#X_train, y_train = normalize(X_train, y_train)\n",
    "\n",
    "m = X_train.shape[0]\n",
    "n = X_train.shape[1]\n",
    "learning_rate = .01\n",
    "iterations = 1000\n",
    "\n",
    "W = tf.Variable(tf.zeros([n, 3]))\n",
    "b = tf.Variable(tf.zeros([3]))\n",
    "\n",
    "examples = tf.placeholder(tf.float32, [None, n])\n",
    "labels = tf.placeholder(tf.float32, [None, 3])\n",
    "\n",
    "#cost_function = tf.reduce_mean(-tf.reduce_sum(labels*tf.log(y_), reduction_indices=0))\n",
    "\n",
    "#y_ = tf.nn.sigmoid(tf.matmul(examples, W) + b)\n",
    "#y_ = tf.nn.softmax(tf.matmul(examples, W) + b) # Softmax\n",
    "#loss_tmp = (- labels * tf.log(y_)) - ((1.0 - labels) * tf.log(1.0 - y_))\n",
    "#cost_function = tf.reduce_mean(-tf.reduce_sum(labels*tf.log(y_), reduction_indices=0))\n",
    "y_ = tf.nn.sigmoid(tf.matmul(examples, W) + b)\n",
    "loss_tmp = (- labels * tf.log(y_)) - ((1.0 - labels) * tf.log(1.0 - y_))\n",
    "\n",
    "cost_function = tf.reduce_mean(loss_tmp)#, reduction_indices=0)\n",
    "#y_ = tf.nn.softmax(tf.matmul(examples, W) + b)\n",
    "#cost_function = tf.reduce_mean(-tf.reduce_sum(labels * tf.log(y_), reduction_indices=1))\n",
    "\n",
    "\n",
    "pred1 = tf.greater_equal(y_, 0.5)\n",
    "pred = tf.argmax(y_, axis=1)\n",
    "optimizer = tf.train.GradientDescentOptimizer(learning_rate).minimize(cost_function)\n",
    "\n",
    "init = tf.global_variables_initializer()\n",
    "    \n",
    "def predict3(inputs, theta):\n",
    "    #print(inputs)\n",
    "    r = sess.run(pred, feed_dict={examples:inputs})\n",
    "    #print('r', r)\n",
    "    #return r.argmax(axis=1)\n",
    "    return r\n",
    "\n",
    "# Launch the graph\n",
    "with tf.Session() as sess:\n",
    "\n",
    "    sess.run(init)\n",
    "    history = []\n",
    "    c = sess.run(cost_function, feed_dict={examples: X_train, labels: y_train})\n",
    "    s = sess.run(y_, feed_dict={examples: X_train})\n",
    "    print('cost:', c)\n",
    "\n",
    "    for epoch in range(iterations):\n",
    "\n",
    "        sess.run(optimizer, feed_dict={\n",
    "            examples: X_train,\n",
    "            labels: y_train\n",
    "        })\n",
    "        \n",
    "        c = sess.run(cost_function, feed_dict={examples: X_train, labels: y_train})\n",
    "        history.append(c)\n",
    "\n",
    "    print('bias:', sess.run(b))\n",
    "    print('weights:', sess.run(W))\n",
    "        \n",
    "    y_pred = sess.run(pred, feed_dict={examples: X_test})\n",
    "\n",
    "    r = sess.run(cost_function, feed_dict={examples: X_train, labels: y_train})\n",
    "    c = sess.run(cost_function, feed_dict={examples: X_train, labels: y_train})\n",
    "    s = sess.run(y_, feed_dict={examples: X_train})\n",
    "    \n",
    "    print(y_pred[0:20])\n",
    "    print(y_test[0:20].argmax(axis=1))\n",
    "    \n",
    "    print('cost: ', c)\n",
    "    print('accuracy:', accuracy_score(y_test.argmax(axis=1), y_pred))\n",
    "    #print('precision:', precision_score(y_test.argmax(axis=1) + 1, y_pred, average='macro'))\n",
    "    #print('recall:', recall_score(y_test.argmax(axis=1) + 1, y_pred, average='macro'))\n",
    "\n",
    "    plot_points(X_test[:,0:2], y_test.argmax(axis=1))\n",
    "    plot_boundary2(X_test, theta, predict3)"
   ]
  },
  {
   "cell_type": "code",
   "execution_count": 32,
   "metadata": {
    "collapsed": false
   },
   "outputs": [
    {
     "data": {
      "image/png": "[encoded data removed]",
      "text/plain": [
       "<matplotlib.figure.Figure at 0x124e750b8>"
      ]
     },
     "metadata": {},
     "output_type": "display_data"
    }
   ],
   "source": [
    "    plt.plot(history)\n",
    "    #plt.axis([0,iterations,np.max(history)])\n",
    "    #plt.xlabel('# Iterations')\n",
    "    #plt.ylabel('Cost')\n",
    "    plt.show()"
   ]
  },
  {
   "cell_type": "code",
   "execution_count": null,
   "metadata": {
    "collapsed": true
   },
   "outputs": [],
   "source": []
  }
 ],
 "metadata": {
  "anaconda-cloud": {},
  "kernelspec": {
   "display_name": "Python 3",
   "language": "python",
   "name": "python3"
  },
  "language_info": {
   "codemirror_mode": {
    "name": "ipython",
    "version": 3
   },
   "file_extension": ".py",
   "mimetype": "text/x-python",
   "name": "python",
   "nbconvert_exporter": "python",
   "pygments_lexer": "ipython3",
   "version": "3.6.0"
  }
 },
 "nbformat": 4,
 "nbformat_minor": 2
}
