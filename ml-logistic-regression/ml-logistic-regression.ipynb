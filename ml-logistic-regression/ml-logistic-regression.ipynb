{
 "cells": [
  {
   "cell_type": "markdown",
   "metadata": {},
   "source": [
    "This is the second in a series of posts in which I explore concepts in Andrew Ng's [Introduction to Machine Learning](https://www.coursera.org/learn/machine-learning) course on Coursera.  In each, I'm implementing in Python an algorithm taught in the class:  first using standard Python data science and numerical tools, and then in [Tensorflow](https://www.tensorflow.org/).\n",
    "\n",
    "The second algorithm is is [logistic regression](link).  Logistic regression is recognizably similar to [linear regression](link self), but instead of predicting a continuous output, classifies training examples by a set of categories or labels.  For example, linear regression on a set of social and economic data might be used to predict a person's income, but logistic regression could be used to predict whether that person was married, had children, or had ever been arrested.  In a basic sense, logistic regression only answers questions that have yes / no answers, or questions that can be answered with one or zero.  However, it can easily be [extended](https://en.wikipedia.org/wiki/Multinomial_logistic_regression) to problems where there are a larger set of categories.\n",
    "\n",
    "For this algorithm, I'm using the [Wine](https://archive.ics.uci.edu/ml/datasets/Wine) dataset from UCI. It maps thirteen continuous variables representing chemical contents of a wine to three labels, each a different winery in Italy.\n",
    "\n",
    "# Loading and Plotting Data\n",
    " \n",
    "The first step is to load the data.  Initially, I'm only using two features from the data set: alcohol and ash.  The labels are supplied as an array of data with values from one to three, but to start with, I only want a simple regression problem with a yes or no answer.  \n",
    "\n",
    "To do this, I first get a reduced data set, filtered so that it only includes wines with labels `1` or `2`, and then I use the scikit-learn `label_binarize` function.  `label_binarize`  takes an $m$-length list with $n$ possible values (two, in this case), and converts it to an $m \\times n$ matrix, where each column represents one label with a value of `1`, and all others with a value of `0`.  Then, I choose the first column.\n",
    "\n",
    "I've provided a small example below with 10 elements taken from a shuffled list of labels (the data set is ordered by winery, so the first ten of the unsorted array would all be `1`)."
   ]
  },
  {
   "cell_type": "code",
   "execution_count": 1,
   "metadata": {
    "collapsed": false
   },
   "outputs": [
    {
     "name": "stdout",
     "output_type": "stream",
     "text": [
      "original: [2 3 2 1 3 2 3 2 3 2]\n",
      "binarized: [[0 1 0]\n",
      " [0 0 1]\n",
      " [0 1 0]\n",
      " [1 0 0]\n",
      " [0 0 1]\n",
      " [0 1 0]\n",
      " [0 0 1]\n",
      " [0 1 0]\n",
      " [0 0 1]\n",
      " [0 1 0]]\n",
      "1s vs all: [0 0 0 1 0 0 0 0 0 0]\n"
     ]
    }
   ],
   "source": [
    "import pandas as pd\n",
    "import numpy as np\n",
    "from sklearn.preprocessing import label_binarize\n",
    "\n",
    "data = pd.read_csv('data.txt')\n",
    "\n",
    "reduced = data[data['class'] <= 2]\n",
    "X = reduced.as_matrix(columns=['alcohol', 'ash'])\n",
    "y = label_binarize(reduced['class'].values, [1, 2])[:,0]\n",
    "\n",
    "example = np.copy(data['class'].values)\n",
    "np.random.shuffle(example)\n",
    "example = example[0:10]\n",
    "print('original:', example)\n",
    "example = label_binarize(example, list(set(example)))\n",
    "print('binarized:', example)\n",
    "print('1s vs all:', example[:,0])"
   ]
  },
  {
   "cell_type": "markdown",
   "metadata": {},
   "source": [
    "I also split the data into training and testing sets before going further.  A simple way to do this is with the `train_test_split` function from scikit-learn, which allows me to specify a percentage (here 20%) to sample randomly from the data set and partition away for testing."
   ]
  },
  {
   "cell_type": "code",
   "execution_count": 2,
   "metadata": {
    "collapsed": false
   },
   "outputs": [
    {
     "name": "stdout",
     "output_type": "stream",
     "text": [
      "train: 104 test: 26\n"
     ]
    }
   ],
   "source": [
    "from sklearn.model_selection import train_test_split\n",
    "\n",
    "X_train, X_test, y_train, y_test = train_test_split(X, y, test_size=0.2)\n",
    "print('train:', len(X_train), 'test:', len(X_test))"
   ]
  },
  {
   "cell_type": "markdown",
   "metadata": {},
   "source": [
    "Because I'm going to be drawing a lot of data plots, I define a function that takes an $n \\times 2$ array of data points `xy`, and an $n \\times 1$ array `labels` to vary the symbol and color for each point.  This function supports three distinct labels, sufficient for this data set."
   ]
  },
  {
   "cell_type": "code",
   "execution_count": 3,
   "metadata": {
    "collapsed": false
   },
   "outputs": [
    {
     "data": {
      "image/png": "[encoded data removed]",
      "text/plain": [
       "<matplotlib.figure.Figure at 0x11804ce48>"
      ]
     },
     "metadata": {},
     "output_type": "display_data"
    }
   ],
   "source": [
    "import matplotlib.pyplot as plt\n",
    "%matplotlib inline\n",
    "\n",
    "MARKERS = ['+', 'x', '.']\n",
    "COLORS = ['red', 'green', 'blue']\n",
    "\n",
    "def plot_points(xy, labels):\n",
    "    \n",
    "    for i, label in enumerate(set(labels)):\n",
    "        points = np.array([xy[j,:] for j in range(len(xy)) if labels[j] == label])\n",
    "        marker = MARKERS[i % len(MARKERS)]\n",
    "        color = COLORS[i % len(COLORS)]\n",
    "        plt.scatter(points[:,0], points[:,1], marker=marker, color=color)\n",
    "\n",
    "plot_points(X_train, y_train)"
   ]
  },
  {
   "cell_type": "markdown",
   "metadata": {},
   "source": [
    "There's a fairly obvious area near the center of the plot where a vertical line could divide the two colors of points with a small amount of error.\n",
    "\n",
    "# Simple Logistic Regression\n",
    "\n",
    "To implement logistic regression, I need a hypothesis function $h_\\theta(x)$, a cost function $J(\\theta)$, and a gradient function that computes the partial derivatives of $J(\\theta)$.\n",
    "\n",
    "In logistic regression, $h_\\theta$ is the [sigmoid](https://www.quora.com/Logistic-Regression-Why-sigmoid-function) function.  The sigmoid function is bounded between zero and one, and produces a value that can be interpreted as a probability, as well as a yes or no answer with a cross-over, or decision boundary at 0.5:\n",
    "\n",
    "$$\n",
    "h_\\theta(x) = \\frac{1}{1 + e^{ \\theta^Tx}}\n",
    "$$\n",
    "\n",
    "Using [mean squared error](https://en.wikipedia.org/wiki/Mean_squared_error) from linear regression isn't a good idea here, as the resulting cost function [isn't convex](http://mathworld.wolfram.com/SigmoidFunction.html) and so is not well-suited for gradient descent.  Instead, the difference of $h_\\theta(x^i) - y^i$ is calculated differently for $y=0$ and $y=1$, and the result is [transformed](https://stackoverflow.com/questions/32986123/why-the-cost-function-of-logistic-regression-has-a-logarithmic-expression) [logarithmically](https://math.stackexchange.com/questions/886555/deriving-cost-function-using-mle-why-use-log-function) into a convex function: \n",
    "\n",
    "$$\n",
    "J(\\theta) =-\\frac{1}{m}\\sum_{i=1}^{m}y^{i}\\log(h_\\theta(x^{i}))+(1-y^{i})\\log(1-h_\\theta(x^{i}))\n",
    "$$\n",
    "\n",
    "Fortunately, the [derivative](https://math.stackexchange.com/questions/477207/derivative-of-cost-function-for-logistic-regression) of this function is exactly the same as that of linear regression, just with a different $h_\\theta(x)$:\n",
    "\n",
    "$$\n",
    "\\frac{\\partial}{\\partial\\theta_{j}}J(\\theta) =\\sum_{i=1}^{m}(h_\\theta(x^{i})-y^i)x_j^i\n",
    "$$"
   ]
  },
  {
   "cell_type": "code",
   "execution_count": 4,
   "metadata": {
    "collapsed": false
   },
   "outputs": [],
   "source": [
    "import numpy as np\n",
    "\n",
    "def sigmoid(X):\n",
    "    return 1 / (1 + np.exp(-X))\n",
    "\n",
    "def cost(theta, X, y):\n",
    "    theta = theta[:,None]\n",
    "    y = y[:,None]\n",
    "    \n",
    "    hyp = sigmoid(X.dot(theta))\n",
    "    pos = np.multiply(-y, np.log(hyp))\n",
    "    neg = np.multiply((1 - y), np.log(1 - hyp))\n",
    "    \n",
    "    return np.sum(pos - neg) / (len(X))\n",
    "\n",
    "def gradient(theta, X, y):\n",
    "    theta = theta[:,None]\n",
    "    y = y[:,None]\n",
    "    \n",
    "    error = sigmoid(X.dot(theta)) - y\n",
    "    return X.T.dot(error) / len(X)"
   ]
  },
  {
   "cell_type": "markdown",
   "metadata": {},
   "source": [
    "It's worth noting the treatment of `y` and `theta` above.  In each function, I explicitly convert each to an $n$ or $m \\times 1$ `ndarray`, so the linear algebra works correctly.  An alternative is to use a numpy `matrix`, which has stricter linear algebra semantics and treats 1-dimensional matrices more like column vectors.  However, I found that it was awkward to get the matrix interface to work correctly with both the optimization function used below and Tensorflow.  The syntax `theta = theta[:,None]` can be thought of as explicitly columnizing the array of parameters or labels.\n",
    "\n",
    "Instead of manually writing the gradient descent algorithm, I use an optimization algorithm from Scipy called [`fmin_tnc`](https://docs.scipy.org/doc/scipy-0.14.0/reference/generated/scipy.optimize.fmin_tnc.html) to perform it.  This function takes as parameters the cost function, an initial set of parameters for $\\theta$, the gradient function, and a tuple of args to pass to each.  I define a `train` function that prepends a columns of ones to the training data (allowing for a bias parameter $\\theta_0$), run call the minimization function and returning the first of its return values, final parameters for $\\theta$."
   ]
  },
  {
   "cell_type": "code",
   "execution_count": 5,
   "metadata": {
    "collapsed": false
   },
   "outputs": [
    {
     "name": "stdout",
     "output_type": "stream",
     "text": [
      "theta:  [ 85.36930697  -5.94038827  -3.38665516]\n"
     ]
    }
   ],
   "source": [
    "from scipy.optimize import fmin_tnc  \n",
    "\n",
    "def train(X, y):\n",
    "    X = np.insert(X, 0, np.ones(len(X)), axis=1)\n",
    "    theta = np.zeros(X.shape[1])\n",
    "    result = fmin_tnc(func=cost, x0=theta, fprime=gradient, args=(X, y))\n",
    "    \n",
    "    return result[0]\n",
    "\n",
    "theta = train(X_train, y_train)\n",
    "print('theta: ', theta)"
   ]
  },
  {
   "cell_type": "markdown",
   "metadata": {},
   "source": [
    "# Decision Boundaries and Evaluation\n",
    "\n",
    "\n",
    "I can evaluate the results of the optimization visually and statistically, but I also need one more function: `predict`, which takes an array of examples `X` and learned parameter values `theta` as inputs and returns the predicted label for each.  Here too, ones must be prepended to the inputs, and I return an integer value representing whether the result of the `sigmoid` hypothesis function is equal to or greater than 0.5.\n",
    "\n",
    "To test the results of those predictions, Scikit-learn provides three functions to calculate accuracy, [precision](https://en.wikipedia.org/wiki/Precision_and_recall), and [recall](https://en.wikipedia.org/wiki/Precision_and_recall).  The test data from earlier is used here, so the results represent the performance of the classifier on unseen data."
   ]
  },
  {
   "cell_type": "code",
   "execution_count": 6,
   "metadata": {
    "collapsed": false
   },
   "outputs": [
    {
     "name": "stdout",
     "output_type": "stream",
     "text": [
      "accuracy: 0.884615384615\n",
      "precision: 0.830827067669\n",
      "recall: 0.866666666667\n"
     ]
    }
   ],
   "source": [
    "from sklearn.metrics import accuracy_score, precision_score, recall_score\n",
    "\n",
    "def predict(X, theta):\n",
    "    X = np.insert(X, 0, np.ones(len(X)), axis=1)\n",
    "    return (sigmoid(X * np.matrix(theta).T) >= 0.5).astype(int)\n",
    "\n",
    "predictions = predict(X_test, theta)\n",
    "\n",
    "print('accuracy:', accuracy_score(y_test, predictions))\n",
    "print('precision:', precision_score(y_test, predictions, average='macro'))\n",
    "print('recall:', recall_score(y_test, predictions, average='macro'))"
   ]
  },
  {
   "cell_type": "markdown",
   "metadata": {},
   "source": [
    "Not bad for a first attempt, but could certainly be improved.\n",
    "\n",
    "It's much more interesting to review the results visually, at least while the number of features is limited to two.  To do this, I need to plot the input points again, then overlay the decision boundary on top.  I tried a few methods of representing this in Matplotlib, and found that an (unfilled) countour plot was the best approach.  It's possible to do this also by manually calculating the function to plot, or to produce a filled contour plot that shades the background, but doing the math by hand is tedious and won't scale, and the colormaps for filled contour plots leave a lot to be desired visually.\n",
    "\n",
    "Below, I define a function `plot_boundary` that takes $n$ by 2 matrix of feature values $(x_0, x_1)$ and a prediction function, then builds a mesh grid of $(x, y)$ points corresponding to possible $(x_0, x_1)$ values within the input range.  After running the prediction function on all of them, the result is an $(x, y, z)$ point in space.  Because the result isn't continuous and flips directly from zero to one, there's only one contour that can be drawn on the plot, representing the decision boundary."
   ]
  },
  {
   "cell_type": "code",
   "execution_count": 7,
   "metadata": {
    "collapsed": false
   },
   "outputs": [
    {
     "data": {
      "image/png": "[encoded data removed]",
      "text/plain": [
       "<matplotlib.figure.Figure at 0x10e7889e8>"
      ]
     },
     "metadata": {},
     "output_type": "display_data"
    }
   ],
   "source": [
    "from matplotlib import cm\n",
    "\n",
    "def plot_boundary(X, pred):\n",
    "    \n",
    "    x_min, x_max = X[:,0].min() - .1, X[:,0].max() + .1\n",
    "    y_min, y_max = X[:,1].min() - .1, X[:,1].max() + .1\n",
    "    \n",
    "    xs, ys = np.meshgrid(\n",
    "        np.linspace(x_min, x_max, 200),\n",
    "        np.linspace(y_min, y_max, 200)\n",
    "    )\n",
    "\n",
    "    xys = np.column_stack([xs.ravel(), ys.ravel()])\n",
    "    zs = pred(xys).reshape(xs.shape)\n",
    "\n",
    "    plt.contour(xs, ys, zs, colors='black')\n",
    "        \n",
    "plot_points(X_train, y_train)\n",
    "plot_boundary(X_train, lambda x: predict(x, theta))"
   ]
  },
  {
   "cell_type": "markdown",
   "metadata": {},
   "source": [
    "That seems like an entirely reasonable place to make a decision between the two kind of points.  Below is the same decision boundary on the test data."
   ]
  },
  {
   "cell_type": "code",
   "execution_count": 8,
   "metadata": {
    "collapsed": false
   },
   "outputs": [
    {
     "data": {
      "image/png": "[encoded data removed]",
      "text/plain": [
       "<matplotlib.figure.Figure at 0x10e4f4208>"
      ]
     },
     "metadata": {},
     "output_type": "display_data"
    }
   ],
   "source": [
    "plot_boundary(X_test, lambda x: predict(x, theta))\n",
    "plot_points(X_test, y_test)"
   ]
  },
  {
   "cell_type": "markdown",
   "metadata": {
    "collapsed": false
   },
   "source": [
    "### Multinomial Logistic Regression\n",
    "\n",
    "The next step is something more interesting: a similar set of two features from the data set (this time alcohol and flavanoids), but with all three labels instead of the first one vs the other two.  The only differences below in loading the data are that I no longer filter out rows with the third label, that I use the full output from `label_binarize`, resulting in an $m \\times 3$ array for `y`."
   ]
  },
  {
   "cell_type": "code",
   "execution_count": 9,
   "metadata": {
    "collapsed": false
   },
   "outputs": [
    {
     "data": {
      "image/png": "[encoded data removed]",
      "text/plain": [
       "<matplotlib.figure.Figure at 0x11bc7d550>"
      ]
     },
     "metadata": {},
     "output_type": "display_data"
    }
   ],
   "source": [
    "X = data.as_matrix(columns=['alcohol', 'flavanoids'])\n",
    "y = data.as_matrix(columns=['class'])\n",
    "X_train, X_test, y_train, y_test = train_test_split(X, y, test_size=0.2)\n",
    "y_train = label_binarize(y_train, [1, 2, 3])\n",
    "\n",
    "plot_points(X_train, y_train.argmax(axis=1))"
   ]
  },
  {
   "cell_type": "markdown",
   "metadata": {},
   "source": [
    "The plotted data points again suggest some obvious linear boundaries between the wines.\n",
    "\n",
    "It turns out that solving this as three one-vs-all problems is trivial.  Instead of one array of `theta` values I train three, one per problem, and then define a new `predict_multi` function that computes the sigmoid for each set of `theta` parameters.  This time, rather than return `1` or `0` based on whether the value is above or below 0.5, I return the `argmax` of each row, or the index of the largest value."
   ]
  },
  {
   "cell_type": "code",
   "execution_count": 10,
   "metadata": {
    "collapsed": false
   },
   "outputs": [
    {
     "name": "stdout",
     "output_type": "stream",
     "text": [
      "accuracy: 0.916666666667\n",
      "precision: 0.915584415584\n",
      "recall: 0.928571428571\n"
     ]
    },
    {
     "data": {
      "image/png": "[encoded data removed]",
      "text/plain": [
       "<matplotlib.figure.Figure at 0x1165fd978>"
      ]
     },
     "metadata": {},
     "output_type": "display_data"
    }
   ],
   "source": [
    "def predict_multi(X, thetas):\n",
    "    X = np.insert(X, 0, np.ones(len(X)), axis=1)\n",
    "    preds = [sigmoid(X * np.asmatrix(t).T) for t in thetas]\n",
    "    return np.column_stack(preds).argmax(axis=1)\n",
    "\n",
    "thetas = [train(X_train, y_train[:,i]) for i in range(0,3)]\n",
    "predictions = predict_multi(X_test, thetas) + 1\n",
    "\n",
    "print('accuracy:', accuracy_score(y_test, predictions))\n",
    "print('precision:', precision_score(y_test, predictions, average='macro'))\n",
    "print('recall:', recall_score(y_test, predictions, average='macro'))\n",
    "\n",
    "plot_points(X_train, y_train.argmax(axis=1))\n",
    "plot_boundary(X_train, lambda x: predict_multi(x, thetas))"
   ]
  },
  {
   "cell_type": "markdown",
   "metadata": {
    "collapsed": false
   },
   "source": [
    "That's pretty good.  But there's still room for improvement, even while only using two features from the data set.  Looking at the plot above, it seems like the boundaries could be much more accurate if they didn't have to be straight lines.\n",
    "\n",
    "To allow for this, I define a function `transform` to add some polynomial features, converting each input example of $(x_0, x_1)$ to $(x_0, x_1, x_2, x_3, x_4)$, where $x_2 = x_0^2$, where $x_3 = x_1^2$ and $x_4 = x_0 x_1$."
   ]
  },
  {
   "cell_type": "code",
   "execution_count": 11,
   "metadata": {
    "collapsed": false
   },
   "outputs": [
    {
     "name": "stdout",
     "output_type": "stream",
     "text": [
      "accuracy: 0.916666666667\n",
      "precision: 0.915584415584\n",
      "recall: 0.928571428571\n"
     ]
    },
    {
     "data": {
      "image/png": "[encoded data removed]",
      "text/plain": [
       "<matplotlib.figure.Figure at 0x11c441ba8>"
      ]
     },
     "metadata": {},
     "output_type": "display_data"
    }
   ],
   "source": [
    "def transform_x(x):\n",
    "    return [x[0], x[1], x[0] ** 2, x[1] ** 2, x[0] * x[1]]\n",
    "\n",
    "def transform(X):\n",
    "    return np.apply_along_axis(transform_x, 1, X)\n",
    "\n",
    "X_train = transform(X_train)\n",
    "X_test = transform(X_test)\n",
    "\n",
    "thetas = [train(X_train, y_train[:,i]) for i in range(0,3)]\n",
    "predictions = predict_multi(X_test, thetas) + 1\n",
    "\n",
    "print('accuracy:', accuracy_score(y_test, predictions))\n",
    "print('precision:', precision_score(y_test, predictions, average='macro'))\n",
    "print('recall:', recall_score(y_test, predictions, average='macro'))\n",
    "\n",
    "plot_points(X_train, y_train.argmax(axis=1))\n",
    "plot_boundary(X_train, lambda x: predict_multi(transform(x), thetas))"
   ]
  },
  {
   "cell_type": "markdown",
   "metadata": {
    "collapsed": false
   },
   "source": [
    "# Regularization\n",
    "\n",
    "Next, I want to include all the features from the data set.  To do this, instead of specifying what columns I want to include, I use `drop` to include everything except the `class`.\n",
    "\n",
    "Because I'm now significantly increasing the number of features, I apply [regularization](https://www.quora.com/What-is-regularization-in-machine-learning) as part of new cost and gradient functions.  Regularization prevents overfitting, a situation where a large number of features allows the classifier to fit the training set *too* exactly, meaning that it fails to generalize well and perform accurately on data it hasn't seen yet.\n",
    "\n",
    "To avoid this problem, I add an additional term to the cost function and its gradient, representing the aggregated weights of each $\\theta$ parameter.  Adding this term effectively increases the cost, meaning that one parameter is significantly less likely to over-influence the classifier overall, and the fit to the training set is softened.  That parameter looks different for the cost function and its gradient.  Note that for each, the summation for regularization starts at $j = 1$, since the constant bia parameter $\\theta_0$ is typically not regularized:\n",
    "\n",
    "$$\n",
    "J(\\theta) =-\\frac{1}{m}\\sum_{i=1}^{m}[y^{i}\\log(h_\\theta(x^{i}))+(1-y^{i})\\log(1-h_\\theta(x^{i}))] + \\frac{\\lambda}{2m}\\sum_{j=1}^{n}\\theta_j^2 \\\\\n",
    "\\frac{\\partial}{\\partial\\theta_{j}}J(\\theta) =\\sum_{i=1}^{m}(h_\\theta(x^{i})-y^i)x_j^i + \\frac{\\lambda}{m}\\theta_j\n",
    "$$\n",
    "\n",
    "Below, I define new cost and gradient functions, and then a new function to train the classifier, given the addition of a new parameter `l`, for $\\lambda$.  This parameter can be adjusted to change the effect of regularization; here I'm simply using `1.0` for its value.  In each case, I ensure that $\\theta_0$ isn't regularized by creating a temporary `theta_reg`, starting with a zero followed by elements one and onward from `theta`."
   ]
  },
  {
   "cell_type": "code",
   "execution_count": 12,
   "metadata": {
    "collapsed": false
   },
   "outputs": [
    {
     "name": "stdout",
     "output_type": "stream",
     "text": [
      "accuracy: 0.972222222222\n",
      "precision: 0.966666666667\n",
      "recall: 0.982456140351\n"
     ]
    }
   ],
   "source": [
    "X = data.drop('class', 1).as_matrix()\n",
    "y = data.as_matrix(columns=['class'])\n",
    "X_train, X_test, y_train, y_test = train_test_split(X, y, test_size=0.2)\n",
    "y_train = label_binarize(y_train, [1, 2, 3])\n",
    "\n",
    "def cost_reg(theta, X, y, l):\n",
    "    theta_reg = np.array((0, *theta[1:]))\n",
    "    return cost(theta, X, y) + l * np.square(theta_reg).sum() / (2 * len(X))\n",
    "\n",
    "def gradient_reg(theta, X, y, l):\n",
    "    theta_reg = np.array((0, *theta[1:]))[:,None]\n",
    "    return gradient(theta, X, y) + l * theta_reg / len(X)\n",
    "\n",
    "def train_reg(X, y):\n",
    "    X = np.insert(X, 0, np.ones(len(X)), axis=1)\n",
    "    theta = np.zeros(X.shape[1])\n",
    "    result = fmin_tnc(func=cost_reg, x0=theta, fprime=gradient_reg, args=(X, y, 1.0))\n",
    "    \n",
    "    return result[0]\n",
    "\n",
    "thetas = [train_reg(X_train, y_train[:,i]) for i in range(0,3)]\n",
    "predictions = predict_multi(X_test, thetas) + 1\n",
    "\n",
    "print('accuracy:', accuracy_score(y_test, predictions))\n",
    "print('precision:', precision_score(y_test, predictions, average='macro'))\n",
    "print('recall:', recall_score(y_test, predictions, average='macro'))"
   ]
  },
  {
   "cell_type": "markdown",
   "metadata": {},
   "source": [
    "With all features now in use, the accuracy is quite good.\n",
    "\n",
    "# Logistic Regression in Tensorflow"
   ]
  },
  {
   "cell_type": "code",
   "execution_count": 13,
   "metadata": {
    "collapsed": false
   },
   "outputs": [
    {
     "name": "stdout",
     "output_type": "stream",
     "text": [
      "train: 142 test: 36\n"
     ]
    }
   ],
   "source": [
    "data = pd.read_csv('data.txt')\n",
    "\n",
    "#def transform_data(x):\n",
    "\n",
    "X = data.as_matrix(columns=['alcohol', 'flavanoids'])\n",
    "#XX = data.drop('class', 1).as_matrix()\n",
    "y = label_binarize(data['class'], [1, 2, 3])\n",
    "\n",
    "X_train, X_test, y_train, y_test = train_test_split(X, y, test_size=0.2)\n",
    "print('train:', len(X_train), 'test:', len(X_test))"
   ]
  },
  {
   "cell_type": "code",
   "execution_count": 17,
   "metadata": {
    "collapsed": false
   },
   "outputs": [
    {
     "name": "stdout",
     "output_type": "stream",
     "text": [
      "weights: [[ 16.20529938 -25.64712524   9.44766712]\n",
      " [ 25.65550232   7.0128417  -32.6669693 ]]\n",
      "bias: [-258.31646729  322.18566895  -63.87068176]\n",
      "accuracy: 0.944444444444\n",
      "precision: 0.947058823529\n",
      "recall: 0.939393939394\n"
     ]
    },
    {
     "data": {
      "image/png": "[encoded data removed]",
      "text/plain": [
       "<matplotlib.figure.Figure at 0x123554630>"
      ]
     },
     "metadata": {},
     "output_type": "display_data"
    }
   ],
   "source": [
    "import tensorflow as tf\n",
    "\n",
    "def tf_generate(n_features, n_labels):\n",
    "\n",
    "    examples = tf.placeholder(tf.float32, [None, n_features], name='examples')\n",
    "    labels = tf.placeholder(tf.int32, [None, n_labels], name='y')\n",
    "\n",
    "    weights = tf.Variable(tf.zeros([n_features, n_labels]), name='weights')\n",
    "    bias = tf.Variable(tf.zeros([n_labels]), name='bias')\n",
    "\n",
    "    logits = tf.matmul(examples, weights) + bias\n",
    "    predict = tf.nn.softmax(logits)\n",
    "    cost = tf.reduce_mean(tf.nn.softmax_cross_entropy_with_logits(logits=logits, labels=labels))\n",
    "    opti = tf.train.GradientDescentOptimizer(1).minimize(cost)\n",
    "    \n",
    "    return opti, predict\n",
    "\n",
    "def tf_run(X_train, X_test, y_train, y_test):\n",
    "    pass\n",
    "\n",
    "n_features = X_train.shape[1]\n",
    "n_labels = y_train.shape[1]\n",
    "\n",
    "examples = tf.placeholder(tf.float32, [None, n_features], name='examples')\n",
    "labels = tf.placeholder(tf.int32, [None, n_labels], name='y')\n",
    "\n",
    "weights = tf.Variable(tf.zeros([n_features, n_labels]), name='weights')\n",
    "bias = tf.Variable(tf.zeros([n_labels]), name='bias')\n",
    "\n",
    "logits = tf.matmul(examples, weights) + bias\n",
    "predict = tf.nn.softmax(logits)\n",
    "cost = tf.reduce_mean(tf.nn.softmax_cross_entropy_with_logits(logits=logits, labels=labels))\n",
    "opti = tf.train.GradientDescentOptimizer(1).minimize(cost)\n",
    "\n",
    "init = tf.global_variables_initializer()\n",
    "\n",
    "def predict_tf(session, inputs):\n",
    "    return session.run(predict, feed_dict={examples: inputs}).argmax(axis=1)\n",
    "    \n",
    "with tf.Session() as sess:\n",
    "    sess.run(init)\n",
    "\n",
    "    for i in range(120000):\n",
    "        sess.run(opti, feed_dict={\n",
    "            examples: X_train,\n",
    "            labels: y_train\n",
    "        })\n",
    "\n",
    "    pred = predict_tf(sess, X_test)\n",
    "\n",
    "    print('weights:', sess.run(weights))\n",
    "    print('bias:', sess.run(bias))\n",
    "    print('accuracy:', accuracy_score(y_test.argmax(axis=1), pred))\n",
    "    print('precision:', precision_score(y_test.argmax(axis=1), pred, average='macro'))\n",
    "    print('recall:', recall_score(y_test.argmax(axis=1), pred, average='macro'))\n",
    "\n",
    "    plot_boundary(X_train, lambda i: predict_tf(sess, i))\n",
    "    plot_points(X_train, y_train.argmax(axis=1))"
   ]
  },
  {
   "cell_type": "code",
   "execution_count": 15,
   "metadata": {
    "collapsed": false
   },
   "outputs": [
    {
     "ename": "IndentationError",
     "evalue": "expected an indented block (<ipython-input-15-7cca0ca93ab1>, line 5)",
     "output_type": "error",
     "traceback": [
      "\u001b[0;36m  File \u001b[0;32m\"<ipython-input-15-7cca0ca93ab1>\"\u001b[0;36m, line \u001b[0;32m5\u001b[0m\n\u001b[0;31m    data = pd.read_csv('data.txt')\u001b[0m\n\u001b[0m       ^\u001b[0m\n\u001b[0;31mIndentationError\u001b[0m\u001b[0;31m:\u001b[0m expected an indented block\n"
     ]
    }
   ],
   "source": [
    "def transform_data(x):\n",
    "#    return x\n",
    "    #return [x[0], x[1], x[0] ** 2, x[1] ** 2]\n",
    "\n",
    "data = pd.read_csv('data.txt')\n",
    "X = data.as_matrix(columns=['alcohol', 'flavanoids'])\n",
    "#XX = data.drop('class', 1).as_matrix()\n",
    "#y = np.array([i - 1 for i in data['class']])\n",
    "\n",
    "\n",
    "#X = np.apply_along_axis(transform_data, 1, X)\n",
    "y = label_binarize(data['class'], [1, 2, 3])\n",
    "\n",
    "X_train, X_test, y_train, y_test = train_test_split(X, y, test_size=0.2)\n",
    "print('train:', len(X_train), 'test:', len(X_test))"
   ]
  }
 ],
 "metadata": {
  "anaconda-cloud": {},
  "kernelspec": {
   "display_name": "Python 3",
   "language": "python",
   "name": "python3"
  },
  "language_info": {
   "codemirror_mode": {
    "name": "ipython",
    "version": 3
   },
   "file_extension": ".py",
   "mimetype": "text/x-python",
   "name": "python",
   "nbconvert_exporter": "python",
   "pygments_lexer": "ipython3",
   "version": "3.6.0"
  }
 },
 "nbformat": 4,
 "nbformat_minor": 2
}
