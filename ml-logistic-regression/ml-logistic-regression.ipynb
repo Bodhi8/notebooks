{
 "cells": [
  {
   "cell_type": "code",
   "execution_count": 157,
   "metadata": {
    "collapsed": false
   },
   "outputs": [],
   "source": [
    "import pandas as pd\n",
    "import numpy as np\n",
    "\n",
    "data = pd.read_csv('data.txt')\n",
    "data.insert(0, '1', 1)\n",
    "data = data[data['class'] <= 2]\n",
    "\n",
    "X = data.as_matrix(columns=['1', 'alcohol', 'alcalinity'])\n",
    "y = data.as_matrix(columns=['class'])\n",
    "for i in range(len(y)):\n",
    "    y[i,0] = y[i,0] -1\n",
    "    #print(y[i,0])\n",
    "    #print(i)\n",
    "#print(X)"
   ]
  },
  {
   "cell_type": "code",
   "execution_count": 159,
   "metadata": {
    "collapsed": false
   },
   "outputs": [
    {
     "data": {
      "text/plain": [
       "<matplotlib.collections.PathCollection at 0x111747470>"
      ]
     },
     "execution_count": 159,
     "metadata": {},
     "output_type": "execute_result"
    },
    {
     "data": {
      "image/png": "[encoded data removed]",
      "text/plain": [
       "<matplotlib.figure.Figure at 0x1112ec6d8>"
      ]
     },
     "metadata": {},
     "output_type": "display_data"
    }
   ],
   "source": [
    "import matplotlib.pyplot as plt\n",
    "%matplotlib inline\n",
    "\n",
    "def y_filter(X, y, value):\n",
    "    return np.matrix([X[i,:] for i in range(len(X)) if y[i,0] == value])\n",
    "\n",
    "x0 = y_filter(X, y, 0)\n",
    "x1 = y_filter(X, y, 1)\n",
    "plt.scatter(x0[:,1], x0[:,2], marker='+', color='red')\n",
    "plt.scatter(x1[:,1], x1[:,2], marker='x', color='green')"
   ]
  },
  {
   "cell_type": "code",
   "execution_count": 160,
   "metadata": {
    "collapsed": false
   },
   "outputs": [],
   "source": [
    "import numpy as np\n",
    "from scipy.special import expit\n",
    "\n",
    "def sigmoid(X):\n",
    "    return 1 / (1 + np.exp(-X))\n",
    "\n",
    "def predict(X, theta):\n",
    "    return sigmoid(X * np.matrix(theta).T) >= 0.5\n",
    "\n",
    "def cost(theta, X, y):\n",
    "    theta = np.matrix(theta)\n",
    "    \n",
    "    h = expit(np.matmul(X, theta.T))\n",
    "    y1 = np.multiply(-y, np.log(h))\n",
    "    y0 = np.multiply((1 - y), np.log(1 - h))\n",
    "    j = np.sum(y1 - y0) / (len(X))\n",
    "    return j\n",
    "\n",
    "def gradient(theta, X, y):\n",
    "    error = sigmoid(X * np.matrix(theta).T) - y\n",
    "    grad = (1/len(X)) * np.matmul(X.T, error)\n",
    "    #print(error)\n",
    "    \n",
    "    return grad\n",
    "\n",
    "def gradient2(theta, X, y):  \n",
    "    theta = np.matrix(theta)\n",
    "    X = np.matrix(X)\n",
    "    y = np.matrix(y)\n",
    "\n",
    "    parameters = int(theta.ravel().shape[1])\n",
    "    grad = np.zeros(parameters)\n",
    "\n",
    "    error = sigmoid(X * theta.T) - y\n",
    "\n",
    "    for i in range(parameters):\n",
    "        term = np.multiply(error, X[:,i])\n",
    "        grad[i] = np.sum(term) / len(X)\n",
    "\n",
    "    return grad\n",
    "\n",
    "def descent(theta, X, y, iterations):\n",
    "    for i in range(iterations):\n",
    "        theta = theta = gradient(theta, X, y)"
   ]
  },
  {
   "cell_type": "code",
   "execution_count": 161,
   "metadata": {
    "collapsed": false
   },
   "outputs": [
    {
     "name": "stdout",
     "output_type": "stream",
     "text": [
      "(array([ 59.54988136,  -4.96096201,   0.28874618]), 86, 1)\n",
      "[ 59.54988136  -4.96096201   0.28874618]\n",
      "0.177418331666\n"
     ]
    }
   ],
   "source": [
    "import scipy.optimize as opt  \n",
    "\n",
    "theta = np.zeros(3)\n",
    "#descent(theta, X, y, 100)\n",
    "result = opt.fmin_tnc(func=cost, x0=theta, fprime=gradient2, args=(X, y))\n",
    "theta = result[0]\n",
    "print(result)\n",
    "\n",
    "print(theta)\n",
    "print(cost(theta, X, y))"
   ]
  },
  {
   "cell_type": "code",
   "execution_count": 162,
   "metadata": {
    "collapsed": false
   },
   "outputs": [
    {
     "data": {
      "text/plain": [
       "<matplotlib.collections.PathCollection at 0x111847d30>"
      ]
     },
     "execution_count": 162,
     "metadata": {},
     "output_type": "execute_result"
    },
    {
     "data": {
      "image/png": "[encoded data removed]",
      "text/plain": [
       "<matplotlib.figure.Figure at 0x111704780>"
      ]
     },
     "metadata": {},
     "output_type": "display_data"
    }
   ],
   "source": [
    "from matplotlib import cm\n",
    "\n",
    "def boundary(X, theta):\n",
    "    \n",
    "    x_min, x_max = X[:,1].min() - 1, X[:,1].max() + 1\n",
    "    y_min, y_max = X[:,2].min() - 1, X[:,2].max() + 1\n",
    "    xx, yy = np.meshgrid(\n",
    "        np.linspace(x_min, x_max, 100),\n",
    "        np.linspace(-10, y_max, 100)\n",
    "    )\n",
    "\n",
    "    inputs = np.c_[np.ones(10000), xx.ravel(), yy.ravel()]\n",
    "    predictions = predict(inputs, theta).reshape(xx.shape)\n",
    "\n",
    "    plt.xlim(x_min, x_max)\n",
    "    plt.ylim(y_min, y_max)  \n",
    "    plt.contourf(xx, yy, predictions, cmap=cm.Pastel1)\n",
    "    \n",
    "boundary(X, theta)\n",
    "\n",
    "x0 = y_filter(X, y, 0)\n",
    "x1 = y_filter(X, y, 1)\n",
    "plt.scatter(x0[:,1], x0[:,2], marker='+', color='red')\n",
    "plt.scatter(x1[:,1], x1[:,2], marker='x', color='green')"
   ]
  },
  {
   "cell_type": "code",
   "execution_count": null,
   "metadata": {
    "collapsed": true
   },
   "outputs": [],
   "source": []
  },
  {
   "cell_type": "code",
   "execution_count": null,
   "metadata": {
    "collapsed": true
   },
   "outputs": [],
   "source": []
  }
 ],
 "metadata": {
  "anaconda-cloud": {},
  "kernelspec": {
   "display_name": "Python 3",
   "language": "python",
   "name": "python3"
  },
  "language_info": {
   "codemirror_mode": {
    "name": "ipython",
    "version": 3
   },
   "file_extension": ".py",
   "mimetype": "text/x-python",
   "name": "python",
   "nbconvert_exporter": "python",
   "pygments_lexer": "ipython3",
   "version": "3.6.0"
  }
 },
 "nbformat": 4,
 "nbformat_minor": 2
}
