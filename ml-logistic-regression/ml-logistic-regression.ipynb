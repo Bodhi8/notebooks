{
 "cells": [
  {
   "cell_type": "markdown",
   "metadata": {},
   "source": [
    " - note on binarize (example?)\n",
    " - matrix vs array treatment\n",
    " - shapes and sizes hangups"
   ]
  },
  {
   "cell_type": "code",
   "execution_count": 1,
   "metadata": {
    "collapsed": false
   },
   "outputs": [],
   "source": [
    "import pandas as pd\n",
    "import numpy as np\n",
    "from sklearn.preprocessing import label_binarize\n",
    "\n",
    "data = pd.read_csv('data.txt')\n",
    "\n",
    "X = data.as_matrix(columns=['alcohol', 'ash'])\n",
    "y = label_binarize(data['class'], [1, 2, 3])[:,0]"
   ]
  },
  {
   "cell_type": "markdown",
   "metadata": {},
   "source": [
    "- train / test sets"
   ]
  },
  {
   "cell_type": "code",
   "execution_count": 2,
   "metadata": {
    "collapsed": false
   },
   "outputs": [
    {
     "name": "stdout",
     "output_type": "stream",
     "text": [
      "train: 142 test: 36\n"
     ]
    }
   ],
   "source": [
    "from sklearn.model_selection import train_test_split\n",
    "\n",
    "X_train, X_test, y_train, y_test = train_test_split(X, y, test_size=0.2)\n",
    "print('train:', len(X_train), 'test:', len(X_test))"
   ]
  },
  {
   "cell_type": "code",
   "execution_count": 3,
   "metadata": {
    "collapsed": false
   },
   "outputs": [
    {
     "data": {
      "image/png": "[encoded data removed]",
      "text/plain": [
       "<matplotlib.figure.Figure at 0x117603b38>"
      ]
     },
     "metadata": {},
     "output_type": "display_data"
    }
   ],
   "source": [
    "import matplotlib.pyplot as plt\n",
    "%matplotlib inline\n",
    "\n",
    "MARKERS = ['+', 'x', '.']\n",
    "COLORS = ['red', 'green', 'blue']\n",
    "\n",
    "def plot_points(xy, labels):\n",
    "    \n",
    "    for i, label in enumerate(set(labels)):\n",
    "        points = np.array([xy[j,:] for j in range(len(xy)) if labels[j] == label])\n",
    "        marker = MARKERS[i % len(MARKERS)]\n",
    "        color = COLORS[i % len(COLORS)]\n",
    "        plt.scatter(points[:,0], points[:,1], marker=marker, color=color)\n",
    "\n",
    "plot_points(X_train, y_train)"
   ]
  },
  {
   "cell_type": "code",
   "execution_count": 4,
   "metadata": {
    "collapsed": false
   },
   "outputs": [
    {
     "name": "stdout",
     "output_type": "stream",
     "text": [
      "theta:  [-43.20541042   3.2675127   -0.37087156]\n"
     ]
    }
   ],
   "source": [
    "import numpy as np\n",
    "from scipy.optimize import fmin_tnc  \n",
    "\n",
    "def sigmoid(X):\n",
    "    return 1 / (1 + np.exp(-X))\n",
    "\n",
    "def cost(theta, X, y):\n",
    "    y = np.asmatrix(y).T\n",
    "    theta = np.asmatrix(theta).T\n",
    "    \n",
    "    h = sigmoid(X * theta)\n",
    "    pos = np.multiply(-y, np.log(h))\n",
    "    neg = np.multiply((1 - y), np.log(1 - h))\n",
    "    j = np.sum(pos - neg) / (len(X))\n",
    "    \n",
    "    return j\n",
    "\n",
    "def gradient(theta, X, y):\n",
    "    theta = np.asmatrix(theta).T\n",
    "    y = np.asmatrix(y).T\n",
    "    \n",
    "    error = sigmoid(X * theta) - y\n",
    "    grad = X.T * error / len(X)\n",
    "    \n",
    "    return grad\n",
    "\n",
    "def train(X, y):\n",
    "    X = np.insert(X, 0, np.ones(len(X)), axis=1)\n",
    "    result = fmin_tnc(func=cost, x0=np.zeros(3), fprime=gradient, args=(X, y))\n",
    "    return result[0]\n",
    "\n",
    "theta = train(X_train, y_train)\n",
    "print('theta: ', theta)"
   ]
  },
  {
   "cell_type": "code",
   "execution_count": 5,
   "metadata": {
    "collapsed": false
   },
   "outputs": [
    {
     "data": {
      "image/png": "[encoded data removed]",
      "text/plain": [
       "<matplotlib.figure.Figure at 0x11b27d128>"
      ]
     },
     "metadata": {},
     "output_type": "display_data"
    }
   ],
   "source": [
    "from matplotlib import cm\n",
    "\n",
    "def plot_boundary(X, pred):\n",
    "    \n",
    "    x_min, x_max = X[:,0].min(), X[:,0].max()\n",
    "    y_min, y_max = X[:,1].min(), X[:,1].max()\n",
    "    \n",
    "    xs, ys = np.meshgrid(\n",
    "        np.linspace(x_min, x_max, 100),\n",
    "        np.linspace(y_min, y_max, 100)\n",
    "    )\n",
    "\n",
    "    xys = np.column_stack([xs.ravel(), ys.ravel()])\n",
    "    zs = pred(xys).reshape(xs.shape)\n",
    "\n",
    "    plt.contour(xs, ys, zs, colors='black')\n",
    "    \n",
    "def predict(X, theta):\n",
    "    X = np.insert(X, 0, np.ones(len(X)), axis=1)\n",
    "    return sigmoid(X * np.matrix(theta).T) >= 0.5\n",
    "    \n",
    "plot_points(X_train, y_train)\n",
    "plot_boundary(X_train, lambda x: predict(x, theta))"
   ]
  },
  {
   "cell_type": "code",
   "execution_count": 6,
   "metadata": {
    "collapsed": false
   },
   "outputs": [
    {
     "data": {
      "image/png": "[encoded data removed]",
      "text/plain": [
       "<matplotlib.figure.Figure at 0x10dcc1518>"
      ]
     },
     "metadata": {},
     "output_type": "display_data"
    }
   ],
   "source": [
    "plot_boundary(X_test, lambda x: predict(x, theta))\n",
    "plot_points(X_test, y_test)"
   ]
  },
  {
   "cell_type": "code",
   "execution_count": 7,
   "metadata": {
    "collapsed": false
   },
   "outputs": [
    {
     "name": "stdout",
     "output_type": "stream",
     "text": [
      "accuracy: 0.777777777778\n",
      "precision: 0.723214285714\n",
      "recall: 0.692307692308\n"
     ]
    }
   ],
   "source": [
    "from sklearn.metrics import accuracy_score, precision_score, recall_score\n",
    "\n",
    "predictions = predict(X_test, theta)\n",
    "\n",
    "print('accuracy:', accuracy_score(y_test, predictions))\n",
    "print('precision:', precision_score(y_test, predictions, average='macro'))\n",
    "print('recall:', recall_score(y_test, predictions, average='macro'))"
   ]
  },
  {
   "cell_type": "code",
   "execution_count": 8,
   "metadata": {
    "collapsed": false
   },
   "outputs": [
    {
     "data": {
      "image/png": "[encoded data removed]",
      "text/plain": [
       "<matplotlib.figure.Figure at 0x11b4e8358>"
      ]
     },
     "metadata": {},
     "output_type": "display_data"
    }
   ],
   "source": [
    "X = data.as_matrix(columns=['alcohol', 'flavanoids'])\n",
    "y = data.as_matrix(columns=['class'])\n",
    "X_train, X_test, y_train, y_test = train_test_split(X, y, test_size=0.2)\n",
    "y_train = label_binarize(y_train, [1, 2, 3])\n",
    "\n",
    "plot_points(X_train, y_train.argmax(axis=1))"
   ]
  },
  {
   "cell_type": "code",
   "execution_count": 9,
   "metadata": {
    "collapsed": false
   },
   "outputs": [
    {
     "data": {
      "image/png": "[encoded data removed]",
      "text/plain": [
       "<matplotlib.figure.Figure at 0x11b2cd828>"
      ]
     },
     "metadata": {},
     "output_type": "display_data"
    }
   ],
   "source": [
    "def train(X, y):\n",
    "    X = np.insert(X, 0, np.ones(len(X)), axis=1)\n",
    "    result = fmin_tnc(func=cost, x0=np.zeros(3), fprime=gradient, args=(X, y))\n",
    "    return np.matrix(result[0])\n",
    "\n",
    "def predict_multilabel(X, thetas):\n",
    "    X = np.insert(X, 0, np.ones(len(X)), axis=1)\n",
    "    preds = [sigmoid(X * np.asmatrix(t).T) for t in thetas]\n",
    "    return np.column_stack(preds).argmax(axis=1)\n",
    "\n",
    "thetas = [train(X_train, y_train[:,i]) for i in range(0,3)]\n",
    "\n",
    "plot_points(X_train, y_train.argmax(axis=1))\n",
    "plot_boundary(X_train, lambda x: predict_multilabel(x, thetas))"
   ]
  },
  {
   "cell_type": "code",
   "execution_count": 10,
   "metadata": {
    "collapsed": false
   },
   "outputs": [
    {
     "name": "stdout",
     "output_type": "stream",
     "text": [
      "accuracy: 0.916666666667\n",
      "precision: 0.947368421053\n",
      "recall: 0.928571428571\n"
     ]
    }
   ],
   "source": [
    "predictions = predict_multilabel(X_test, thetas) + 1\n",
    "\n",
    "print('accuracy:', accuracy_score(y_test, predictions))\n",
    "print('precision:', precision_score(y_test, predictions, average='macro'))\n",
    "print('recall:', recall_score(y_test, predictions, average='macro'))"
   ]
  },
  {
   "cell_type": "code",
   "execution_count": 11,
   "metadata": {
    "collapsed": false
   },
   "outputs": [
    {
     "data": {
      "image/png": "[encoded data removed]",
      "text/plain": [
       "<matplotlib.figure.Figure at 0x11b5ab320>"
      ]
     },
     "metadata": {},
     "output_type": "display_data"
    }
   ],
   "source": [
    "def transform(x):\n",
    "    return [x[0], x[1], x[0] ** 2, x[1] ** 2, x[0] * x[1]]\n",
    "\n",
    "def train(X, y):\n",
    "    \n",
    "    X = np.insert(X, 0, np.ones(len(X)), axis=1)\n",
    "\n",
    "    #print(X)\n",
    "    result = fmin_tnc(func=cost, x0=np.zeros(6), fprime=gradient, args=(X, y))\n",
    "    return np.matrix(result[0])\n",
    "\n",
    "def xplot(X):\n",
    "    return np.apply_along_axis(transform, 1, X)\n",
    "\n",
    "X_train_m = np.apply_along_axis(transform, 1, X_train)\n",
    "thetas = [train(X_train_m, y_train[:,i]) for i in range(0,3)]\n",
    "\n",
    "plot_points(X_train_m, y_train.argmax(axis=1))\n",
    "plot_boundary(X_train_m, lambda x: predict_multilabel(xplot(x), thetas))"
   ]
  },
  {
   "cell_type": "code",
   "execution_count": 12,
   "metadata": {
    "collapsed": false
   },
   "outputs": [
    {
     "name": "stdout",
     "output_type": "stream",
     "text": [
      "accuracy: 0.944444444444\n",
      "precision: 0.955357142857\n",
      "recall: 0.955357142857\n"
     ]
    }
   ],
   "source": [
    "predictions = predict_multilabel(xplot(X_test), thetas) + 1\n",
    "\n",
    "print('accuracy:', accuracy_score(y_test, predictions))\n",
    "print('precision:', precision_score(y_test, predictions, average='macro'))\n",
    "print('recall:', recall_score(y_test, predictions, average='macro'))"
   ]
  },
  {
   "cell_type": "code",
   "execution_count": 13,
   "metadata": {
    "collapsed": false
   },
   "outputs": [
    {
     "name": "stdout",
     "output_type": "stream",
     "text": [
      "accuracy: 0.972222222222\n",
      "precision: 0.966666666667\n",
      "recall: 0.980392156863\n"
     ]
    }
   ],
   "source": [
    "X = data.drop('class', 1).as_matrix()\n",
    "y = data.as_matrix(columns=['class'])\n",
    "X_train, X_test, y_train, y_test = train_test_split(X, y, test_size=0.2)\n",
    "y_train = label_binarize(y_train, [1, 2, 3])\n",
    "\n",
    "def cost_reg(theta, X, y, l):\n",
    "    return cost(theta, X, y) + np.square(theta).sum() / (2 * len(X))\n",
    "\n",
    "def gradient2(theta, X, y, l):\n",
    "    return gradient(theta, X, y) + np.matrix(theta).T / len(X)\n",
    "\n",
    "def train(X, y):\n",
    "    X = np.insert(X, 0, np.ones(len(X)), axis=1)\n",
    "    return fmin_tnc(func=cost_reg, x0=np.zeros(14), fprime=gradient2, args=(X, y, 1.0))[0]\n",
    "\n",
    "thetas = [train(X_train, y_train[:,i]) for i in range(0,3)]\n",
    "predictions = predict_multilabel(X_test, thetas) + 1\n",
    "\n",
    "print('accuracy:', accuracy_score(y_test, predictions))\n",
    "print('precision:', precision_score(y_test, predictions, average='macro'))\n",
    "print('recall:', recall_score(y_test, predictions, average='macro'))"
   ]
  },
  {
   "cell_type": "code",
   "execution_count": null,
   "metadata": {
    "collapsed": true
   },
   "outputs": [],
   "source": []
  },
  {
   "cell_type": "code",
   "execution_count": null,
   "metadata": {
    "collapsed": true
   },
   "outputs": [],
   "source": []
  }
 ],
 "metadata": {
  "anaconda-cloud": {},
  "kernelspec": {
   "display_name": "Python [default]",
   "language": "python",
   "name": "python3"
  },
  "language_info": {
   "codemirror_mode": {
    "name": "ipython",
    "version": 3
   },
   "file_extension": ".py",
   "mimetype": "text/x-python",
   "name": "python",
   "nbconvert_exporter": "python",
   "pygments_lexer": "ipython3",
   "version": "3.5.2"
  }
 },
 "nbformat": 4,
 "nbformat_minor": 2
}
