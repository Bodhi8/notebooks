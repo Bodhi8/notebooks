{
 "cells": [
  {
   "cell_type": "code",
   "execution_count": 1,
   "metadata": {
    "collapsed": false
   },
   "outputs": [],
   "source": [
    "import pandas as pd\n",
    "import numpy as np\n",
    "from sklearn.preprocessing import label_binarize\n",
    "import tensorflow as tf\n",
    "import matplotlib.pyplot as plt\n",
    "from sklearn.metrics import accuracy_score, precision_score, recall_score\n",
    "%matplotlib inline"
   ]
  },
  {
   "cell_type": "code",
   "execution_count": null,
   "metadata": {
    "collapsed": true
   },
   "outputs": [],
   "source": [
    "MARKERS = ['+', 'x', '.']\n",
    "COLORS = ['red', 'green', 'blue']\n",
    "\n",
    "def plot_points(xy, labels):\n",
    "    \n",
    "    for i, label in enumerate(set(labels.flatten())):\n",
    "        points = np.matrix([xy[j,:] for j in range(len(xy)) if labels[j] == label])\n",
    "        marker = MARKERS[i % len(MARKERS)]\n",
    "        color = COLORS[i % len(COLORS)]\n",
    "        plt.scatter(points[:,0], points[:,1], marker=marker, color=color)\n",
    "\n",
    "def plot_boundary(X, fn):\n",
    "    \n",
    "    x_min, x_max = X[:,0].min(), X[:,0].max()\n",
    "    y_min, y_max = X[:,1].min(), X[:,1].max()\n",
    "    xx, yy = np.meshgrid(\n",
    "        np.linspace(x_min, x_max, 100),\n",
    "        np.linspace(y_min, y_max, 100)\n",
    "    )\n",
    "\n",
    "    inputs = np.c_[xx.ravel(), yy.ravel()]\n",
    "    inputs = np.apply_along_axis(transform_data, 1, inputs)\n",
    "    \n",
    "    predictions = fn(inputs)\n",
    "    predictions = predictions.argmax(axis=1).reshape(xx.shape)\n",
    "\n",
    "    plt.contour(xx, yy, predictions, colors='black')"
   ]
  },
  {
   "cell_type": "code",
   "execution_count": 2,
   "metadata": {
    "collapsed": true
   },
   "outputs": [],
   "source": [
    "def transform_data(x):\n",
    "    return [x[0], x[1], x[0] ** 2, x[1] ** 2, x[0] * x[1]]\n",
    "    #return x\n",
    "\n",
    "data = pd.read_csv('data.txt')\n",
    "XX = data.as_matrix(columns=['alcohol', 'ash'])\n",
    "yy = label_binarize(data['class'], [1, 2, 3])[:,0]\n",
    "yy = np.array(yy.flatten()).ravel()\n",
    "\n",
    "training_in = np.array(\n",
    "    [[0, 0], [1, 1], [2, 0], [-2, 0], [-1, -1], [-1, 1], [-1.5, 1], [3, 3], [3, 0], [-3, 0], [0, -3], [-1, 3], [1, -2],\n",
    "     [-2, -1.5]])\n",
    "training_out = np.array([1, 1, 1, 1, 1, 1, 1, 0, 0, 0, 0, 0, 0, 0])\n",
    "\n",
    "training_in = np.apply_along_axis(transform_data, 1, training_in)"
   ]
  },
  {
   "cell_type": "code",
   "execution_count": 16,
   "metadata": {
    "collapsed": false
   },
   "outputs": [
    {
     "name": "stdout",
     "output_type": "stream",
     "text": [
      "weights: [[ 0.03819401 -0.03819406]\n",
      " [-0.46417567  0.46417558]\n",
      " [ 0.2945329  -0.29453287]\n",
      " [ 0.50102645 -0.50102645]\n",
      " [-0.02016737  0.02016742]]\n",
      "bias: [-1.70335269  1.70335269]\n",
      "predict: [1 1 1 1 1 1 1 0 0 0 0 0 0 0]\n",
      "accuracy: 1.0\n",
      "precision: 1.0\n",
      "recall: 1.0\n"
     ]
    },
    {
     "data": {
      "image/png": "[encoded data removed]",
      "text/plain": [
       "<matplotlib.figure.Figure at 0x1150494e0>"
      ]
     },
     "metadata": {},
     "output_type": "display_data"
    }
   ],
   "source": [
    "n_features = training_in.shape[1]\n",
    "n_labels = len(set(training_out))\n",
    "\n",
    "x = tf.placeholder(tf.float32, [None, n_features], name='X')\n",
    "y = tf.placeholder(tf.int32, [None], name='y')\n",
    "\n",
    "W = tf.Variable(tf.zeros([n_features, n_labels]), name='W')\n",
    "b = tf.Variable(tf.zeros([n_labels]), name='b')\n",
    "\n",
    "logits = tf.matmul(x, W) + b\n",
    "guess = tf.nn.softmax(logits)\n",
    "sm = tf.nn.sparse_softmax_cross_entropy_with_logits(logits=logits, labels=y)\n",
    "cost = tf.reduce_mean(sm)\n",
    "opti = tf.train.GradientDescentOptimizer(0.01).minimize(cost)\n",
    "\n",
    "init = tf.global_variables_initializer()\n",
    "\n",
    "with tf.Session() as sess:\n",
    "    sess.run(init)\n",
    "\n",
    "    for i in range(2000):\n",
    "        sess.run(opti, feed_dict={x: training_in, y: training_out})\n",
    "        \n",
    "    print('weights:', sess.run(W))\n",
    "    print('bias:', sess.run(b))\n",
    "\n",
    "    p = sess.run(guess, feed_dict={x: training_in}).argmax(axis=1)\n",
    "    print('predict:', p)\n",
    "    print('accuracy:', accuracy_score(training_out, p))\n",
    "    print('precision:', precision_score(training_out, p, average='macro'))\n",
    "    print('recall:', recall_score(training_out, p, average='macro'))\n",
    "    \n",
    "    def predict(inputs):\n",
    "        return sess.run(guess, feed_dict={x: inputs})\n",
    "    \n",
    "    plt.show()\n",
    "    plot_boundary(training_in, predict)\n",
    "    plot_points(training_in, training_out)"
   ]
  },
  {
   "cell_type": "code",
   "execution_count": null,
   "metadata": {
    "collapsed": true
   },
   "outputs": [],
   "source": []
  }
 ],
 "metadata": {
  "anaconda-cloud": {},
  "kernelspec": {
   "display_name": "Python 3",
   "language": "python",
   "name": "python3"
  },
  "language_info": {
   "codemirror_mode": {
    "name": "ipython",
    "version": 3
   },
   "file_extension": ".py",
   "mimetype": "text/x-python",
   "name": "python",
   "nbconvert_exporter": "python",
   "pygments_lexer": "ipython3",
   "version": "3.6.0"
  }
 },
 "nbformat": 4,
 "nbformat_minor": 0
}
