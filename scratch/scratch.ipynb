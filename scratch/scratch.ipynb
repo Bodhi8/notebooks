{
 "cells": [
  {
   "cell_type": "code",
   "execution_count": 1,
   "metadata": {
    "collapsed": false
   },
   "outputs": [],
   "source": [
    "import pandas as pd\n",
    "import numpy as np\n",
    "from sklearn.preprocessing import label_binarize\n",
    "import tensorflow as tf\n",
    "import numpy\n",
    "import matplotlib.pyplot as plt\n",
    "\n",
    "data = pd.read_csv('data.txt')\n",
    "XX = np.array(data.as_matrix(columns=['alcohol', 'ash']))\n",
    "#yy = np.array([i - 1 for i in data['class'].values])\n",
    "yy = np.matrix(label_binarize(data['class'], [1, 2, 3]))[:,0]\n",
    "yy = np.array(yy.flatten()).ravel()\n",
    "#print(yy.ravel())"
   ]
  },
  {
   "cell_type": "code",
   "execution_count": 13,
   "metadata": {
    "collapsed": false
   },
   "outputs": [
    {
     "name": "stdout",
     "output_type": "stream",
     "text": [
      "[[ 0.   0. ]\n",
      " [ 1.   1. ]\n",
      " [ 2.   0. ]\n",
      " [-2.   0. ]\n",
      " [-1.  -1. ]\n",
      " [-1.   1. ]\n",
      " [-1.5  1. ]\n",
      " [ 3.   3. ]\n",
      " [ 3.   0. ]\n",
      " [-3.   0. ]\n",
      " [ 0.  -3. ]\n",
      " [-1.   3. ]\n",
      " [ 1.  -2. ]\n",
      " [-2.  -1.5]]\n",
      "[[  1.98247954e-02  -1.98245253e-02]\n",
      " [ -7.37038672e-01   7.37038374e-01]\n",
      " [  6.14542782e-01  -6.14540339e-01]\n",
      " [  9.76902068e-01  -9.76900697e-01]\n",
      " [ -6.20813924e-04   6.21083658e-04]]\n",
      "[-3.75999165  3.75999284]\n",
      "res 1\n",
      "res 1\n",
      "res 1\n",
      "res 1\n",
      "res 1\n",
      "res 1\n",
      "res 1\n",
      "res 0\n",
      "res 0\n",
      "res 0\n",
      "res 0\n",
      "res 0\n",
      "res 0\n",
      "res 0\n"
     ]
    },
    {
     "data": {
      "image/png": "[encoded data removed]",
      "text/plain": [
       "<matplotlib.figure.Figure at 0x11d0d5cc0>"
      ]
     },
     "metadata": {},
     "output_type": "display_data"
    },
    {
     "name": "stdout",
     "output_type": "stream",
     "text": [
      "[0 0 0 0 0 0 0 0 0 0]\n",
      "\n"
     ]
    }
   ],
   "source": [
    "training_in = numpy.array(\n",
    "    [[0, 0], [1, 1], [2, 0], [-2, 0], [-1, -1], [-1, 1], [-1.5, 1], [3, 3], [3, 0], [-3, 0], [0, -3], [-1, 3], [1, -2],\n",
    "     [-2, -1.5]])\n",
    "training_out = numpy.array([1, 1, 1, 1, 1, 1, 1, 0, 0, 0, 0, 0, 0, 0])\n",
    "print(training_in)\n",
    "\n",
    "def transform_data(x):\n",
    "    return [x[0], x[1], x[0] ** 2, x[1] ** 2, x[0] * x[1]]\n",
    "\n",
    "new_training_in = numpy.apply_along_axis(transform_data, 1, training_in)\n",
    "\n",
    "feature_count = new_training_in.shape[1]\n",
    "\n",
    "x = tf.placeholder(tf.float32, [None, feature_count])\n",
    "y = tf.placeholder(tf.int32, [None])\n",
    "\n",
    "W = tf.Variable(tf.zeros([feature_count, 2]))\n",
    "b = tf.Variable(tf.zeros([2]))\n",
    "\n",
    "guess = tf.nn.softmax(tf.matmul(x, W) + b)\n",
    "\n",
    "cost = tf.reduce_mean(tf.nn.sparse_softmax_cross_entropy_with_logits(logits=tf.matmul(x, W) + b, labels=y))\n",
    "\n",
    "opti = tf.train.GradientDescentOptimizer(0.01).minimize(cost)\n",
    "\n",
    "init = tf.global_variables_initializer()\n",
    "sess = tf.Session()\n",
    "sess.run(init)\n",
    "\n",
    "for i in range(1000):\n",
    "    for (item_x, item_y) in zip(new_training_in, training_out):\n",
    "        sess.run(opti, feed_dict={x: [item_x], y: [item_y]})\n",
    "\n",
    "print(sess.run(W))\n",
    "print(sess.run(b))\n",
    "\n",
    "plt.plot(training_in[:6, 0], training_in[:6, 1], 'bo')\n",
    "plt.plot(training_in[6:, 0], training_in[6:, 1], 'rx')\n",
    "\n",
    "def predict(inputs):\n",
    "    return sess.run(guess, feed_dict={x: inputs})\n",
    "\n",
    "results = sess.run(guess, feed_dict={x: new_training_in})\n",
    "\n",
    "for i in range(training_in.shape[0]):\n",
    "    xx = [training_in[i:, 0]]\n",
    "    yy = [training_in[i:, 1]]\n",
    "    res = results[i]\n",
    "\n",
    "    # this always prints `[ 1.]`\n",
    "    print('res', res.argmax())\n",
    "\n",
    "    # uncomment these lines to see the guesses\n",
    "    #if res[0] == 0:\n",
    "    #    plt.plot(xx, yy, 'c+')\n",
    "    #else:\n",
    "    #    plt.plot(xx, yy, 'g+')\n",
    "plt.show()\n",
    "def plot_boundary(X):\n",
    "    \n",
    "    x_min, x_max = X[:,0].min(), X[:,0].max()\n",
    "    y_min, y_max = X[:,1].min(), X[:,1].max()\n",
    "    xx, yy = np.meshgrid(\n",
    "        np.linspace(x_min, x_max, 100),\n",
    "        np.linspace(y_min, y_max, 100)\n",
    "    )\n",
    "\n",
    "    inputs = np.c_[xx.ravel(), yy.ravel()]\n",
    "    new_inputs = numpy.apply_along_axis(transform_data, 1, inputs)\n",
    "    predictions = predict(new_inputs)\n",
    "    print(predictions[0:10,0:10].argmax(axis=1))\n",
    "    #print(predictions.argmax(axis=1)[0:10,:])\n",
    "    print()\n",
    "    predictions = predictions.argmax(axis=1).reshape(xx.shape)\n",
    "\n",
    "    plt.contour(xx, yy, predictions, colors='black', nchunk=50)#, antialiased=True)\n",
    "    \n",
    "plot_boundary(training_in)"
   ]
  },
  {
   "cell_type": "code",
   "execution_count": null,
   "metadata": {
    "collapsed": true
   },
   "outputs": [],
   "source": []
  }
 ],
 "metadata": {
  "anaconda-cloud": {},
  "kernelspec": {
   "display_name": "Python [default]",
   "language": "python",
   "name": "python3"
  },
  "language_info": {
   "codemirror_mode": {
    "name": "ipython",
    "version": 3
   },
   "file_extension": ".py",
   "mimetype": "text/x-python",
   "name": "python",
   "nbconvert_exporter": "python",
   "pygments_lexer": "ipython3",
   "version": "3.5.2"
  }
 },
 "nbformat": 4,
 "nbformat_minor": 0
}
