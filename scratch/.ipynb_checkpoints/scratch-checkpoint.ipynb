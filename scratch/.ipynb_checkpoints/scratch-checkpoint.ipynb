{
 "cells": [
  {
   "cell_type": "code",
   "execution_count": 1,
   "metadata": {
    "collapsed": false
   },
   "outputs": [],
   "source": [
    "import pandas as pd\n",
    "import numpy as np\n",
    "from sklearn.preprocessing import label_binarize\n",
    "import tensorflow as tf\n",
    "import matplotlib.pyplot as plt\n",
    "from sklearn.metrics import accuracy_score, precision_score, recall_score\n",
    "%matplotlib inline"
   ]
  },
  {
   "cell_type": "code",
   "execution_count": 2,
   "metadata": {
    "collapsed": true
   },
   "outputs": [],
   "source": [
    "MARKERS = ['+', 'x', '.']\n",
    "COLORS = ['red', 'green', 'blue']\n",
    "\n",
    "def plot_points(xy, labels):\n",
    "    \n",
    "    for i, label in enumerate(set(labels.flatten())):\n",
    "        points = np.matrix([xy[j,:] for j in range(len(xy)) if labels[j] == label])\n",
    "        marker = MARKERS[i % len(MARKERS)]\n",
    "        color = COLORS[i % len(COLORS)]\n",
    "        plt.scatter(points[:,0], points[:,1], marker=marker, color=color)\n",
    "\n",
    "def plot_boundary(X, fn):\n",
    "    \n",
    "    x_min, x_max = X[:,0].min(), X[:,0].max()\n",
    "    y_min, y_max = X[:,1].min(), X[:,1].max()\n",
    "    xx, yy = np.meshgrid(\n",
    "        np.linspace(x_min, x_max, 100),\n",
    "        np.linspace(y_min, y_max, 100)\n",
    "    )\n",
    "\n",
    "    inputs = np.c_[xx.ravel(), yy.ravel()]\n",
    "    inputs = np.apply_along_axis(transform_data, 1, inputs)\n",
    "    \n",
    "    predictions = fn(inputs)\n",
    "    predictions = predictions.argmax(axis=1).reshape(xx.shape)\n",
    "\n",
    "    plt.contour(xx, yy, predictions, colors='black')"
   ]
  },
  {
   "cell_type": "code",
   "execution_count": 5,
   "metadata": {
    "collapsed": false
   },
   "outputs": [],
   "source": [
    "def transform_data(x):\n",
    "    values = [[i, i**2] for i in x]\n",
    "    values = [i for pair in values for i in pair]\n",
    "    #print(values)\n",
    "    #return [item for sublist in l for item in sublist]\n",
    "    #return [x[0], x[1], x[0] ** 2, x[1] ** 2]\n",
    "    #return values\n",
    "    return x\n",
    "\n",
    "data = pd.read_csv('data.txt')\n",
    "XX = data.as_matrix(columns=['alcohol', 'flavanoids'])\n",
    "#XX = data.drop('class', 1).as_matrix()\n",
    "#yy = label_binarize(data['class'], [1, 2, 3])[:,0]\n",
    "#yy = np.array(yy.flatten()).ravel()\n",
    "yy = np.array([i - 1 for i in data['class']])\n",
    "\n",
    "training_in = XX\n",
    "training_out = yy\n",
    "training_in = np.apply_along_axis(transform_data, 1, training_in)\n",
    "training_out = label_binarize(data['class'], [1, 2, 3])"
   ]
  },
  {
   "cell_type": "code",
   "execution_count": 6,
   "metadata": {
    "collapsed": false
   },
   "outputs": [
    {
     "name": "stdout",
     "output_type": "stream",
     "text": [
      "weights: [[ 4.57513571 -6.97823238  2.40483356]\n",
      " [ 7.23694754  2.7342062  -9.97091579]]\n",
      "bias: [-71.89368439  86.05293274 -14.1595583 ]\n",
      "cost: 0.480514\n",
      "predict: [0 0 0 0 0 0 0 0 0 0 0 0 0 0 0 0 0 0 0 0 0 0 0 0 0 0 0 0 0 0 0 0 0 0 0 0 0\n",
      " 0 0 0 0 0 0 0 0 0 0 0 0 0 0 0 0 0 0 0 0 0 0 2 2 2 0 1 1 1 0 1 2 1 2 0 0 0\n",
      " 1 1 0 1 1 0 1 0 1 2 1 1 1 1 1 1 1 1 2 1 1 1 1 1 0 1 1 2 1 1 1 1 1 1 1 1 1\n",
      " 1 1 1 1 1 1 1 2 1 1 1 1 0 1 1 1 1 1 1 2 2 2 2 2 2 2 2 2 2 2 2 2 2 2 2 2 2\n",
      " 2 2 2 2 2 2 2 2 2 2 2 2 2 2 2 2 2 2 2 2 2 2 2 2 2 2 2 2 2 2]\n",
      "accuracy: 0.893258426966\n",
      "precision: 0.899059242309\n",
      "recall: 0.910798122066\n"
     ]
    },
    {
     "data": {
      "image/png": "[encoded data removed]",
      "text/plain": [
       "<matplotlib.figure.Figure at 0x1216e8668>"
      ]
     },
     "metadata": {},
     "output_type": "display_data"
    }
   ],
   "source": [
    "n_features = training_in.shape[1]\n",
    "n_labels = training_out.shape[1]\n",
    "\n",
    "x = tf.placeholder(tf.float32, [None, n_features], name='X')\n",
    "y = tf.placeholder(tf.int32, [None, n_labels], name='y')\n",
    "\n",
    "W = tf.Variable(tf.zeros([n_features, n_labels]), name='W')\n",
    "b = tf.Variable(tf.zeros([n_labels]), name='b')\n",
    "\n",
    "logits = tf.matmul(x, W) + b\n",
    "predict = tf.nn.softmax(logits)\n",
    "cost = tf.reduce_mean(tf.nn.softmax_cross_entropy_with_logits(logits=logits, labels=y))\n",
    "opti = tf.train.GradientDescentOptimizer(0.3).minimize(cost)\n",
    "\n",
    "init = tf.global_variables_initializer()\n",
    "\n",
    "with tf.Session() as sess:\n",
    "    sess.run(init)\n",
    "\n",
    "    for i in range(60000):\n",
    "        sess.run(opti, feed_dict={x: training_in, y: training_out})\n",
    "        \n",
    "    print('weights:', sess.run(W))\n",
    "    print('bias:', sess.run(b))\n",
    "\n",
    "    p = sess.run(predict, feed_dict={x: training_in}).argmax(axis=1)\n",
    "    c = sess.run(cost, feed_dict={x: training_in, y: training_out})\n",
    "    print('cost:', c)\n",
    "    print('predict:', p)\n",
    "    print('accuracy:', accuracy_score(training_out.argmax(axis=1), p))\n",
    "    print('precision:', precision_score(training_out.argmax(axis=1), p, average='macro'))\n",
    "    print('recall:', recall_score(training_out.argmax(axis=1), p, average='macro'))\n",
    "    \n",
    "    def pred(inputs):\n",
    "        return sess.run(predict, feed_dict={x: inputs})\n",
    "    \n",
    "    plt.show()\n",
    "    plot_boundary(training_in, pred)\n",
    "    plot_points(training_in, training_out.argmax(axis=1))"
   ]
  },
  {
   "cell_type": "code",
   "execution_count": null,
   "metadata": {
    "collapsed": true
   },
   "outputs": [],
   "source": []
  }
 ],
 "metadata": {
  "anaconda-cloud": {},
  "kernelspec": {
   "display_name": "Python 3",
   "language": "python",
   "name": "python3"
  },
  "language_info": {
   "codemirror_mode": {
    "name": "ipython",
    "version": 3
   },
   "file_extension": ".py",
   "mimetype": "text/x-python",
   "name": "python",
   "nbconvert_exporter": "python",
   "pygments_lexer": "ipython3",
   "version": "3.6.0"
  }
 },
 "nbformat": 4,
 "nbformat_minor": 0
}
